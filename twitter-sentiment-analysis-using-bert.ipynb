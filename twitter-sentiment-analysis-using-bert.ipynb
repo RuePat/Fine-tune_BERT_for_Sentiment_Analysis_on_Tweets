{
 "cells": [
  {
   "cell_type": "code",
   "execution_count": 1,
   "id": "4d8f51d7",
   "metadata": {
    "execution": {
     "iopub.execute_input": "2023-07-07T02:23:35.042506Z",
     "iopub.status.busy": "2023-07-07T02:23:35.042126Z",
     "iopub.status.idle": "2023-07-07T02:23:46.975667Z",
     "shell.execute_reply": "2023-07-07T02:23:46.974552Z"
    },
    "papermill": {
     "duration": 11.948855,
     "end_time": "2023-07-07T02:23:46.978241",
     "exception": false,
     "start_time": "2023-07-07T02:23:35.029386",
     "status": "completed"
    },
    "tags": []
   },
   "outputs": [
    {
     "name": "stdout",
     "output_type": "stream",
     "text": [
      "Requirement already satisfied: transformers in /opt/conda/lib/python3.10/site-packages (4.30.1)\r\n",
      "Requirement already satisfied: filelock in /opt/conda/lib/python3.10/site-packages (from transformers) (3.12.0)\r\n",
      "Requirement already satisfied: huggingface-hub<1.0,>=0.14.1 in /opt/conda/lib/python3.10/site-packages (from transformers) (0.15.1)\r\n",
      "Requirement already satisfied: numpy>=1.17 in /opt/conda/lib/python3.10/site-packages (from transformers) (1.23.5)\r\n",
      "Requirement already satisfied: packaging>=20.0 in /opt/conda/lib/python3.10/site-packages (from transformers) (21.3)\r\n",
      "Requirement already satisfied: pyyaml>=5.1 in /opt/conda/lib/python3.10/site-packages (from transformers) (5.4.1)\r\n",
      "Requirement already satisfied: regex!=2019.12.17 in /opt/conda/lib/python3.10/site-packages (from transformers) (2023.5.5)\r\n",
      "Requirement already satisfied: requests in /opt/conda/lib/python3.10/site-packages (from transformers) (2.28.2)\r\n",
      "Requirement already satisfied: tokenizers!=0.11.3,<0.14,>=0.11.1 in /opt/conda/lib/python3.10/site-packages (from transformers) (0.13.3)\r\n",
      "Requirement already satisfied: safetensors>=0.3.1 in /opt/conda/lib/python3.10/site-packages (from transformers) (0.3.1)\r\n",
      "Requirement already satisfied: tqdm>=4.27 in /opt/conda/lib/python3.10/site-packages (from transformers) (4.64.1)\r\n",
      "Requirement already satisfied: fsspec in /opt/conda/lib/python3.10/site-packages (from huggingface-hub<1.0,>=0.14.1->transformers) (2023.6.0)\r\n",
      "Requirement already satisfied: typing-extensions>=3.7.4.3 in /opt/conda/lib/python3.10/site-packages (from huggingface-hub<1.0,>=0.14.1->transformers) (4.5.0)\r\n",
      "Requirement already satisfied: pyparsing!=3.0.5,>=2.0.2 in /opt/conda/lib/python3.10/site-packages (from packaging>=20.0->transformers) (3.0.9)\r\n",
      "Requirement already satisfied: charset-normalizer<4,>=2 in /opt/conda/lib/python3.10/site-packages (from requests->transformers) (2.1.1)\r\n",
      "Requirement already satisfied: idna<4,>=2.5 in /opt/conda/lib/python3.10/site-packages (from requests->transformers) (3.4)\r\n",
      "Requirement already satisfied: urllib3<1.27,>=1.21.1 in /opt/conda/lib/python3.10/site-packages (from requests->transformers) (1.26.15)\r\n",
      "Requirement already satisfied: certifi>=2017.4.17 in /opt/conda/lib/python3.10/site-packages (from requests->transformers) (2023.5.7)\r\n",
      "\u001b[33mWARNING: Running pip as the 'root' user can result in broken permissions and conflicting behaviour with the system package manager. It is recommended to use a virtual environment instead: https://pip.pypa.io/warnings/venv\u001b[0m\u001b[33m\r\n",
      "\u001b[0m"
     ]
    }
   ],
   "source": [
    "!pip install transformers"
   ]
  },
  {
   "cell_type": "code",
   "execution_count": 2,
   "id": "680fdd0f",
   "metadata": {
    "execution": {
     "iopub.execute_input": "2023-07-07T02:23:47.002498Z",
     "iopub.status.busy": "2023-07-07T02:23:47.002156Z",
     "iopub.status.idle": "2023-07-07T02:24:01.087515Z",
     "shell.execute_reply": "2023-07-07T02:24:01.086526Z"
    },
    "papermill": {
     "duration": 14.100972,
     "end_time": "2023-07-07T02:24:01.090810",
     "exception": false,
     "start_time": "2023-07-07T02:23:46.989838",
     "status": "completed"
    },
    "tags": []
   },
   "outputs": [
    {
     "name": "stderr",
     "output_type": "stream",
     "text": [
      "/opt/conda/lib/python3.10/site-packages/tensorflow_io/python/ops/__init__.py:98: UserWarning: unable to load libtensorflow_io_plugins.so: unable to open file: libtensorflow_io_plugins.so, from paths: ['/opt/conda/lib/python3.10/site-packages/tensorflow_io/python/ops/libtensorflow_io_plugins.so']\n",
      "caused by: ['/opt/conda/lib/python3.10/site-packages/tensorflow_io/python/ops/libtensorflow_io_plugins.so: undefined symbol: _ZN3tsl6StatusC1EN10tensorflow5error4CodeESt17basic_string_viewIcSt11char_traitsIcEENS_14SourceLocationE']\n",
      "  warnings.warn(f\"unable to load libtensorflow_io_plugins.so: {e}\")\n",
      "/opt/conda/lib/python3.10/site-packages/tensorflow_io/python/ops/__init__.py:104: UserWarning: file system plugins are not loaded: unable to open file: libtensorflow_io.so, from paths: ['/opt/conda/lib/python3.10/site-packages/tensorflow_io/python/ops/libtensorflow_io.so']\n",
      "caused by: ['/opt/conda/lib/python3.10/site-packages/tensorflow_io/python/ops/libtensorflow_io.so: undefined symbol: _ZTVN10tensorflow13GcsFileSystemE']\n",
      "  warnings.warn(f\"file system plugins are not loaded: {e}\")\n"
     ]
    }
   ],
   "source": [
    "import torch\n",
    "from torch.utils.data import TensorDataset, DataLoader, RandomSampler, SequentialSampler\n",
    "from transformers import BertTokenizer, BertForSequenceClassification\n",
    "from sklearn.model_selection import train_test_split\n",
    "\n",
    "import pandas as pd\n",
    "import numpy as np\n",
    "\n",
    "from tabulate import tabulate\n",
    "from tqdm import trange\n",
    "import random"
   ]
  },
  {
   "cell_type": "code",
   "execution_count": 3,
   "id": "c0b0dd1e",
   "metadata": {
    "execution": {
     "iopub.execute_input": "2023-07-07T02:24:01.129479Z",
     "iopub.status.busy": "2023-07-07T02:24:01.128912Z",
     "iopub.status.idle": "2023-07-07T02:24:01.219505Z",
     "shell.execute_reply": "2023-07-07T02:24:01.218537Z"
    },
    "papermill": {
     "duration": 0.112271,
     "end_time": "2023-07-07T02:24:01.222362",
     "exception": false,
     "start_time": "2023-07-07T02:24:01.110091",
     "status": "completed"
    },
    "tags": []
   },
   "outputs": [
    {
     "name": "stdout",
     "output_type": "stream",
     "text": [
      "cuda\n"
     ]
    }
   ],
   "source": [
    "device = ('cuda' if torch.cuda.is_available() else 'cpu')\n",
    "print(device)"
   ]
  },
  {
   "cell_type": "markdown",
   "id": "b22cdd38",
   "metadata": {
    "papermill": {
     "duration": 0.035975,
     "end_time": "2023-07-07T02:24:01.276007",
     "exception": false,
     "start_time": "2023-07-07T02:24:01.240032",
     "status": "completed"
    },
    "tags": []
   },
   "source": [
    "Load Data"
   ]
  },
  {
   "cell_type": "code",
   "execution_count": 4,
   "id": "ec9c1ef1",
   "metadata": {
    "execution": {
     "iopub.execute_input": "2023-07-07T02:24:01.323009Z",
     "iopub.status.busy": "2023-07-07T02:24:01.322387Z",
     "iopub.status.idle": "2023-07-07T02:24:01.676078Z",
     "shell.execute_reply": "2023-07-07T02:24:01.675197Z"
    },
    "papermill": {
     "duration": 0.380634,
     "end_time": "2023-07-07T02:24:01.678387",
     "exception": false,
     "start_time": "2023-07-07T02:24:01.297753",
     "status": "completed"
    },
    "tags": []
   },
   "outputs": [
    {
     "data": {
      "text/html": [
       "<div>\n",
       "<style scoped>\n",
       "    .dataframe tbody tr th:only-of-type {\n",
       "        vertical-align: middle;\n",
       "    }\n",
       "\n",
       "    .dataframe tbody tr th {\n",
       "        vertical-align: top;\n",
       "    }\n",
       "\n",
       "    .dataframe thead th {\n",
       "        text-align: right;\n",
       "    }\n",
       "</style>\n",
       "<table border=\"1\" class=\"dataframe\">\n",
       "  <thead>\n",
       "    <tr style=\"text-align: right;\">\n",
       "      <th></th>\n",
       "      <th>id</th>\n",
       "      <th>subject</th>\n",
       "      <th>target</th>\n",
       "      <th>text</th>\n",
       "    </tr>\n",
       "  </thead>\n",
       "  <tbody>\n",
       "    <tr>\n",
       "      <th>68318</th>\n",
       "      <td>3699</td>\n",
       "      <td>Cyberpunk2077</td>\n",
       "      <td>Negative</td>\n",
       "      <td>C. HP Lovecraft + Punk = Scary. caf.tv / divid...</td>\n",
       "    </tr>\n",
       "    <tr>\n",
       "      <th>46265</th>\n",
       "      <td>11939</td>\n",
       "      <td>Verizon</td>\n",
       "      <td>Neutral</td>\n",
       "      <td>competitive watchdog ‘recommends’ to Verizon s...</td>\n",
       "    </tr>\n",
       "    <tr>\n",
       "      <th>28734</th>\n",
       "      <td>544</td>\n",
       "      <td>ApexLegends</td>\n",
       "      <td>Neutral</td>\n",
       "      <td>I'm consistently getting top 5 in</td>\n",
       "    </tr>\n",
       "    <tr>\n",
       "      <th>74270</th>\n",
       "      <td>9127</td>\n",
       "      <td>Nvidia</td>\n",
       "      <td>Positive</td>\n",
       "      <td>RT @ NVIDIACreators: This year on</td>\n",
       "    </tr>\n",
       "    <tr>\n",
       "      <th>5003</th>\n",
       "      <td>59</td>\n",
       "      <td>Amazon</td>\n",
       "      <td>Neutral</td>\n",
       "      <td>Amazon UK launches the Sherlock Holmes 5 Calen...</td>\n",
       "    </tr>\n",
       "  </tbody>\n",
       "</table>\n",
       "</div>"
      ],
      "text/plain": [
       "          id        subject    target  \\\n",
       "68318   3699  Cyberpunk2077  Negative   \n",
       "46265  11939        Verizon   Neutral   \n",
       "28734    544    ApexLegends   Neutral   \n",
       "74270   9127         Nvidia  Positive   \n",
       "5003      59         Amazon   Neutral   \n",
       "\n",
       "                                                    text  \n",
       "68318  C. HP Lovecraft + Punk = Scary. caf.tv / divid...  \n",
       "46265  competitive watchdog ‘recommends’ to Verizon s...  \n",
       "28734                I'm consistently getting top 5 in    \n",
       "74270                  RT @ NVIDIACreators: This year on  \n",
       "5003   Amazon UK launches the Sherlock Holmes 5 Calen...  "
      ]
     },
     "execution_count": 4,
     "metadata": {},
     "output_type": "execute_result"
    }
   ],
   "source": [
    "# # Importing the dataset\n",
    "data_columns=['id','subject','target','text']\n",
    "df_train = pd.read_csv('/kaggle/input/twitter-entity-sentiment-analysis/twitter_training.csv', names = data_columns )\n",
    "\n",
    "df_train.sample(5)\n"
   ]
  },
  {
   "cell_type": "code",
   "execution_count": 5,
   "id": "7208c39e",
   "metadata": {
    "execution": {
     "iopub.execute_input": "2023-07-07T02:24:01.704883Z",
     "iopub.status.busy": "2023-07-07T02:24:01.703904Z",
     "iopub.status.idle": "2023-07-07T02:24:01.730785Z",
     "shell.execute_reply": "2023-07-07T02:24:01.729704Z"
    },
    "papermill": {
     "duration": 0.042216,
     "end_time": "2023-07-07T02:24:01.733299",
     "exception": false,
     "start_time": "2023-07-07T02:24:01.691083",
     "status": "completed"
    },
    "tags": []
   },
   "outputs": [
    {
     "data": {
      "text/html": [
       "<div>\n",
       "<style scoped>\n",
       "    .dataframe tbody tr th:only-of-type {\n",
       "        vertical-align: middle;\n",
       "    }\n",
       "\n",
       "    .dataframe tbody tr th {\n",
       "        vertical-align: top;\n",
       "    }\n",
       "\n",
       "    .dataframe thead th {\n",
       "        text-align: right;\n",
       "    }\n",
       "</style>\n",
       "<table border=\"1\" class=\"dataframe\">\n",
       "  <thead>\n",
       "    <tr style=\"text-align: right;\">\n",
       "      <th></th>\n",
       "      <th>id</th>\n",
       "      <th>subject</th>\n",
       "      <th>target</th>\n",
       "      <th>text</th>\n",
       "    </tr>\n",
       "  </thead>\n",
       "  <tbody>\n",
       "    <tr>\n",
       "      <th>888</th>\n",
       "      <td>11869</td>\n",
       "      <td>Verizon</td>\n",
       "      <td>Neutral</td>\n",
       "      <td>Shark 270 #4GLTE Wireless Cellular Revenue #Me...</td>\n",
       "    </tr>\n",
       "    <tr>\n",
       "      <th>749</th>\n",
       "      <td>9588</td>\n",
       "      <td>Overwatch</td>\n",
       "      <td>Positive</td>\n",
       "      <td>@PlayOverwatch is there like any way to bring ...</td>\n",
       "    </tr>\n",
       "    <tr>\n",
       "      <th>535</th>\n",
       "      <td>5311</td>\n",
       "      <td>Hearthstone</td>\n",
       "      <td>Neutral</td>\n",
       "      <td>The next major #Hearthstone update pays tribut...</td>\n",
       "    </tr>\n",
       "    <tr>\n",
       "      <th>989</th>\n",
       "      <td>5708</td>\n",
       "      <td>HomeDepot</td>\n",
       "      <td>Positive</td>\n",
       "      <td>Thank you to Matching funds Home Depot RW paym...</td>\n",
       "    </tr>\n",
       "    <tr>\n",
       "      <th>388</th>\n",
       "      <td>3727</td>\n",
       "      <td>Cyberpunk2077</td>\n",
       "      <td>Irrelevant</td>\n",
       "      <td>Due for an upgrade from my GTX 1060 Windforce ...</td>\n",
       "    </tr>\n",
       "  </tbody>\n",
       "</table>\n",
       "</div>"
      ],
      "text/plain": [
       "        id        subject      target  \\\n",
       "888  11869        Verizon     Neutral   \n",
       "749   9588      Overwatch    Positive   \n",
       "535   5311    Hearthstone     Neutral   \n",
       "989   5708      HomeDepot    Positive   \n",
       "388   3727  Cyberpunk2077  Irrelevant   \n",
       "\n",
       "                                                  text  \n",
       "888  Shark 270 #4GLTE Wireless Cellular Revenue #Me...  \n",
       "749  @PlayOverwatch is there like any way to bring ...  \n",
       "535  The next major #Hearthstone update pays tribut...  \n",
       "989  Thank you to Matching funds Home Depot RW paym...  \n",
       "388  Due for an upgrade from my GTX 1060 Windforce ...  "
      ]
     },
     "execution_count": 5,
     "metadata": {},
     "output_type": "execute_result"
    }
   ],
   "source": [
    "df_valid = pd.read_csv('/kaggle/input/twitter-entity-sentiment-analysis/twitter_validation.csv', names = data_columns )\n",
    "df_valid.sample(5)"
   ]
  },
  {
   "cell_type": "markdown",
   "id": "2a194be9",
   "metadata": {
    "papermill": {
     "duration": 0.011419,
     "end_time": "2023-07-07T02:24:01.757829",
     "exception": false,
     "start_time": "2023-07-07T02:24:01.746410",
     "status": "completed"
    },
    "tags": []
   },
   "source": [
    "About Data"
   ]
  },
  {
   "cell_type": "code",
   "execution_count": 6,
   "id": "c1807421",
   "metadata": {
    "execution": {
     "iopub.execute_input": "2023-07-07T02:24:01.782317Z",
     "iopub.status.busy": "2023-07-07T02:24:01.782014Z",
     "iopub.status.idle": "2023-07-07T02:24:01.789026Z",
     "shell.execute_reply": "2023-07-07T02:24:01.788161Z"
    },
    "papermill": {
     "duration": 0.02152,
     "end_time": "2023-07-07T02:24:01.791040",
     "exception": false,
     "start_time": "2023-07-07T02:24:01.769520",
     "status": "completed"
    },
    "tags": []
   },
   "outputs": [
    {
     "name": "stdout",
     "output_type": "stream",
     "text": [
      "Length of train data: 74682\n",
      "Length of test data: 1000\n"
     ]
    }
   ],
   "source": [
    "print(\"Length of train data:\",len(df_train))\n",
    "print(\"Length of test data:\",len(df_valid))\n"
   ]
  },
  {
   "cell_type": "code",
   "execution_count": 7,
   "id": "f2507a4c",
   "metadata": {
    "execution": {
     "iopub.execute_input": "2023-07-07T02:24:01.815685Z",
     "iopub.status.busy": "2023-07-07T02:24:01.815372Z",
     "iopub.status.idle": "2023-07-07T02:24:01.820292Z",
     "shell.execute_reply": "2023-07-07T02:24:01.819310Z"
    },
    "papermill": {
     "duration": 0.020991,
     "end_time": "2023-07-07T02:24:01.823800",
     "exception": false,
     "start_time": "2023-07-07T02:24:01.802809",
     "status": "completed"
    },
    "tags": []
   },
   "outputs": [
    {
     "name": "stdout",
     "output_type": "stream",
     "text": [
      "Shape of train data: (74682, 4)\n",
      "Shape of test data: (1000, 4)\n"
     ]
    }
   ],
   "source": [
    "print(\"Shape of train data:\",df_train.shape)\n",
    "print(\"Shape of test data:\",df_valid.shape)"
   ]
  },
  {
   "cell_type": "code",
   "execution_count": 8,
   "id": "f8a041e0",
   "metadata": {
    "execution": {
     "iopub.execute_input": "2023-07-07T02:24:01.848910Z",
     "iopub.status.busy": "2023-07-07T02:24:01.848651Z",
     "iopub.status.idle": "2023-07-07T02:24:01.928346Z",
     "shell.execute_reply": "2023-07-07T02:24:01.927391Z"
    },
    "papermill": {
     "duration": 0.094729,
     "end_time": "2023-07-07T02:24:01.930676",
     "exception": false,
     "start_time": "2023-07-07T02:24:01.835947",
     "status": "completed"
    },
    "tags": []
   },
   "outputs": [
    {
     "name": "stdout",
     "output_type": "stream",
     "text": [
      "<class 'pandas.core.frame.DataFrame'>\n",
      "RangeIndex: 74682 entries, 0 to 74681\n",
      "Data columns (total 4 columns):\n",
      " #   Column   Non-Null Count  Dtype \n",
      "---  ------   --------------  ----- \n",
      " 0   id       74682 non-null  int64 \n",
      " 1   subject  74682 non-null  object\n",
      " 2   target   74682 non-null  object\n",
      " 3   text     73996 non-null  object\n",
      "dtypes: int64(1), object(3)\n",
      "memory usage: 2.3+ MB\n"
     ]
    }
   ],
   "source": [
    "df_train.info()"
   ]
  },
  {
   "cell_type": "code",
   "execution_count": 9,
   "id": "9bce6df0",
   "metadata": {
    "execution": {
     "iopub.execute_input": "2023-07-07T02:24:01.955685Z",
     "iopub.status.busy": "2023-07-07T02:24:01.955421Z",
     "iopub.status.idle": "2023-07-07T02:24:01.965754Z",
     "shell.execute_reply": "2023-07-07T02:24:01.964913Z"
    },
    "papermill": {
     "duration": 0.025241,
     "end_time": "2023-07-07T02:24:01.967909",
     "exception": false,
     "start_time": "2023-07-07T02:24:01.942668",
     "status": "completed"
    },
    "tags": []
   },
   "outputs": [
    {
     "name": "stdout",
     "output_type": "stream",
     "text": [
      "<class 'pandas.core.frame.DataFrame'>\n",
      "RangeIndex: 1000 entries, 0 to 999\n",
      "Data columns (total 4 columns):\n",
      " #   Column   Non-Null Count  Dtype \n",
      "---  ------   --------------  ----- \n",
      " 0   id       1000 non-null   int64 \n",
      " 1   subject  1000 non-null   object\n",
      " 2   target   1000 non-null   object\n",
      " 3   text     1000 non-null   object\n",
      "dtypes: int64(1), object(3)\n",
      "memory usage: 31.4+ KB\n"
     ]
    }
   ],
   "source": [
    "df_valid.info()"
   ]
  },
  {
   "cell_type": "code",
   "execution_count": 10,
   "id": "9488ff2b",
   "metadata": {
    "execution": {
     "iopub.execute_input": "2023-07-07T02:24:01.993325Z",
     "iopub.status.busy": "2023-07-07T02:24:01.992583Z",
     "iopub.status.idle": "2023-07-07T02:24:02.059856Z",
     "shell.execute_reply": "2023-07-07T02:24:02.058992Z"
    },
    "papermill": {
     "duration": 0.082068,
     "end_time": "2023-07-07T02:24:02.061901",
     "exception": false,
     "start_time": "2023-07-07T02:24:01.979833",
     "status": "completed"
    },
    "tags": []
   },
   "outputs": [
    {
     "data": {
      "text/plain": [
       "686"
      ]
     },
     "execution_count": 10,
     "metadata": {},
     "output_type": "execute_result"
    }
   ],
   "source": [
    "# Check for null values\n",
    "\n",
    "np.sum(df_train.isnull().any(axis=1))"
   ]
  },
  {
   "cell_type": "code",
   "execution_count": 11,
   "id": "d449898e",
   "metadata": {
    "execution": {
     "iopub.execute_input": "2023-07-07T02:24:02.088459Z",
     "iopub.status.busy": "2023-07-07T02:24:02.087680Z",
     "iopub.status.idle": "2023-07-07T02:24:02.160022Z",
     "shell.execute_reply": "2023-07-07T02:24:02.159065Z"
    },
    "papermill": {
     "duration": 0.088106,
     "end_time": "2023-07-07T02:24:02.162447",
     "exception": false,
     "start_time": "2023-07-07T02:24:02.074341",
     "status": "completed"
    },
    "tags": []
   },
   "outputs": [
    {
     "name": "stdout",
     "output_type": "stream",
     "text": [
      "(73996, 4)\n"
     ]
    }
   ],
   "source": [
    "df_train = df_train.dropna()\n",
    "print(df_train.shape)"
   ]
  },
  {
   "cell_type": "code",
   "execution_count": 12,
   "id": "50809948",
   "metadata": {
    "execution": {
     "iopub.execute_input": "2023-07-07T02:24:02.189024Z",
     "iopub.status.busy": "2023-07-07T02:24:02.188304Z",
     "iopub.status.idle": "2023-07-07T02:24:02.258556Z",
     "shell.execute_reply": "2023-07-07T02:24:02.257483Z"
    },
    "papermill": {
     "duration": 0.086237,
     "end_time": "2023-07-07T02:24:02.261167",
     "exception": false,
     "start_time": "2023-07-07T02:24:02.174930",
     "status": "completed"
    },
    "tags": []
   },
   "outputs": [
    {
     "name": "stdout",
     "output_type": "stream",
     "text": [
      "<class 'pandas.core.frame.DataFrame'>\n",
      "Int64Index: 73996 entries, 0 to 74681\n",
      "Data columns (total 4 columns):\n",
      " #   Column   Non-Null Count  Dtype \n",
      "---  ------   --------------  ----- \n",
      " 0   id       73996 non-null  int64 \n",
      " 1   subject  73996 non-null  object\n",
      " 2   target   73996 non-null  object\n",
      " 3   text     73996 non-null  object\n",
      "dtypes: int64(1), object(3)\n",
      "memory usage: 2.8+ MB\n"
     ]
    }
   ],
   "source": [
    "df_train.info()"
   ]
  },
  {
   "cell_type": "code",
   "execution_count": 13,
   "id": "e46a4297",
   "metadata": {
    "execution": {
     "iopub.execute_input": "2023-07-07T02:24:02.293435Z",
     "iopub.status.busy": "2023-07-07T02:24:02.293056Z",
     "iopub.status.idle": "2023-07-07T02:24:02.302103Z",
     "shell.execute_reply": "2023-07-07T02:24:02.301156Z"
    },
    "papermill": {
     "duration": 0.03058,
     "end_time": "2023-07-07T02:24:02.304368",
     "exception": false,
     "start_time": "2023-07-07T02:24:02.273788",
     "status": "completed"
    },
    "tags": []
   },
   "outputs": [
    {
     "data": {
      "text/plain": [
       "0"
      ]
     },
     "execution_count": 13,
     "metadata": {},
     "output_type": "execute_result"
    }
   ],
   "source": [
    "np.sum(df_valid.isnull().any(axis=1))"
   ]
  },
  {
   "cell_type": "code",
   "execution_count": 14,
   "id": "e5cd2a68",
   "metadata": {
    "execution": {
     "iopub.execute_input": "2023-07-07T02:24:02.330975Z",
     "iopub.status.busy": "2023-07-07T02:24:02.330665Z",
     "iopub.status.idle": "2023-07-07T02:24:02.342556Z",
     "shell.execute_reply": "2023-07-07T02:24:02.341546Z"
    },
    "papermill": {
     "duration": 0.027641,
     "end_time": "2023-07-07T02:24:02.344680",
     "exception": false,
     "start_time": "2023-07-07T02:24:02.317039",
     "status": "completed"
    },
    "tags": []
   },
   "outputs": [
    {
     "data": {
      "text/plain": [
       "array(['Positive', 'Neutral', 'Negative', 'Irrelevant'], dtype=object)"
      ]
     },
     "execution_count": 14,
     "metadata": {},
     "output_type": "execute_result"
    }
   ],
   "source": [
    "df_train['target'].unique()"
   ]
  },
  {
   "cell_type": "code",
   "execution_count": 15,
   "id": "8b6c68d0",
   "metadata": {
    "execution": {
     "iopub.execute_input": "2023-07-07T02:24:02.371898Z",
     "iopub.status.busy": "2023-07-07T02:24:02.371021Z",
     "iopub.status.idle": "2023-07-07T02:24:02.377308Z",
     "shell.execute_reply": "2023-07-07T02:24:02.376372Z"
    },
    "papermill": {
     "duration": 0.021791,
     "end_time": "2023-07-07T02:24:02.379341",
     "exception": false,
     "start_time": "2023-07-07T02:24:02.357550",
     "status": "completed"
    },
    "tags": []
   },
   "outputs": [
    {
     "data": {
      "text/plain": [
       "array(['Irrelevant', 'Neutral', 'Negative', 'Positive'], dtype=object)"
      ]
     },
     "execution_count": 15,
     "metadata": {},
     "output_type": "execute_result"
    }
   ],
   "source": [
    "df_valid['target'].unique()"
   ]
  },
  {
   "cell_type": "code",
   "execution_count": 16,
   "id": "768a2050",
   "metadata": {
    "execution": {
     "iopub.execute_input": "2023-07-07T02:24:02.406107Z",
     "iopub.status.busy": "2023-07-07T02:24:02.405852Z",
     "iopub.status.idle": "2023-07-07T02:24:02.828159Z",
     "shell.execute_reply": "2023-07-07T02:24:02.827290Z"
    },
    "papermill": {
     "duration": 0.438051,
     "end_time": "2023-07-07T02:24:02.830387",
     "exception": false,
     "start_time": "2023-07-07T02:24:02.392336",
     "status": "completed"
    },
    "tags": []
   },
   "outputs": [
    {
     "data": {
      "image/png": "[encoded data removed]",
      "text/plain": [
       "<Figure size 640x480 with 1 Axes>"
      ]
     },
     "metadata": {},
     "output_type": "display_data"
    }
   ],
   "source": [
    "#Plot the Data \n",
    "ax = df_train.groupby('target').count().plot(kind='bar', title='Distribution of data',legend=True)\n",
    "# Storing data in lists.\n",
    "text, sentiment = list(df_train['text']), list(df_train['target'])"
   ]
  },
  {
   "cell_type": "code",
   "execution_count": 17,
   "id": "7b1f96e0",
   "metadata": {
    "execution": {
     "iopub.execute_input": "2023-07-07T02:24:02.858612Z",
     "iopub.status.busy": "2023-07-07T02:24:02.857827Z",
     "iopub.status.idle": "2023-07-07T02:24:03.334983Z",
     "shell.execute_reply": "2023-07-07T02:24:03.334107Z"
    },
    "papermill": {
     "duration": 0.493198,
     "end_time": "2023-07-07T02:24:03.337003",
     "exception": false,
     "start_time": "2023-07-07T02:24:02.843805",
     "status": "completed"
    },
    "tags": []
   },
   "outputs": [
    {
     "data": {
      "text/plain": [
       "<Axes: xlabel='target', ylabel='count'>"
      ]
     },
     "execution_count": 17,
     "metadata": {},
     "output_type": "execute_result"
    },
    {
     "data": {
      "image/png": "[encoded data removed]",
      "text/plain": [
       "<Figure size 640x480 with 1 Axes>"
      ]
     },
     "metadata": {},
     "output_type": "display_data"
    }
   ],
   "source": [
    "import seaborn as sns\n",
    "sns.countplot(x='target', data=df_train)"
   ]
  },
  {
   "cell_type": "code",
   "execution_count": 18,
   "id": "ce8f843b",
   "metadata": {
    "execution": {
     "iopub.execute_input": "2023-07-07T02:24:03.366675Z",
     "iopub.status.busy": "2023-07-07T02:24:03.366065Z",
     "iopub.status.idle": "2023-07-07T02:24:03.695397Z",
     "shell.execute_reply": "2023-07-07T02:24:03.694514Z"
    },
    "papermill": {
     "duration": 0.347532,
     "end_time": "2023-07-07T02:24:03.698450",
     "exception": false,
     "start_time": "2023-07-07T02:24:03.350918",
     "status": "completed"
    },
    "tags": []
   },
   "outputs": [
    {
     "data": {
      "image/png": "[encoded data removed]",
      "text/plain": [
       "<Figure size 640x480 with 1 Axes>"
      ]
     },
     "metadata": {},
     "output_type": "display_data"
    }
   ],
   "source": [
    "ax = df_valid.groupby('target').count().plot(kind='bar', title='Distribution of data',legend=True)"
   ]
  },
  {
   "cell_type": "code",
   "execution_count": 19,
   "id": "afb75243",
   "metadata": {
    "execution": {
     "iopub.execute_input": "2023-07-07T02:24:03.728765Z",
     "iopub.status.busy": "2023-07-07T02:24:03.728454Z",
     "iopub.status.idle": "2023-07-07T02:24:03.951233Z",
     "shell.execute_reply": "2023-07-07T02:24:03.950181Z"
    },
    "papermill": {
     "duration": 0.240057,
     "end_time": "2023-07-07T02:24:03.953228",
     "exception": false,
     "start_time": "2023-07-07T02:24:03.713171",
     "status": "completed"
    },
    "tags": []
   },
   "outputs": [
    {
     "data": {
      "text/plain": [
       "<Axes: xlabel='target', ylabel='count'>"
      ]
     },
     "execution_count": 19,
     "metadata": {},
     "output_type": "execute_result"
    },
    {
     "data": {
      "image/png": "[encoded data removed]",
      "text/plain": [
       "<Figure size 640x480 with 1 Axes>"
      ]
     },
     "metadata": {},
     "output_type": "display_data"
    }
   ],
   "source": [
    "sns.countplot(x='target', data=df_valid)"
   ]
  },
  {
   "cell_type": "markdown",
   "id": "bb1de441",
   "metadata": {
    "papermill": {
     "duration": 0.014333,
     "end_time": "2023-07-07T02:24:03.982382",
     "exception": false,
     "start_time": "2023-07-07T02:24:03.968049",
     "status": "completed"
    },
    "tags": []
   },
   "source": [
    "Encoding the Labels"
   ]
  },
  {
   "cell_type": "code",
   "execution_count": 20,
   "id": "76c7f699",
   "metadata": {
    "execution": {
     "iopub.execute_input": "2023-07-07T02:24:04.013018Z",
     "iopub.status.busy": "2023-07-07T02:24:04.012151Z",
     "iopub.status.idle": "2023-07-07T02:24:04.025595Z",
     "shell.execute_reply": "2023-07-07T02:24:04.024558Z"
    },
    "papermill": {
     "duration": 0.030844,
     "end_time": "2023-07-07T02:24:04.027783",
     "exception": false,
     "start_time": "2023-07-07T02:24:03.996939",
     "status": "completed"
    },
    "tags": []
   },
   "outputs": [
    {
     "data": {
      "text/plain": [
       "{'Positive': 0, 'Neutral': 1, 'Negative': 2, 'Irrelevant': 3}"
      ]
     },
     "execution_count": 20,
     "metadata": {},
     "output_type": "execute_result"
    }
   ],
   "source": [
    "possible_labels = df_train.target.unique()\n",
    "\n",
    "label_dict = {}\n",
    "for index, possible_label in enumerate(possible_labels):\n",
    "    label_dict[possible_label] = index\n",
    "label_dict"
   ]
  },
  {
   "cell_type": "code",
   "execution_count": 21,
   "id": "42eeebc6",
   "metadata": {
    "execution": {
     "iopub.execute_input": "2023-07-07T02:24:04.059600Z",
     "iopub.status.busy": "2023-07-07T02:24:04.059233Z",
     "iopub.status.idle": "2023-07-07T02:24:04.120434Z",
     "shell.execute_reply": "2023-07-07T02:24:04.119435Z"
    },
    "papermill": {
     "duration": 0.080186,
     "end_time": "2023-07-07T02:24:04.122981",
     "exception": false,
     "start_time": "2023-07-07T02:24:04.042795",
     "status": "completed"
    },
    "tags": []
   },
   "outputs": [],
   "source": [
    "df_train['target'] = df_train.target.replace(label_dict)"
   ]
  },
  {
   "cell_type": "code",
   "execution_count": 22,
   "id": "3c92e30d",
   "metadata": {
    "execution": {
     "iopub.execute_input": "2023-07-07T02:24:04.153534Z",
     "iopub.status.busy": "2023-07-07T02:24:04.153178Z",
     "iopub.status.idle": "2023-07-07T02:24:04.166831Z",
     "shell.execute_reply": "2023-07-07T02:24:04.165968Z"
    },
    "papermill": {
     "duration": 0.031055,
     "end_time": "2023-07-07T02:24:04.168858",
     "exception": false,
     "start_time": "2023-07-07T02:24:04.137803",
     "status": "completed"
    },
    "tags": []
   },
   "outputs": [
    {
     "data": {
      "text/html": [
       "<div>\n",
       "<style scoped>\n",
       "    .dataframe tbody tr th:only-of-type {\n",
       "        vertical-align: middle;\n",
       "    }\n",
       "\n",
       "    .dataframe tbody tr th {\n",
       "        vertical-align: top;\n",
       "    }\n",
       "\n",
       "    .dataframe thead th {\n",
       "        text-align: right;\n",
       "    }\n",
       "</style>\n",
       "<table border=\"1\" class=\"dataframe\">\n",
       "  <thead>\n",
       "    <tr style=\"text-align: right;\">\n",
       "      <th></th>\n",
       "      <th>id</th>\n",
       "      <th>subject</th>\n",
       "      <th>target</th>\n",
       "      <th>text</th>\n",
       "    </tr>\n",
       "  </thead>\n",
       "  <tbody>\n",
       "    <tr>\n",
       "      <th>30558</th>\n",
       "      <td>7251</td>\n",
       "      <td>LeagueOfLegends</td>\n",
       "      <td>3</td>\n",
       "      <td>Super happy to work with @WIHSesports to make ...</td>\n",
       "    </tr>\n",
       "    <tr>\n",
       "      <th>49873</th>\n",
       "      <td>6162</td>\n",
       "      <td>FIFA</td>\n",
       "      <td>2</td>\n",
       "      <td>Hate speech.</td>\n",
       "    </tr>\n",
       "    <tr>\n",
       "      <th>57691</th>\n",
       "      <td>11494</td>\n",
       "      <td>TomClancysRainbowSix</td>\n",
       "      <td>1</td>\n",
       "      <td>I would love it if shorts started the @ Rainbo...</td>\n",
       "    </tr>\n",
       "    <tr>\n",
       "      <th>59644</th>\n",
       "      <td>3423</td>\n",
       "      <td>Facebook</td>\n",
       "      <td>1</td>\n",
       "      <td>why did my brain just bring back my embarrassi...</td>\n",
       "    </tr>\n",
       "    <tr>\n",
       "      <th>48008</th>\n",
       "      <td>5841</td>\n",
       "      <td>HomeDepot</td>\n",
       "      <td>0</td>\n",
       "      <td>Wow! Incredible to see.</td>\n",
       "    </tr>\n",
       "    <tr>\n",
       "      <th>9264</th>\n",
       "      <td>9593</td>\n",
       "      <td>Overwatch</td>\n",
       "      <td>3</td>\n",
       "      <td>Overwatch com memes: A s s. TF2: Pootis, rando...</td>\n",
       "    </tr>\n",
       "    <tr>\n",
       "      <th>71582</th>\n",
       "      <td>11062</td>\n",
       "      <td>TomClancysGhostRecon</td>\n",
       "      <td>0</td>\n",
       "      <td>Ok this shot was by complete accident but i lo...</td>\n",
       "    </tr>\n",
       "    <tr>\n",
       "      <th>834</th>\n",
       "      <td>2547</td>\n",
       "      <td>Borderlands</td>\n",
       "      <td>0</td>\n",
       "      <td>I love u guys</td>\n",
       "    </tr>\n",
       "    <tr>\n",
       "      <th>16460</th>\n",
       "      <td>9619</td>\n",
       "      <td>PlayStation5(PS5)</td>\n",
       "      <td>0</td>\n",
       "      <td>Hopefully next week the Xbox will be smoother ...</td>\n",
       "    </tr>\n",
       "    <tr>\n",
       "      <th>48458</th>\n",
       "      <td>5918</td>\n",
       "      <td>HomeDepot</td>\n",
       "      <td>2</td>\n",
       "      <td>If you speed past everyone going by home depot...</td>\n",
       "    </tr>\n",
       "  </tbody>\n",
       "</table>\n",
       "</div>"
      ],
      "text/plain": [
       "          id               subject  target  \\\n",
       "30558   7251       LeagueOfLegends       3   \n",
       "49873   6162                  FIFA       2   \n",
       "57691  11494  TomClancysRainbowSix       1   \n",
       "59644   3423              Facebook       1   \n",
       "48008   5841             HomeDepot       0   \n",
       "9264    9593             Overwatch       3   \n",
       "71582  11062  TomClancysGhostRecon       0   \n",
       "834     2547           Borderlands       0   \n",
       "16460   9619     PlayStation5(PS5)       0   \n",
       "48458   5918             HomeDepot       2   \n",
       "\n",
       "                                                    text  \n",
       "30558  Super happy to work with @WIHSesports to make ...  \n",
       "49873                                       Hate speech.  \n",
       "57691  I would love it if shorts started the @ Rainbo...  \n",
       "59644  why did my brain just bring back my embarrassi...  \n",
       "48008                            Wow! Incredible to see.  \n",
       "9264   Overwatch com memes: A s s. TF2: Pootis, rando...  \n",
       "71582  Ok this shot was by complete accident but i lo...  \n",
       "834                                        I love u guys  \n",
       "16460  Hopefully next week the Xbox will be smoother ...  \n",
       "48458  If you speed past everyone going by home depot...  "
      ]
     },
     "execution_count": 22,
     "metadata": {},
     "output_type": "execute_result"
    }
   ],
   "source": [
    "df_train.sample(10)"
   ]
  },
  {
   "cell_type": "code",
   "execution_count": 23,
   "id": "66fe9733",
   "metadata": {
    "execution": {
     "iopub.execute_input": "2023-07-07T02:24:04.199336Z",
     "iopub.status.busy": "2023-07-07T02:24:04.199034Z",
     "iopub.status.idle": "2023-07-07T02:24:05.254136Z",
     "shell.execute_reply": "2023-07-07T02:24:05.253293Z"
    },
    "papermill": {
     "duration": 1.072792,
     "end_time": "2023-07-07T02:24:05.256433",
     "exception": false,
     "start_time": "2023-07-07T02:24:04.183641",
     "status": "completed"
    },
    "tags": []
   },
   "outputs": [
    {
     "data": {
      "application/vnd.jupyter.widget-view+json": {
       "model_id": "454bfd0ac626466483bbe8347d2a093d",
       "version_major": 2,
       "version_minor": 0
      },
      "text/plain": [
       "Downloading (…)solve/main/vocab.txt:   0%|          | 0.00/232k [00:00<?, ?B/s]"
      ]
     },
     "metadata": {},
     "output_type": "display_data"
    },
    {
     "data": {
      "application/vnd.jupyter.widget-view+json": {
       "model_id": "992164db191f4638847d6b29371920b1",
       "version_major": 2,
       "version_minor": 0
      },
      "text/plain": [
       "Downloading (…)okenizer_config.json:   0%|          | 0.00/28.0 [00:00<?, ?B/s]"
      ]
     },
     "metadata": {},
     "output_type": "display_data"
    },
    {
     "data": {
      "application/vnd.jupyter.widget-view+json": {
       "model_id": "12a41155baa544a29c8a74fdef5a6e75",
       "version_major": 2,
       "version_minor": 0
      },
      "text/plain": [
       "Downloading (…)lve/main/config.json:   0%|          | 0.00/570 [00:00<?, ?B/s]"
      ]
     },
     "metadata": {},
     "output_type": "display_data"
    }
   ],
   "source": [
    "tokenizer = BertTokenizer.from_pretrained(\n",
    "    'bert-base-uncased',\n",
    "    do_lower_case = True\n",
    "    )"
   ]
  },
  {
   "cell_type": "code",
   "execution_count": 24,
   "id": "84a9dded",
   "metadata": {
    "execution": {
     "iopub.execute_input": "2023-07-07T02:24:05.288476Z",
     "iopub.status.busy": "2023-07-07T02:24:05.288158Z",
     "iopub.status.idle": "2023-07-07T02:25:24.291635Z",
     "shell.execute_reply": "2023-07-07T02:25:24.290598Z"
    },
    "papermill": {
     "duration": 79.022041,
     "end_time": "2023-07-07T02:25:24.294126",
     "exception": false,
     "start_time": "2023-07-07T02:24:05.272085",
     "status": "completed"
    },
    "tags": []
   },
   "outputs": [
    {
     "name": "stderr",
     "output_type": "stream",
     "text": [
      "Truncation was not explicitly activated but `max_length` is provided a specific value, please use `truncation=True` to explicitly truncate examples to max length. Defaulting to 'longest_first' truncation strategy. If you encode pairs of sequences (GLUE-style) with the tokenizer you can select this strategy more precisely by providing a specific strategy to `truncation`.\n",
      "/opt/conda/lib/python3.10/site-packages/transformers/tokenization_utils_base.py:2377: FutureWarning: The `pad_to_max_length` argument is deprecated and will be removed in a future version, use `padding=True` or `padding='longest'` to pad to the longest sequence in the batch, or use `padding='max_length'` to pad to a max length. In this case, you can give a specific length with `max_length` (e.g. `max_length=45`) or leave max_length to None to pad to the maximal input size of the model (e.g. 512 for Bert).\n",
      "  warnings.warn(\n"
     ]
    }
   ],
   "source": [
    "encoded_data_train = tokenizer.batch_encode_plus(\n",
    "    df_train.text.values, \n",
    "    add_special_tokens=True, \n",
    "    return_attention_mask=True, \n",
    "    pad_to_max_length=True, \n",
    "    max_length=256, \n",
    "    return_tensors='pt'\n",
    ")\n",
    "\n"
   ]
  },
  {
   "cell_type": "code",
   "execution_count": 25,
   "id": "d8a5bceb",
   "metadata": {
    "execution": {
     "iopub.execute_input": "2023-07-07T02:25:24.328366Z",
     "iopub.status.busy": "2023-07-07T02:25:24.328026Z",
     "iopub.status.idle": "2023-07-07T02:25:24.335229Z",
     "shell.execute_reply": "2023-07-07T02:25:24.334392Z"
    },
    "papermill": {
     "duration": 0.02653,
     "end_time": "2023-07-07T02:25:24.337430",
     "exception": false,
     "start_time": "2023-07-07T02:25:24.310900",
     "status": "completed"
    },
    "tags": []
   },
   "outputs": [],
   "source": [
    "df_valid['target'] = df_valid.target.replace(label_dict)"
   ]
  },
  {
   "cell_type": "code",
   "execution_count": 26,
   "id": "0446f694",
   "metadata": {
    "execution": {
     "iopub.execute_input": "2023-07-07T02:25:24.371669Z",
     "iopub.status.busy": "2023-07-07T02:25:24.370847Z",
     "iopub.status.idle": "2023-07-07T02:25:24.382642Z",
     "shell.execute_reply": "2023-07-07T02:25:24.381700Z"
    },
    "papermill": {
     "duration": 0.030936,
     "end_time": "2023-07-07T02:25:24.384788",
     "exception": false,
     "start_time": "2023-07-07T02:25:24.353852",
     "status": "completed"
    },
    "tags": []
   },
   "outputs": [
    {
     "data": {
      "text/html": [
       "<div>\n",
       "<style scoped>\n",
       "    .dataframe tbody tr th:only-of-type {\n",
       "        vertical-align: middle;\n",
       "    }\n",
       "\n",
       "    .dataframe tbody tr th {\n",
       "        vertical-align: top;\n",
       "    }\n",
       "\n",
       "    .dataframe thead th {\n",
       "        text-align: right;\n",
       "    }\n",
       "</style>\n",
       "<table border=\"1\" class=\"dataframe\">\n",
       "  <thead>\n",
       "    <tr style=\"text-align: right;\">\n",
       "      <th></th>\n",
       "      <th>id</th>\n",
       "      <th>subject</th>\n",
       "      <th>target</th>\n",
       "      <th>text</th>\n",
       "    </tr>\n",
       "  </thead>\n",
       "  <tbody>\n",
       "    <tr>\n",
       "      <th>482</th>\n",
       "      <td>987</td>\n",
       "      <td>AssassinsCreed</td>\n",
       "      <td>0</td>\n",
       "      <td>Nice to bow you\\n\\nThis my Creepypasta/Assassi...</td>\n",
       "    </tr>\n",
       "    <tr>\n",
       "      <th>536</th>\n",
       "      <td>5003</td>\n",
       "      <td>GrandTheftAuto(GTA)</td>\n",
       "      <td>2</td>\n",
       "      <td>This COD gon take long as hell to download 🤦🏽‍...</td>\n",
       "    </tr>\n",
       "    <tr>\n",
       "      <th>773</th>\n",
       "      <td>6407</td>\n",
       "      <td>Fortnite</td>\n",
       "      <td>2</td>\n",
       "      <td>It is ABSOLUTELY RIDICULOUS that prop hunt is ...</td>\n",
       "    </tr>\n",
       "    <tr>\n",
       "      <th>820</th>\n",
       "      <td>9548</td>\n",
       "      <td>Overwatch</td>\n",
       "      <td>1</td>\n",
       "      <td>Our Chinese #overwatch fans will be sad to lea...</td>\n",
       "    </tr>\n",
       "    <tr>\n",
       "      <th>689</th>\n",
       "      <td>7694</td>\n",
       "      <td>MaddenNFL</td>\n",
       "      <td>2</td>\n",
       "      <td>@EAMaddenNFL what is up with these player rati...</td>\n",
       "    </tr>\n",
       "    <tr>\n",
       "      <th>821</th>\n",
       "      <td>5429</td>\n",
       "      <td>Hearthstone</td>\n",
       "      <td>0</td>\n",
       "      <td>Holy smokes I'm really enjoying my Libram Pala...</td>\n",
       "    </tr>\n",
       "    <tr>\n",
       "      <th>317</th>\n",
       "      <td>1804</td>\n",
       "      <td>CallOfDutyBlackopsColdWar</td>\n",
       "      <td>0</td>\n",
       "      <td>BLACK OPS COLD WAR OFFICIAL REVEAL! (New Trail...</td>\n",
       "    </tr>\n",
       "    <tr>\n",
       "      <th>151</th>\n",
       "      <td>3148</td>\n",
       "      <td>Dota2</td>\n",
       "      <td>2</td>\n",
       "      <td>$1000 wasted</td>\n",
       "    </tr>\n",
       "    <tr>\n",
       "      <th>657</th>\n",
       "      <td>12456</td>\n",
       "      <td>WorldOfCraft</td>\n",
       "      <td>0</td>\n",
       "      <td>This has to be my favourite cinematic in all o...</td>\n",
       "    </tr>\n",
       "    <tr>\n",
       "      <th>429</th>\n",
       "      <td>6494</td>\n",
       "      <td>Fortnite</td>\n",
       "      <td>2</td>\n",
       "      <td>Looking at pc specs: yeah this will run fortni...</td>\n",
       "    </tr>\n",
       "  </tbody>\n",
       "</table>\n",
       "</div>"
      ],
      "text/plain": [
       "        id                    subject  target  \\\n",
       "482    987             AssassinsCreed       0   \n",
       "536   5003        GrandTheftAuto(GTA)       2   \n",
       "773   6407                   Fortnite       2   \n",
       "820   9548                  Overwatch       1   \n",
       "689   7694                  MaddenNFL       2   \n",
       "821   5429                Hearthstone       0   \n",
       "317   1804  CallOfDutyBlackopsColdWar       0   \n",
       "151   3148                      Dota2       2   \n",
       "657  12456               WorldOfCraft       0   \n",
       "429   6494                   Fortnite       2   \n",
       "\n",
       "                                                  text  \n",
       "482  Nice to bow you\\n\\nThis my Creepypasta/Assassi...  \n",
       "536  This COD gon take long as hell to download 🤦🏽‍...  \n",
       "773  It is ABSOLUTELY RIDICULOUS that prop hunt is ...  \n",
       "820  Our Chinese #overwatch fans will be sad to lea...  \n",
       "689  @EAMaddenNFL what is up with these player rati...  \n",
       "821  Holy smokes I'm really enjoying my Libram Pala...  \n",
       "317  BLACK OPS COLD WAR OFFICIAL REVEAL! (New Trail...  \n",
       "151                                       $1000 wasted  \n",
       "657  This has to be my favourite cinematic in all o...  \n",
       "429  Looking at pc specs: yeah this will run fortni...  "
      ]
     },
     "execution_count": 26,
     "metadata": {},
     "output_type": "execute_result"
    }
   ],
   "source": [
    "df_valid.sample(10)"
   ]
  },
  {
   "cell_type": "code",
   "execution_count": 27,
   "id": "033462dd",
   "metadata": {
    "execution": {
     "iopub.execute_input": "2023-07-07T02:25:24.420056Z",
     "iopub.status.busy": "2023-07-07T02:25:24.419218Z",
     "iopub.status.idle": "2023-07-07T02:25:25.628134Z",
     "shell.execute_reply": "2023-07-07T02:25:25.627173Z"
    },
    "papermill": {
     "duration": 1.228538,
     "end_time": "2023-07-07T02:25:25.630632",
     "exception": false,
     "start_time": "2023-07-07T02:25:24.402094",
     "status": "completed"
    },
    "tags": []
   },
   "outputs": [
    {
     "name": "stderr",
     "output_type": "stream",
     "text": [
      "/opt/conda/lib/python3.10/site-packages/transformers/tokenization_utils_base.py:2377: FutureWarning: The `pad_to_max_length` argument is deprecated and will be removed in a future version, use `padding=True` or `padding='longest'` to pad to the longest sequence in the batch, or use `padding='max_length'` to pad to a max length. In this case, you can give a specific length with `max_length` (e.g. `max_length=45`) or leave max_length to None to pad to the maximal input size of the model (e.g. 512 for Bert).\n",
      "  warnings.warn(\n"
     ]
    }
   ],
   "source": [
    "encoded_data_val = tokenizer.batch_encode_plus(\n",
    "    df_valid.text.values, \n",
    "    add_special_tokens=True, \n",
    "    return_attention_mask=True, \n",
    "    pad_to_max_length=True, \n",
    "    max_length=256, \n",
    "    return_tensors='pt'\n",
    ")"
   ]
  },
  {
   "cell_type": "code",
   "execution_count": 28,
   "id": "a4a6a5a5",
   "metadata": {
    "execution": {
     "iopub.execute_input": "2023-07-07T02:25:25.663877Z",
     "iopub.status.busy": "2023-07-07T02:25:25.663555Z",
     "iopub.status.idle": "2023-07-07T02:25:30.661791Z",
     "shell.execute_reply": "2023-07-07T02:25:30.660832Z"
    },
    "papermill": {
     "duration": 5.017748,
     "end_time": "2023-07-07T02:25:30.664341",
     "exception": false,
     "start_time": "2023-07-07T02:25:25.646593",
     "status": "completed"
    },
    "tags": []
   },
   "outputs": [],
   "source": [
    "input_ids_train = encoded_data_train['input_ids'].to(device)\n",
    "attention_masks_train = encoded_data_train['attention_mask'].to(device)\n",
    "labels_train = torch.tensor(df_train.target.values).to(device)\n",
    "\n",
    "input_ids_val = encoded_data_val['input_ids'].to(device)\n",
    "attention_masks_val = encoded_data_val['attention_mask'].to(device)\n",
    "labels_val = torch.tensor(df_valid.target.values).to(device)\n",
    "\n",
    "dataset_train = TensorDataset(input_ids_train, attention_masks_train, labels_train)\n",
    "dataset_val = TensorDataset(input_ids_val, attention_masks_val, labels_val)"
   ]
  },
  {
   "cell_type": "code",
   "execution_count": 29,
   "id": "7550f79e",
   "metadata": {
    "execution": {
     "iopub.execute_input": "2023-07-07T02:25:30.699928Z",
     "iopub.status.busy": "2023-07-07T02:25:30.699627Z",
     "iopub.status.idle": "2023-07-07T02:25:30.703633Z",
     "shell.execute_reply": "2023-07-07T02:25:30.702712Z"
    },
    "papermill": {
     "duration": 0.024991,
     "end_time": "2023-07-07T02:25:30.705479",
     "exception": false,
     "start_time": "2023-07-07T02:25:30.680488",
     "status": "completed"
    },
    "tags": []
   },
   "outputs": [],
   "source": [
    "# dataset_train = dataset_train.to(device)\n",
    "# dataset_val = dataset_val.to(device)"
   ]
  },
  {
   "cell_type": "code",
   "execution_count": 30,
   "id": "f2898601",
   "metadata": {
    "execution": {
     "iopub.execute_input": "2023-07-07T02:25:30.738202Z",
     "iopub.status.busy": "2023-07-07T02:25:30.737377Z",
     "iopub.status.idle": "2023-07-07T02:25:35.224149Z",
     "shell.execute_reply": "2023-07-07T02:25:35.223176Z"
    },
    "papermill": {
     "duration": 4.505476,
     "end_time": "2023-07-07T02:25:35.226382",
     "exception": false,
     "start_time": "2023-07-07T02:25:30.720906",
     "status": "completed"
    },
    "tags": []
   },
   "outputs": [
    {
     "data": {
      "application/vnd.jupyter.widget-view+json": {
       "model_id": "bed5b8265d1b48a19fc02f30c8b8c270",
       "version_major": 2,
       "version_minor": 0
      },
      "text/plain": [
       "Downloading model.safetensors:   0%|          | 0.00/440M [00:00<?, ?B/s]"
      ]
     },
     "metadata": {},
     "output_type": "display_data"
    },
    {
     "name": "stderr",
     "output_type": "stream",
     "text": [
      "Some weights of the model checkpoint at bert-base-uncased were not used when initializing BertForSequenceClassification: ['cls.seq_relationship.weight', 'cls.predictions.transform.LayerNorm.weight', 'cls.predictions.transform.dense.weight', 'cls.predictions.bias', 'cls.predictions.transform.LayerNorm.bias', 'cls.predictions.transform.dense.bias', 'cls.seq_relationship.bias']\n",
      "- This IS expected if you are initializing BertForSequenceClassification from the checkpoint of a model trained on another task or with another architecture (e.g. initializing a BertForSequenceClassification model from a BertForPreTraining model).\n",
      "- This IS NOT expected if you are initializing BertForSequenceClassification from the checkpoint of a model that you expect to be exactly identical (initializing a BertForSequenceClassification model from a BertForSequenceClassification model).\n",
      "Some weights of BertForSequenceClassification were not initialized from the model checkpoint at bert-base-uncased and are newly initialized: ['classifier.bias', 'classifier.weight']\n",
      "You should probably TRAIN this model on a down-stream task to be able to use it for predictions and inference.\n"
     ]
    }
   ],
   "source": [
    "model = BertForSequenceClassification.from_pretrained(\"bert-base-uncased\",\n",
    "                                                      num_labels=len(label_dict),\n",
    "                                                      output_attentions=False,\n",
    "                                                      output_hidden_states=False)"
   ]
  },
  {
   "cell_type": "code",
   "execution_count": 31,
   "id": "fea64510",
   "metadata": {
    "execution": {
     "iopub.execute_input": "2023-07-07T02:25:35.263209Z",
     "iopub.status.busy": "2023-07-07T02:25:35.262879Z",
     "iopub.status.idle": "2023-07-07T02:25:35.387285Z",
     "shell.execute_reply": "2023-07-07T02:25:35.386300Z"
    },
    "papermill": {
     "duration": 0.145445,
     "end_time": "2023-07-07T02:25:35.389615",
     "exception": false,
     "start_time": "2023-07-07T02:25:35.244170",
     "status": "completed"
    },
    "tags": []
   },
   "outputs": [],
   "source": [
    "model=model.to(device)"
   ]
  },
  {
   "cell_type": "code",
   "execution_count": 32,
   "id": "572ba449",
   "metadata": {
    "execution": {
     "iopub.execute_input": "2023-07-07T02:25:35.441880Z",
     "iopub.status.busy": "2023-07-07T02:25:35.441408Z",
     "iopub.status.idle": "2023-07-07T02:25:35.451516Z",
     "shell.execute_reply": "2023-07-07T02:25:35.450196Z"
    },
    "papermill": {
     "duration": 0.045055,
     "end_time": "2023-07-07T02:25:35.456258",
     "exception": false,
     "start_time": "2023-07-07T02:25:35.411203",
     "status": "completed"
    },
    "tags": []
   },
   "outputs": [],
   "source": [
    "from torch.utils.data import DataLoader, RandomSampler, SequentialSampler\n",
    "\n",
    "batch_size = 3\n",
    "\n",
    "dataloader_train = DataLoader(dataset_train, \n",
    "                              sampler=RandomSampler(dataset_train), \n",
    "                              batch_size=batch_size)\n",
    "\n",
    "dataloader_validation = DataLoader(dataset_val, \n",
    "                                   sampler=SequentialSampler(dataset_val), \n",
    "                                   batch_size=batch_size)"
   ]
  },
  {
   "cell_type": "code",
   "execution_count": 33,
   "id": "cdd46c01",
   "metadata": {
    "execution": {
     "iopub.execute_input": "2023-07-07T02:25:35.505155Z",
     "iopub.status.busy": "2023-07-07T02:25:35.504675Z",
     "iopub.status.idle": "2023-07-07T02:25:35.529142Z",
     "shell.execute_reply": "2023-07-07T02:25:35.528013Z"
    },
    "papermill": {
     "duration": 0.051645,
     "end_time": "2023-07-07T02:25:35.531687",
     "exception": false,
     "start_time": "2023-07-07T02:25:35.480042",
     "status": "completed"
    },
    "tags": []
   },
   "outputs": [
    {
     "name": "stderr",
     "output_type": "stream",
     "text": [
      "/opt/conda/lib/python3.10/site-packages/transformers/optimization.py:411: FutureWarning: This implementation of AdamW is deprecated and will be removed in a future version. Use the PyTorch implementation torch.optim.AdamW instead, or set `no_deprecation_warning=True` to disable this warning\n",
      "  warnings.warn(\n"
     ]
    }
   ],
   "source": [
    "from transformers import AdamW, get_linear_schedule_with_warmup\n",
    "\n",
    "optimizer = AdamW(model.parameters(),\n",
    "                  lr=1e-5, \n",
    "                  eps=1e-8)\n",
    "                  \n",
    "epochs = 2\n",
    "\n",
    "scheduler = get_linear_schedule_with_warmup(optimizer, \n",
    "                                            num_warmup_steps=0,\n",
    "                                            num_training_steps=len(dataloader_train)*epochs)"
   ]
  },
  {
   "cell_type": "code",
   "execution_count": 34,
   "id": "1179baaf",
   "metadata": {
    "execution": {
     "iopub.execute_input": "2023-07-07T02:25:35.577939Z",
     "iopub.status.busy": "2023-07-07T02:25:35.577291Z",
     "iopub.status.idle": "2023-07-07T02:25:35.587887Z",
     "shell.execute_reply": "2023-07-07T02:25:35.587019Z"
    },
    "papermill": {
     "duration": 0.036483,
     "end_time": "2023-07-07T02:25:35.590380",
     "exception": false,
     "start_time": "2023-07-07T02:25:35.553897",
     "status": "completed"
    },
    "tags": []
   },
   "outputs": [],
   "source": [
    "from sklearn.metrics import f1_score\n",
    "\n",
    "def f1_score_func(preds, labels):\n",
    "    preds_flat = np.argmax(preds, axis=1).flatten()\n",
    "    labels_flat = labels.flatten()\n",
    "    return f1_score(labels_flat, preds_flat, average='weighted')\n",
    "\n",
    "def accuracy_per_class(preds, labels):\n",
    "    label_dict_inverse = {v: k for k, v in label_dict.items()}\n",
    "    \n",
    "    preds_flat = np.argmax(preds, axis=1).flatten()\n",
    "    labels_flat = labels.flatten()\n",
    "\n",
    "    for label in np.unique(labels_flat):\n",
    "        y_preds = preds_flat[labels_flat==label]\n",
    "        y_true = labels_flat[labels_flat==label]\n",
    "        print(f'Class: {label_dict_inverse[label]}')\n",
    "        print(f'Accuracy: {len(y_preds[y_preds==label])}/{len(y_true)}\\n')"
   ]
  },
  {
   "cell_type": "code",
   "execution_count": 35,
   "id": "40808061",
   "metadata": {
    "execution": {
     "iopub.execute_input": "2023-07-07T02:25:35.637324Z",
     "iopub.status.busy": "2023-07-07T02:25:35.636886Z",
     "iopub.status.idle": "2023-07-07T02:25:35.641288Z",
     "shell.execute_reply": "2023-07-07T02:25:35.640488Z"
    },
    "papermill": {
     "duration": 0.032275,
     "end_time": "2023-07-07T02:25:35.645574",
     "exception": false,
     "start_time": "2023-07-07T02:25:35.613299",
     "status": "completed"
    },
    "tags": []
   },
   "outputs": [],
   "source": [
    "from tqdm import tqdm"
   ]
  },
  {
   "cell_type": "code",
   "execution_count": 36,
   "id": "1953ea7c",
   "metadata": {
    "execution": {
     "iopub.execute_input": "2023-07-07T02:25:35.693823Z",
     "iopub.status.busy": "2023-07-07T02:25:35.693464Z",
     "iopub.status.idle": "2023-07-07T02:25:35.699374Z",
     "shell.execute_reply": "2023-07-07T02:25:35.698503Z"
    },
    "papermill": {
     "duration": 0.036517,
     "end_time": "2023-07-07T02:25:35.704855",
     "exception": false,
     "start_time": "2023-07-07T02:25:35.668338",
     "status": "completed"
    },
    "tags": []
   },
   "outputs": [
    {
     "name": "stdout",
     "output_type": "stream",
     "text": [
      "cuda\n"
     ]
    }
   ],
   "source": [
    "device = ('cuda' if torch.cuda.is_available() else 'cpu')\n",
    "print(device)"
   ]
  },
  {
   "cell_type": "code",
   "execution_count": 37,
   "id": "2adfedd6",
   "metadata": {
    "execution": {
     "iopub.execute_input": "2023-07-07T02:25:35.753313Z",
     "iopub.status.busy": "2023-07-07T02:25:35.752943Z",
     "iopub.status.idle": "2023-07-07T03:51:11.809680Z",
     "shell.execute_reply": "2023-07-07T03:51:11.806998Z"
    },
    "papermill": {
     "duration": 5136.088321,
     "end_time": "2023-07-07T03:51:11.817681",
     "exception": false,
     "start_time": "2023-07-07T02:25:35.729360",
     "status": "completed"
    },
    "tags": []
   },
   "outputs": [
    {
     "name": "stderr",
     "output_type": "stream",
     "text": [
      "Epoch 1:   0%|          | 0/24666 [00:00<?, ?it/s]\n",
      "                                                                                   \r\n",
      "\u001b[A\n",
      "  0%|          | 0/2 [43:27<?, ?it/s]\u001b[A\n",
      "\u001b[A\n",
      "  0%|          | 0/2 [43:27<?, ?it/s]\u001b[A"
     ]
    },
    {
     "name": "stdout",
     "output_type": "stream",
     "text": [
      "\n",
      "Epoch 1\n",
      "Training loss: 0.8538962988152451\n"
     ]
    },
    {
     "name": "stderr",
     "output_type": "stream",
     "text": [
      "\n",
      "\u001b[A\n",
      "  0%|          | 0/2 [43:36<?, ?it/s]\u001b[A\n",
      "\u001b[A\n",
      "  0%|          | 0/2 [43:36<?, ?it/s]\u001b[A\n",
      " 50%|█████     | 1/2 [43:36<43:36, 2616.37s/it]\u001b[A"
     ]
    },
    {
     "name": "stdout",
     "output_type": "stream",
     "text": [
      "Validation loss: 0.32213601829957433\n",
      "F1 Score (Weighted): 0.9135633405636536\n"
     ]
    },
    {
     "name": "stderr",
     "output_type": "stream",
     "text": [
      "\n",
      "\u001b[A\n",
      " 50%|█████     | 1/2 [1:25:26<43:36, 2616.37s/it]\u001b[A\n",
      "\u001b[A\n",
      " 50%|█████     | 1/2 [1:25:26<43:36, 2616.37s/it]\u001b[A"
     ]
    },
    {
     "name": "stdout",
     "output_type": "stream",
     "text": [
      "\n",
      "Epoch 2\n",
      "Training loss: 0.42687615612231505\n"
     ]
    },
    {
     "name": "stderr",
     "output_type": "stream",
     "text": [
      "\n",
      "\u001b[A\n",
      " 50%|█████     | 1/2 [1:25:36<43:36, 2616.37s/it]\u001b[A\n",
      "\u001b[A\n",
      " 50%|█████     | 1/2 [1:25:36<43:36, 2616.37s/it]\u001b[A\n",
      "100%|██████████| 2/2 [1:25:36<00:00, 2568.00s/it]"
     ]
    },
    {
     "name": "stdout",
     "output_type": "stream",
     "text": [
      "Validation loss: 0.2002821693118992\n",
      "F1 Score (Weighted): 0.9650272524118025\n"
     ]
    },
    {
     "name": "stderr",
     "output_type": "stream",
     "text": [
      "\n"
     ]
    }
   ],
   "source": [
    "import random\n",
    "\n",
    "seed_val = 17\n",
    "random.seed(seed_val)\n",
    "np.random.seed(seed_val)\n",
    "torch.manual_seed(seed_val)\n",
    "torch.cuda.manual_seed_all(seed_val)\n",
    "\n",
    "def evaluate(dataloader_val):\n",
    "\n",
    "    model.eval()\n",
    "    \n",
    "    loss_val_total = 0\n",
    "    predictions, true_vals = [], []\n",
    "    \n",
    "    for batch in dataloader_val:\n",
    "        \n",
    "        batch = tuple(b.to(device) for b in batch)\n",
    "        \n",
    "        inputs = {'input_ids':      batch[0],\n",
    "                  'attention_mask': batch[1],\n",
    "                  'labels':         batch[2],\n",
    "                 }\n",
    "\n",
    "        with torch.no_grad():        \n",
    "            outputs = model(**inputs)\n",
    "            \n",
    "        loss = outputs[0]\n",
    "        logits = outputs[1]\n",
    "        loss_val_total += loss.item()\n",
    "\n",
    "        logits = logits.detach().cpu().numpy()\n",
    "        label_ids = inputs['labels'].cpu().numpy()\n",
    "        predictions.append(logits)\n",
    "        true_vals.append(label_ids)\n",
    "    \n",
    "    loss_val_avg = loss_val_total/len(dataloader_val) \n",
    "    \n",
    "    predictions = np.concatenate(predictions, axis=0)\n",
    "    true_vals = np.concatenate(true_vals, axis=0)\n",
    "            \n",
    "    return loss_val_avg, predictions, true_vals\n",
    "\n",
    "epoch = 1\n",
    "progress_bar = tqdm(dataloader_train, desc='Epoch {:1d}'.format(epoch), leave=False, disable=False)\n",
    "for epoch in tqdm(range(1, epochs+1)):\n",
    "    \n",
    "    model.train()\n",
    "    \n",
    "    loss_train_total = 0\n",
    "\n",
    "    \n",
    "    \n",
    "    for batch in progress_bar:\n",
    "\n",
    "        model.zero_grad()\n",
    "        \n",
    "        batch = tuple(b.to(device) for b in batch)\n",
    "        \n",
    "        inputs = {'input_ids':      batch[0],\n",
    "                  'attention_mask': batch[1],\n",
    "                  'labels':         batch[2],\n",
    "                 }       \n",
    "\n",
    "        outputs = model(**inputs)\n",
    "        \n",
    "        loss = outputs[0]\n",
    "        loss_train_total += loss.item()\n",
    "        loss.backward()\n",
    "\n",
    "        torch.nn.utils.clip_grad_norm_(model.parameters(), 1.0)\n",
    "\n",
    "        optimizer.step()\n",
    "        scheduler.step()\n",
    "        \n",
    "        progress_bar.set_postfix({'training_loss': '{:.3f}'.format(loss.item()/len(batch))})\n",
    "        # progress_bar.update() \n",
    "        # progress_bar.update()\n",
    "        \n",
    "    torch.save(model.state_dict(), f'/kaggle/working/finetuned_BERT_epoch_{epoch}.model')\n",
    "        \n",
    "    tqdm.write(f'\\nEpoch {epoch}')\n",
    "    \n",
    "    loss_train_avg = loss_train_total/len(dataloader_train)            \n",
    "    tqdm.write(f'Training loss: {loss_train_avg}')\n",
    "    \n",
    "    val_loss, predictions, true_vals = evaluate(dataloader_validation)\n",
    "    val_f1 = f1_score_func(predictions, true_vals)\n",
    "    tqdm.write(f'Validation loss: {val_loss}')\n",
    "    tqdm.write(f'F1 Score (Weighted): {val_f1}')"
   ]
  },
  {
   "cell_type": "code",
   "execution_count": 38,
   "id": "facb2af0",
   "metadata": {
    "execution": {
     "iopub.execute_input": "2023-07-07T03:51:19.732854Z",
     "iopub.status.busy": "2023-07-07T03:51:19.732492Z",
     "iopub.status.idle": "2023-07-07T03:51:19.737592Z",
     "shell.execute_reply": "2023-07-07T03:51:19.736713Z"
    },
    "papermill": {
     "duration": 3.890133,
     "end_time": "2023-07-07T03:51:19.740273",
     "exception": false,
     "start_time": "2023-07-07T03:51:15.850140",
     "status": "completed"
    },
    "tags": []
   },
   "outputs": [
    {
     "name": "stdout",
     "output_type": "stream",
     "text": [
      "hello\n"
     ]
    }
   ],
   "source": [
    "print(\"hello\")"
   ]
  },
  {
   "cell_type": "code",
   "execution_count": null,
   "id": "585b4471",
   "metadata": {
    "papermill": {
     "duration": 3.823892,
     "end_time": "2023-07-07T03:51:27.488814",
     "exception": false,
     "start_time": "2023-07-07T03:51:23.664922",
     "status": "completed"
    },
    "tags": []
   },
   "outputs": [],
   "source": []
  },
  {
   "cell_type": "code",
   "execution_count": null,
   "id": "06c50278",
   "metadata": {
    "papermill": {
     "duration": 3.805262,
     "end_time": "2023-07-07T03:51:35.296274",
     "exception": false,
     "start_time": "2023-07-07T03:51:31.491012",
     "status": "completed"
    },
    "tags": []
   },
   "outputs": [],
   "source": []
  },
  {
   "cell_type": "code",
   "execution_count": null,
   "id": "043e0058",
   "metadata": {
    "papermill": {
     "duration": 3.903569,
     "end_time": "2023-07-07T03:51:43.381735",
     "exception": false,
     "start_time": "2023-07-07T03:51:39.478166",
     "status": "completed"
    },
    "tags": []
   },
   "outputs": [],
   "source": []
  },
  {
   "cell_type": "code",
   "execution_count": null,
   "id": "b2720a0d",
   "metadata": {
    "papermill": {
     "duration": 3.889755,
     "end_time": "2023-07-07T03:51:51.067045",
     "exception": false,
     "start_time": "2023-07-07T03:51:47.177290",
     "status": "completed"
    },
    "tags": []
   },
   "outputs": [],
   "source": []
  }
 ],
 "metadata": {
  "kernelspec": {
   "display_name": "Python 3",
   "language": "python",
   "name": "python3"
  },
  "language_info": {
   "codemirror_mode": {
    "name": "ipython",
    "version": 3
   },
   "file_extension": ".py",
   "mimetype": "text/x-python",
   "name": "python",
   "nbconvert_exporter": "python",
   "pygments_lexer": "ipython3",
   "version": "3.10.10"
  },
  "papermill": {
   "default_parameters": {},
   "duration": 5314.63281,
   "end_time": "2023-07-07T03:51:58.704054",
   "environment_variables": {},
   "exception": null,
   "input_path": "__notebook__.ipynb",
   "output_path": "__notebook__.ipynb",
   "parameters": {},
   "start_time": "2023-07-07T02:23:24.071244",
   "version": "2.4.0"
  },
  "widgets": {
   "application/vnd.jupyter.widget-state+json": {
    "state": {
     "06a7af4dd90e4deba5969b7f8f4281b7": {
      "model_module": "@jupyter-widgets/base",
      "model_module_version": "1.2.0",
      "model_name": "LayoutModel",
      "state": {
       "_model_module": "@jupyter-widgets/base",
       "_model_module_version": "1.2.0",
       "_model_name": "LayoutModel",
       "_view_count": null,
       "_view_module": "@jupyter-widgets/base",
       "_view_module_version": "1.2.0",
       "_view_name": "LayoutView",
       "align_content": null,
       "align_items": null,
       "align_self": null,
       "border": null,
       "bottom": null,
       "display": null,
       "flex": null,
       "flex_flow": null,
       "grid_area": null,
       "grid_auto_columns": null,
       "grid_auto_flow": null,
       "grid_auto_rows": null,
       "grid_column": null,
       "grid_gap": null,
       "grid_row": null,
       "grid_template_areas": null,
       "grid_template_columns": null,
       "grid_template_rows": null,
       "height": null,
       "justify_content": null,
       "justify_items": null,
       "left": null,
       "margin": null,
       "max_height": null,
       "max_width": null,
       "min_height": null,
       "min_width": null,
       "object_fit": null,
       "object_position": null,
       "order": null,
       "overflow": null,
       "overflow_x": null,
       "overflow_y": null,
       "padding": null,
       "right": null,
       "top": null,
       "visibility": null,
       "width": null
      }
     },
     "07e0ab8adb9f4c27a23465fa1d9e82a9": {
      "model_module": "@jupyter-widgets/controls",
      "model_module_version": "1.5.0",
      "model_name": "DescriptionStyleModel",
      "state": {
       "_model_module": "@jupyter-widgets/controls",
       "_model_module_version": "1.5.0",
       "_model_name": "DescriptionStyleModel",
       "_view_count": null,
       "_view_module": "@jupyter-widgets/base",
       "_view_module_version": "1.2.0",
       "_view_name": "StyleView",
       "description_width": ""
      }
     },
     "07f1ee34278a4e13b048ca5467c9b2ff": {
      "model_module": "@jupyter-widgets/base",
      "model_module_version": "1.2.0",
      "model_name": "LayoutModel",
      "state": {
       "_model_module": "@jupyter-widgets/base",
       "_model_module_version": "1.2.0",
       "_model_name": "LayoutModel",
       "_view_count": null,
       "_view_module": "@jupyter-widgets/base",
       "_view_module_version": "1.2.0",
       "_view_name": "LayoutView",
       "align_content": null,
       "align_items": null,
       "align_self": null,
       "border": null,
       "bottom": null,
       "display": null,
       "flex": null,
       "flex_flow": null,
       "grid_area": null,
       "grid_auto_columns": null,
       "grid_auto_flow": null,
       "grid_auto_rows": null,
       "grid_column": null,
       "grid_gap": null,
       "grid_row": null,
       "grid_template_areas": null,
       "grid_template_columns": null,
       "grid_template_rows": null,
       "height": null,
       "justify_content": null,
       "justify_items": null,
       "left": null,
       "margin": null,
       "max_height": null,
       "max_width": null,
       "min_height": null,
       "min_width": null,
       "object_fit": null,
       "object_position": null,
       "order": null,
       "overflow": null,
       "overflow_x": null,
       "overflow_y": null,
       "padding": null,
       "right": null,
       "top": null,
       "visibility": null,
       "width": null
      }
     },
     "1126d0fc071048e7b8a200a3139e4cf2": {
      "model_module": "@jupyter-widgets/base",
      "model_module_version": "1.2.0",
      "model_name": "LayoutModel",
      "state": {
       "_model_module": "@jupyter-widgets/base",
       "_model_module_version": "1.2.0",
       "_model_name": "LayoutModel",
       "_view_count": null,
       "_view_module": "@jupyter-widgets/base",
       "_view_module_version": "1.2.0",
       "_view_name": "LayoutView",
       "align_content": null,
       "align_items": null,
       "align_self": null,
       "border": null,
       "bottom": null,
       "display": null,
       "flex": null,
       "flex_flow": null,
       "grid_area": null,
       "grid_auto_columns": null,
       "grid_auto_flow": null,
       "grid_auto_rows": null,
       "grid_column": null,
       "grid_gap": null,
       "grid_row": null,
       "grid_template_areas": null,
       "grid_template_columns": null,
       "grid_template_rows": null,
       "height": null,
       "justify_content": null,
       "justify_items": null,
       "left": null,
       "margin": null,
       "max_height": null,
       "max_width": null,
       "min_height": null,
       "min_width": null,
       "object_fit": null,
       "object_position": null,
       "order": null,
       "overflow": null,
       "overflow_x": null,
       "overflow_y": null,
       "padding": null,
       "right": null,
       "top": null,
       "visibility": null,
       "width": null
      }
     },
     "12a41155baa544a29c8a74fdef5a6e75": {
      "model_module": "@jupyter-widgets/controls",
      "model_module_version": "1.5.0",
      "model_name": "HBoxModel",
      "state": {
       "_dom_classes": [],
       "_model_module": "@jupyter-widgets/controls",
       "_model_module_version": "1.5.0",
       "_model_name": "HBoxModel",
       "_view_count": null,
       "_view_module": "@jupyter-widgets/controls",
       "_view_module_version": "1.5.0",
       "_view_name": "HBoxView",
       "box_style": "",
       "children": [
        "IPY_MODEL_d82e723f1bd74cc2a8bf494cf30ae7f2",
        "IPY_MODEL_4cfcc4a03746423ca9d9f49cb7898f17",
        "IPY_MODEL_cf66f6394fe24d65a7d118b0fd5b7a4b"
       ],
       "layout": "IPY_MODEL_497b193aca4041e4bead4f4f5f17b1bd"
      }
     },
     "1c7d62bee1c2452fa105d12a9f013b54": {
      "model_module": "@jupyter-widgets/controls",
      "model_module_version": "1.5.0",
      "model_name": "DescriptionStyleModel",
      "state": {
       "_model_module": "@jupyter-widgets/controls",
       "_model_module_version": "1.5.0",
       "_model_name": "DescriptionStyleModel",
       "_view_count": null,
       "_view_module": "@jupyter-widgets/base",
       "_view_module_version": "1.2.0",
       "_view_name": "StyleView",
       "description_width": ""
      }
     },
     "23c653f4d0774d18ad88984118363e26": {
      "model_module": "@jupyter-widgets/base",
      "model_module_version": "1.2.0",
      "model_name": "LayoutModel",
      "state": {
       "_model_module": "@jupyter-widgets/base",
       "_model_module_version": "1.2.0",
       "_model_name": "LayoutModel",
       "_view_count": null,
       "_view_module": "@jupyter-widgets/base",
       "_view_module_version": "1.2.0",
       "_view_name": "LayoutView",
       "align_content": null,
       "align_items": null,
       "align_self": null,
       "border": null,
       "bottom": null,
       "display": null,
       "flex": null,
       "flex_flow": null,
       "grid_area": null,
       "grid_auto_columns": null,
       "grid_auto_flow": null,
       "grid_auto_rows": null,
       "grid_column": null,
       "grid_gap": null,
       "grid_row": null,
       "grid_template_areas": null,
       "grid_template_columns": null,
       "grid_template_rows": null,
       "height": null,
       "justify_content": null,
       "justify_items": null,
       "left": null,
       "margin": null,
       "max_height": null,
       "max_width": null,
       "min_height": null,
       "min_width": null,
       "object_fit": null,
       "object_position": null,
       "order": null,
       "overflow": null,
       "overflow_x": null,
       "overflow_y": null,
       "padding": null,
       "right": null,
       "top": null,
       "visibility": null,
       "width": null
      }
     },
     "240ae9798b45412b9d0afef65ee2bccb": {
      "model_module": "@jupyter-widgets/base",
      "model_module_version": "1.2.0",
      "model_name": "LayoutModel",
      "state": {
       "_model_module": "@jupyter-widgets/base",
       "_model_module_version": "1.2.0",
       "_model_name": "LayoutModel",
       "_view_count": null,
       "_view_module": "@jupyter-widgets/base",
       "_view_module_version": "1.2.0",
       "_view_name": "LayoutView",
       "align_content": null,
       "align_items": null,
       "align_self": null,
       "border": null,
       "bottom": null,
       "display": null,
       "flex": null,
       "flex_flow": null,
       "grid_area": null,
       "grid_auto_columns": null,
       "grid_auto_flow": null,
       "grid_auto_rows": null,
       "grid_column": null,
       "grid_gap": null,
       "grid_row": null,
       "grid_template_areas": null,
       "grid_template_columns": null,
       "grid_template_rows": null,
       "height": null,
       "justify_content": null,
       "justify_items": null,
       "left": null,
       "margin": null,
       "max_height": null,
       "max_width": null,
       "min_height": null,
       "min_width": null,
       "object_fit": null,
       "object_position": null,
       "order": null,
       "overflow": null,
       "overflow_x": null,
       "overflow_y": null,
       "padding": null,
       "right": null,
       "top": null,
       "visibility": null,
       "width": null
      }
     },
     "3413c979a9d74665af089093bde56015": {
      "model_module": "@jupyter-widgets/controls",
      "model_module_version": "1.5.0",
      "model_name": "DescriptionStyleModel",
      "state": {
       "_model_module": "@jupyter-widgets/controls",
       "_model_module_version": "1.5.0",
       "_model_name": "DescriptionStyleModel",
       "_view_count": null,
       "_view_module": "@jupyter-widgets/base",
       "_view_module_version": "1.2.0",
       "_view_name": "StyleView",
       "description_width": ""
      }
     },
     "3485fc91093343d8be88abf577f303c4": {
      "model_module": "@jupyter-widgets/controls",
      "model_module_version": "1.5.0",
      "model_name": "HTMLModel",
      "state": {
       "_dom_classes": [],
       "_model_module": "@jupyter-widgets/controls",
       "_model_module_version": "1.5.0",
       "_model_name": "HTMLModel",
       "_view_count": null,
       "_view_module": "@jupyter-widgets/controls",
       "_view_module_version": "1.5.0",
       "_view_name": "HTMLView",
       "description": "",
       "description_tooltip": null,
       "layout": "IPY_MODEL_51c1fbf7064446aab2d2fffc94787111",
       "placeholder": "​",
       "style": "IPY_MODEL_9fd251581de7477eb8b63d328201be3f",
       "value": "Downloading (…)solve/main/vocab.txt: 100%"
      }
     },
     "37939e4302cc4db7ac113f252e96f18f": {
      "model_module": "@jupyter-widgets/base",
      "model_module_version": "1.2.0",
      "model_name": "LayoutModel",
      "state": {
       "_model_module": "@jupyter-widgets/base",
       "_model_module_version": "1.2.0",
       "_model_name": "LayoutModel",
       "_view_count": null,
       "_view_module": "@jupyter-widgets/base",
       "_view_module_version": "1.2.0",
       "_view_name": "LayoutView",
       "align_content": null,
       "align_items": null,
       "align_self": null,
       "border": null,
       "bottom": null,
       "display": null,
       "flex": null,
       "flex_flow": null,
       "grid_area": null,
       "grid_auto_columns": null,
       "grid_auto_flow": null,
       "grid_auto_rows": null,
       "grid_column": null,
       "grid_gap": null,
       "grid_row": null,
       "grid_template_areas": null,
       "grid_template_columns": null,
       "grid_template_rows": null,
       "height": null,
       "justify_content": null,
       "justify_items": null,
       "left": null,
       "margin": null,
       "max_height": null,
       "max_width": null,
       "min_height": null,
       "min_width": null,
       "object_fit": null,
       "object_position": null,
       "order": null,
       "overflow": null,
       "overflow_x": null,
       "overflow_y": null,
       "padding": null,
       "right": null,
       "top": null,
       "visibility": null,
       "width": null
      }
     },
     "3903046895a3493b91ba93e124570e41": {
      "model_module": "@jupyter-widgets/controls",
      "model_module_version": "1.5.0",
      "model_name": "HTMLModel",
      "state": {
       "_dom_classes": [],
       "_model_module": "@jupyter-widgets/controls",
       "_model_module_version": "1.5.0",
       "_model_name": "HTMLModel",
       "_view_count": null,
       "_view_module": "@jupyter-widgets/controls",
       "_view_module_version": "1.5.0",
       "_view_name": "HTMLView",
       "description": "",
       "description_tooltip": null,
       "layout": "IPY_MODEL_240ae9798b45412b9d0afef65ee2bccb",
       "placeholder": "​",
       "style": "IPY_MODEL_3413c979a9d74665af089093bde56015",
       "value": " 232k/232k [00:00&lt;00:00, 3.84MB/s]"
      }
     },
     "3c978310b3714d769caa93d3f1fae2e7": {
      "model_module": "@jupyter-widgets/controls",
      "model_module_version": "1.5.0",
      "model_name": "DescriptionStyleModel",
      "state": {
       "_model_module": "@jupyter-widgets/controls",
       "_model_module_version": "1.5.0",
       "_model_name": "DescriptionStyleModel",
       "_view_count": null,
       "_view_module": "@jupyter-widgets/base",
       "_view_module_version": "1.2.0",
       "_view_name": "StyleView",
       "description_width": ""
      }
     },
     "454bfd0ac626466483bbe8347d2a093d": {
      "model_module": "@jupyter-widgets/controls",
      "model_module_version": "1.5.0",
      "model_name": "HBoxModel",
      "state": {
       "_dom_classes": [],
       "_model_module": "@jupyter-widgets/controls",
       "_model_module_version": "1.5.0",
       "_model_name": "HBoxModel",
       "_view_count": null,
       "_view_module": "@jupyter-widgets/controls",
       "_view_module_version": "1.5.0",
       "_view_name": "HBoxView",
       "box_style": "",
       "children": [
        "IPY_MODEL_3485fc91093343d8be88abf577f303c4",
        "IPY_MODEL_5358f31e5a724ae09f35018f843dc52d",
        "IPY_MODEL_3903046895a3493b91ba93e124570e41"
       ],
       "layout": "IPY_MODEL_469deea3e26d4d7495109637b36dd50f"
      }
     },
     "469deea3e26d4d7495109637b36dd50f": {
      "model_module": "@jupyter-widgets/base",
      "model_module_version": "1.2.0",
      "model_name": "LayoutModel",
      "state": {
       "_model_module": "@jupyter-widgets/base",
       "_model_module_version": "1.2.0",
       "_model_name": "LayoutModel",
       "_view_count": null,
       "_view_module": "@jupyter-widgets/base",
       "_view_module_version": "1.2.0",
       "_view_name": "LayoutView",
       "align_content": null,
       "align_items": null,
       "align_self": null,
       "border": null,
       "bottom": null,
       "display": null,
       "flex": null,
       "flex_flow": null,
       "grid_area": null,
       "grid_auto_columns": null,
       "grid_auto_flow": null,
       "grid_auto_rows": null,
       "grid_column": null,
       "grid_gap": null,
       "grid_row": null,
       "grid_template_areas": null,
       "grid_template_columns": null,
       "grid_template_rows": null,
       "height": null,
       "justify_content": null,
       "justify_items": null,
       "left": null,
       "margin": null,
       "max_height": null,
       "max_width": null,
       "min_height": null,
       "min_width": null,
       "object_fit": null,
       "object_position": null,
       "order": null,
       "overflow": null,
       "overflow_x": null,
       "overflow_y": null,
       "padding": null,
       "right": null,
       "top": null,
       "visibility": null,
       "width": null
      }
     },
     "497b193aca4041e4bead4f4f5f17b1bd": {
      "model_module": "@jupyter-widgets/base",
      "model_module_version": "1.2.0",
      "model_name": "LayoutModel",
      "state": {
       "_model_module": "@jupyter-widgets/base",
       "_model_module_version": "1.2.0",
       "_model_name": "LayoutModel",
       "_view_count": null,
       "_view_module": "@jupyter-widgets/base",
       "_view_module_version": "1.2.0",
       "_view_name": "LayoutView",
       "align_content": null,
       "align_items": null,
       "align_self": null,
       "border": null,
       "bottom": null,
       "display": null,
       "flex": null,
       "flex_flow": null,
       "grid_area": null,
       "grid_auto_columns": null,
       "grid_auto_flow": null,
       "grid_auto_rows": null,
       "grid_column": null,
       "grid_gap": null,
       "grid_row": null,
       "grid_template_areas": null,
       "grid_template_columns": null,
       "grid_template_rows": null,
       "height": null,
       "justify_content": null,
       "justify_items": null,
       "left": null,
       "margin": null,
       "max_height": null,
       "max_width": null,
       "min_height": null,
       "min_width": null,
       "object_fit": null,
       "object_position": null,
       "order": null,
       "overflow": null,
       "overflow_x": null,
       "overflow_y": null,
       "padding": null,
       "right": null,
       "top": null,
       "visibility": null,
       "width": null
      }
     },
     "4cfcc4a03746423ca9d9f49cb7898f17": {
      "model_module": "@jupyter-widgets/controls",
      "model_module_version": "1.5.0",
      "model_name": "FloatProgressModel",
      "state": {
       "_dom_classes": [],
       "_model_module": "@jupyter-widgets/controls",
       "_model_module_version": "1.5.0",
       "_model_name": "FloatProgressModel",
       "_view_count": null,
       "_view_module": "@jupyter-widgets/controls",
       "_view_module_version": "1.5.0",
       "_view_name": "ProgressView",
       "bar_style": "success",
       "description": "",
       "description_tooltip": null,
       "layout": "IPY_MODEL_b61be6830a414f01bb5c3ec92687dad0",
       "max": 570.0,
       "min": 0.0,
       "orientation": "horizontal",
       "style": "IPY_MODEL_65c21c402c04445b894aadb181f75e29",
       "value": 570.0
      }
     },
     "4cfdd9c23cb145b6acff2e539fdd9e06": {
      "model_module": "@jupyter-widgets/base",
      "model_module_version": "1.2.0",
      "model_name": "LayoutModel",
      "state": {
       "_model_module": "@jupyter-widgets/base",
       "_model_module_version": "1.2.0",
       "_model_name": "LayoutModel",
       "_view_count": null,
       "_view_module": "@jupyter-widgets/base",
       "_view_module_version": "1.2.0",
       "_view_name": "LayoutView",
       "align_content": null,
       "align_items": null,
       "align_self": null,
       "border": null,
       "bottom": null,
       "display": null,
       "flex": null,
       "flex_flow": null,
       "grid_area": null,
       "grid_auto_columns": null,
       "grid_auto_flow": null,
       "grid_auto_rows": null,
       "grid_column": null,
       "grid_gap": null,
       "grid_row": null,
       "grid_template_areas": null,
       "grid_template_columns": null,
       "grid_template_rows": null,
       "height": null,
       "justify_content": null,
       "justify_items": null,
       "left": null,
       "margin": null,
       "max_height": null,
       "max_width": null,
       "min_height": null,
       "min_width": null,
       "object_fit": null,
       "object_position": null,
       "order": null,
       "overflow": null,
       "overflow_x": null,
       "overflow_y": null,
       "padding": null,
       "right": null,
       "top": null,
       "visibility": null,
       "width": null
      }
     },
     "51c1fbf7064446aab2d2fffc94787111": {
      "model_module": "@jupyter-widgets/base",
      "model_module_version": "1.2.0",
      "model_name": "LayoutModel",
      "state": {
       "_model_module": "@jupyter-widgets/base",
       "_model_module_version": "1.2.0",
       "_model_name": "LayoutModel",
       "_view_count": null,
       "_view_module": "@jupyter-widgets/base",
       "_view_module_version": "1.2.0",
       "_view_name": "LayoutView",
       "align_content": null,
       "align_items": null,
       "align_self": null,
       "border": null,
       "bottom": null,
       "display": null,
       "flex": null,
       "flex_flow": null,
       "grid_area": null,
       "grid_auto_columns": null,
       "grid_auto_flow": null,
       "grid_auto_rows": null,
       "grid_column": null,
       "grid_gap": null,
       "grid_row": null,
       "grid_template_areas": null,
       "grid_template_columns": null,
       "grid_template_rows": null,
       "height": null,
       "justify_content": null,
       "justify_items": null,
       "left": null,
       "margin": null,
       "max_height": null,
       "max_width": null,
       "min_height": null,
       "min_width": null,
       "object_fit": null,
       "object_position": null,
       "order": null,
       "overflow": null,
       "overflow_x": null,
       "overflow_y": null,
       "padding": null,
       "right": null,
       "top": null,
       "visibility": null,
       "width": null
      }
     },
     "5358f31e5a724ae09f35018f843dc52d": {
      "model_module": "@jupyter-widgets/controls",
      "model_module_version": "1.5.0",
      "model_name": "FloatProgressModel",
      "state": {
       "_dom_classes": [],
       "_model_module": "@jupyter-widgets/controls",
       "_model_module_version": "1.5.0",
       "_model_name": "FloatProgressModel",
       "_view_count": null,
       "_view_module": "@jupyter-widgets/controls",
       "_view_module_version": "1.5.0",
       "_view_name": "ProgressView",
       "bar_style": "success",
       "description": "",
       "description_tooltip": null,
       "layout": "IPY_MODEL_d6986c5a8cdc4ca083a6e818af1fe82c",
       "max": 231508.0,
       "min": 0.0,
       "orientation": "horizontal",
       "style": "IPY_MODEL_d61bdcf0cf324ad8bb9a7e5a87ded407",
       "value": 231508.0
      }
     },
     "65c21c402c04445b894aadb181f75e29": {
      "model_module": "@jupyter-widgets/controls",
      "model_module_version": "1.5.0",
      "model_name": "ProgressStyleModel",
      "state": {
       "_model_module": "@jupyter-widgets/controls",
       "_model_module_version": "1.5.0",
       "_model_name": "ProgressStyleModel",
       "_view_count": null,
       "_view_module": "@jupyter-widgets/base",
       "_view_module_version": "1.2.0",
       "_view_name": "StyleView",
       "bar_color": null,
       "description_width": ""
      }
     },
     "705562cdff63429b80651c56717d9f5c": {
      "model_module": "@jupyter-widgets/controls",
      "model_module_version": "1.5.0",
      "model_name": "HTMLModel",
      "state": {
       "_dom_classes": [],
       "_model_module": "@jupyter-widgets/controls",
       "_model_module_version": "1.5.0",
       "_model_name": "HTMLModel",
       "_view_count": null,
       "_view_module": "@jupyter-widgets/controls",
       "_view_module_version": "1.5.0",
       "_view_name": "HTMLView",
       "description": "",
       "description_tooltip": null,
       "layout": "IPY_MODEL_e8e0d10b77aa48ca9321006f549b3b8f",
       "placeholder": "​",
       "style": "IPY_MODEL_8c9e9038c91e4cd6a9fc15b4f3e05086",
       "value": " 440M/440M [00:02&lt;00:00, 159MB/s]"
      }
     },
     "7735d853939b4b32b66fd830b7530c2d": {
      "model_module": "@jupyter-widgets/base",
      "model_module_version": "1.2.0",
      "model_name": "LayoutModel",
      "state": {
       "_model_module": "@jupyter-widgets/base",
       "_model_module_version": "1.2.0",
       "_model_name": "LayoutModel",
       "_view_count": null,
       "_view_module": "@jupyter-widgets/base",
       "_view_module_version": "1.2.0",
       "_view_name": "LayoutView",
       "align_content": null,
       "align_items": null,
       "align_self": null,
       "border": null,
       "bottom": null,
       "display": null,
       "flex": null,
       "flex_flow": null,
       "grid_area": null,
       "grid_auto_columns": null,
       "grid_auto_flow": null,
       "grid_auto_rows": null,
       "grid_column": null,
       "grid_gap": null,
       "grid_row": null,
       "grid_template_areas": null,
       "grid_template_columns": null,
       "grid_template_rows": null,
       "height": null,
       "justify_content": null,
       "justify_items": null,
       "left": null,
       "margin": null,
       "max_height": null,
       "max_width": null,
       "min_height": null,
       "min_width": null,
       "object_fit": null,
       "object_position": null,
       "order": null,
       "overflow": null,
       "overflow_x": null,
       "overflow_y": null,
       "padding": null,
       "right": null,
       "top": null,
       "visibility": null,
       "width": null
      }
     },
     "7b280584d3b4415f8be858d24d6f0152": {
      "model_module": "@jupyter-widgets/controls",
      "model_module_version": "1.5.0",
      "model_name": "HTMLModel",
      "state": {
       "_dom_classes": [],
       "_model_module": "@jupyter-widgets/controls",
       "_model_module_version": "1.5.0",
       "_model_name": "HTMLModel",
       "_view_count": null,
       "_view_module": "@jupyter-widgets/controls",
       "_view_module_version": "1.5.0",
       "_view_name": "HTMLView",
       "description": "",
       "description_tooltip": null,
       "layout": "IPY_MODEL_07f1ee34278a4e13b048ca5467c9b2ff",
       "placeholder": "​",
       "style": "IPY_MODEL_bf600fe6e99949f09a648620aaf07d66",
       "value": " 28.0/28.0 [00:00&lt;00:00, 1.94kB/s]"
      }
     },
     "7f9b726116854311b03fa8eb5036f8ee": {
      "model_module": "@jupyter-widgets/base",
      "model_module_version": "1.2.0",
      "model_name": "LayoutModel",
      "state": {
       "_model_module": "@jupyter-widgets/base",
       "_model_module_version": "1.2.0",
       "_model_name": "LayoutModel",
       "_view_count": null,
       "_view_module": "@jupyter-widgets/base",
       "_view_module_version": "1.2.0",
       "_view_name": "LayoutView",
       "align_content": null,
       "align_items": null,
       "align_self": null,
       "border": null,
       "bottom": null,
       "display": null,
       "flex": null,
       "flex_flow": null,
       "grid_area": null,
       "grid_auto_columns": null,
       "grid_auto_flow": null,
       "grid_auto_rows": null,
       "grid_column": null,
       "grid_gap": null,
       "grid_row": null,
       "grid_template_areas": null,
       "grid_template_columns": null,
       "grid_template_rows": null,
       "height": null,
       "justify_content": null,
       "justify_items": null,
       "left": null,
       "margin": null,
       "max_height": null,
       "max_width": null,
       "min_height": null,
       "min_width": null,
       "object_fit": null,
       "object_position": null,
       "order": null,
       "overflow": null,
       "overflow_x": null,
       "overflow_y": null,
       "padding": null,
       "right": null,
       "top": null,
       "visibility": null,
       "width": null
      }
     },
     "81b7e0bdab8c48b38305c6e9ed8d87bb": {
      "model_module": "@jupyter-widgets/controls",
      "model_module_version": "1.5.0",
      "model_name": "HTMLModel",
      "state": {
       "_dom_classes": [],
       "_model_module": "@jupyter-widgets/controls",
       "_model_module_version": "1.5.0",
       "_model_name": "HTMLModel",
       "_view_count": null,
       "_view_module": "@jupyter-widgets/controls",
       "_view_module_version": "1.5.0",
       "_view_name": "HTMLView",
       "description": "",
       "description_tooltip": null,
       "layout": "IPY_MODEL_4cfdd9c23cb145b6acff2e539fdd9e06",
       "placeholder": "​",
       "style": "IPY_MODEL_d41038d6bfe74123b340e4b14468113c",
       "value": "Downloading model.safetensors: 100%"
      }
     },
     "88f0ddd78c6c4aa5a50a40bd2c2b296c": {
      "model_module": "@jupyter-widgets/controls",
      "model_module_version": "1.5.0",
      "model_name": "ProgressStyleModel",
      "state": {
       "_model_module": "@jupyter-widgets/controls",
       "_model_module_version": "1.5.0",
       "_model_name": "ProgressStyleModel",
       "_view_count": null,
       "_view_module": "@jupyter-widgets/base",
       "_view_module_version": "1.2.0",
       "_view_name": "StyleView",
       "bar_color": null,
       "description_width": ""
      }
     },
     "8c9e9038c91e4cd6a9fc15b4f3e05086": {
      "model_module": "@jupyter-widgets/controls",
      "model_module_version": "1.5.0",
      "model_name": "DescriptionStyleModel",
      "state": {
       "_model_module": "@jupyter-widgets/controls",
       "_model_module_version": "1.5.0",
       "_model_name": "DescriptionStyleModel",
       "_view_count": null,
       "_view_module": "@jupyter-widgets/base",
       "_view_module_version": "1.2.0",
       "_view_name": "StyleView",
       "description_width": ""
      }
     },
     "8e768ef79ecc4358b99702b4ecc8b688": {
      "model_module": "@jupyter-widgets/controls",
      "model_module_version": "1.5.0",
      "model_name": "FloatProgressModel",
      "state": {
       "_dom_classes": [],
       "_model_module": "@jupyter-widgets/controls",
       "_model_module_version": "1.5.0",
       "_model_name": "FloatProgressModel",
       "_view_count": null,
       "_view_module": "@jupyter-widgets/controls",
       "_view_module_version": "1.5.0",
       "_view_name": "ProgressView",
       "bar_style": "success",
       "description": "",
       "description_tooltip": null,
       "layout": "IPY_MODEL_1126d0fc071048e7b8a200a3139e4cf2",
       "max": 28.0,
       "min": 0.0,
       "orientation": "horizontal",
       "style": "IPY_MODEL_d20cd40d83344b9cb9d3d2a162029171",
       "value": 28.0
      }
     },
     "8fbfeff11d4d44f198812f28d3bf4b38": {
      "model_module": "@jupyter-widgets/base",
      "model_module_version": "1.2.0",
      "model_name": "LayoutModel",
      "state": {
       "_model_module": "@jupyter-widgets/base",
       "_model_module_version": "1.2.0",
       "_model_name": "LayoutModel",
       "_view_count": null,
       "_view_module": "@jupyter-widgets/base",
       "_view_module_version": "1.2.0",
       "_view_name": "LayoutView",
       "align_content": null,
       "align_items": null,
       "align_self": null,
       "border": null,
       "bottom": null,
       "display": null,
       "flex": null,
       "flex_flow": null,
       "grid_area": null,
       "grid_auto_columns": null,
       "grid_auto_flow": null,
       "grid_auto_rows": null,
       "grid_column": null,
       "grid_gap": null,
       "grid_row": null,
       "grid_template_areas": null,
       "grid_template_columns": null,
       "grid_template_rows": null,
       "height": null,
       "justify_content": null,
       "justify_items": null,
       "left": null,
       "margin": null,
       "max_height": null,
       "max_width": null,
       "min_height": null,
       "min_width": null,
       "object_fit": null,
       "object_position": null,
       "order": null,
       "overflow": null,
       "overflow_x": null,
       "overflow_y": null,
       "padding": null,
       "right": null,
       "top": null,
       "visibility": null,
       "width": null
      }
     },
     "992164db191f4638847d6b29371920b1": {
      "model_module": "@jupyter-widgets/controls",
      "model_module_version": "1.5.0",
      "model_name": "HBoxModel",
      "state": {
       "_dom_classes": [],
       "_model_module": "@jupyter-widgets/controls",
       "_model_module_version": "1.5.0",
       "_model_name": "HBoxModel",
       "_view_count": null,
       "_view_module": "@jupyter-widgets/controls",
       "_view_module_version": "1.5.0",
       "_view_name": "HBoxView",
       "box_style": "",
       "children": [
        "IPY_MODEL_aaaf4f477242431ca5a3a6ac83213b06",
        "IPY_MODEL_8e768ef79ecc4358b99702b4ecc8b688",
        "IPY_MODEL_7b280584d3b4415f8be858d24d6f0152"
       ],
       "layout": "IPY_MODEL_7735d853939b4b32b66fd830b7530c2d"
      }
     },
     "9fd251581de7477eb8b63d328201be3f": {
      "model_module": "@jupyter-widgets/controls",
      "model_module_version": "1.5.0",
      "model_name": "DescriptionStyleModel",
      "state": {
       "_model_module": "@jupyter-widgets/controls",
       "_model_module_version": "1.5.0",
       "_model_name": "DescriptionStyleModel",
       "_view_count": null,
       "_view_module": "@jupyter-widgets/base",
       "_view_module_version": "1.2.0",
       "_view_name": "StyleView",
       "description_width": ""
      }
     },
     "aaaf4f477242431ca5a3a6ac83213b06": {
      "model_module": "@jupyter-widgets/controls",
      "model_module_version": "1.5.0",
      "model_name": "HTMLModel",
      "state": {
       "_dom_classes": [],
       "_model_module": "@jupyter-widgets/controls",
       "_model_module_version": "1.5.0",
       "_model_name": "HTMLModel",
       "_view_count": null,
       "_view_module": "@jupyter-widgets/controls",
       "_view_module_version": "1.5.0",
       "_view_name": "HTMLView",
       "description": "",
       "description_tooltip": null,
       "layout": "IPY_MODEL_7f9b726116854311b03fa8eb5036f8ee",
       "placeholder": "​",
       "style": "IPY_MODEL_07e0ab8adb9f4c27a23465fa1d9e82a9",
       "value": "Downloading (…)okenizer_config.json: 100%"
      }
     },
     "acd6a4e28d60492faed0043ea05591a6": {
      "model_module": "@jupyter-widgets/controls",
      "model_module_version": "1.5.0",
      "model_name": "FloatProgressModel",
      "state": {
       "_dom_classes": [],
       "_model_module": "@jupyter-widgets/controls",
       "_model_module_version": "1.5.0",
       "_model_name": "FloatProgressModel",
       "_view_count": null,
       "_view_module": "@jupyter-widgets/controls",
       "_view_module_version": "1.5.0",
       "_view_name": "ProgressView",
       "bar_style": "success",
       "description": "",
       "description_tooltip": null,
       "layout": "IPY_MODEL_23c653f4d0774d18ad88984118363e26",
       "max": 440449768.0,
       "min": 0.0,
       "orientation": "horizontal",
       "style": "IPY_MODEL_88f0ddd78c6c4aa5a50a40bd2c2b296c",
       "value": 440449768.0
      }
     },
     "b61be6830a414f01bb5c3ec92687dad0": {
      "model_module": "@jupyter-widgets/base",
      "model_module_version": "1.2.0",
      "model_name": "LayoutModel",
      "state": {
       "_model_module": "@jupyter-widgets/base",
       "_model_module_version": "1.2.0",
       "_model_name": "LayoutModel",
       "_view_count": null,
       "_view_module": "@jupyter-widgets/base",
       "_view_module_version": "1.2.0",
       "_view_name": "LayoutView",
       "align_content": null,
       "align_items": null,
       "align_self": null,
       "border": null,
       "bottom": null,
       "display": null,
       "flex": null,
       "flex_flow": null,
       "grid_area": null,
       "grid_auto_columns": null,
       "grid_auto_flow": null,
       "grid_auto_rows": null,
       "grid_column": null,
       "grid_gap": null,
       "grid_row": null,
       "grid_template_areas": null,
       "grid_template_columns": null,
       "grid_template_rows": null,
       "height": null,
       "justify_content": null,
       "justify_items": null,
       "left": null,
       "margin": null,
       "max_height": null,
       "max_width": null,
       "min_height": null,
       "min_width": null,
       "object_fit": null,
       "object_position": null,
       "order": null,
       "overflow": null,
       "overflow_x": null,
       "overflow_y": null,
       "padding": null,
       "right": null,
       "top": null,
       "visibility": null,
       "width": null
      }
     },
     "bed5b8265d1b48a19fc02f30c8b8c270": {
      "model_module": "@jupyter-widgets/controls",
      "model_module_version": "1.5.0",
      "model_name": "HBoxModel",
      "state": {
       "_dom_classes": [],
       "_model_module": "@jupyter-widgets/controls",
       "_model_module_version": "1.5.0",
       "_model_name": "HBoxModel",
       "_view_count": null,
       "_view_module": "@jupyter-widgets/controls",
       "_view_module_version": "1.5.0",
       "_view_name": "HBoxView",
       "box_style": "",
       "children": [
        "IPY_MODEL_81b7e0bdab8c48b38305c6e9ed8d87bb",
        "IPY_MODEL_acd6a4e28d60492faed0043ea05591a6",
        "IPY_MODEL_705562cdff63429b80651c56717d9f5c"
       ],
       "layout": "IPY_MODEL_8fbfeff11d4d44f198812f28d3bf4b38"
      }
     },
     "bf600fe6e99949f09a648620aaf07d66": {
      "model_module": "@jupyter-widgets/controls",
      "model_module_version": "1.5.0",
      "model_name": "DescriptionStyleModel",
      "state": {
       "_model_module": "@jupyter-widgets/controls",
       "_model_module_version": "1.5.0",
       "_model_name": "DescriptionStyleModel",
       "_view_count": null,
       "_view_module": "@jupyter-widgets/base",
       "_view_module_version": "1.2.0",
       "_view_name": "StyleView",
       "description_width": ""
      }
     },
     "cf66f6394fe24d65a7d118b0fd5b7a4b": {
      "model_module": "@jupyter-widgets/controls",
      "model_module_version": "1.5.0",
      "model_name": "HTMLModel",
      "state": {
       "_dom_classes": [],
       "_model_module": "@jupyter-widgets/controls",
       "_model_module_version": "1.5.0",
       "_model_name": "HTMLModel",
       "_view_count": null,
       "_view_module": "@jupyter-widgets/controls",
       "_view_module_version": "1.5.0",
       "_view_name": "HTMLView",
       "description": "",
       "description_tooltip": null,
       "layout": "IPY_MODEL_37939e4302cc4db7ac113f252e96f18f",
       "placeholder": "​",
       "style": "IPY_MODEL_3c978310b3714d769caa93d3f1fae2e7",
       "value": " 570/570 [00:00&lt;00:00, 43.5kB/s]"
      }
     },
     "d20cd40d83344b9cb9d3d2a162029171": {
      "model_module": "@jupyter-widgets/controls",
      "model_module_version": "1.5.0",
      "model_name": "ProgressStyleModel",
      "state": {
       "_model_module": "@jupyter-widgets/controls",
       "_model_module_version": "1.5.0",
       "_model_name": "ProgressStyleModel",
       "_view_count": null,
       "_view_module": "@jupyter-widgets/base",
       "_view_module_version": "1.2.0",
       "_view_name": "StyleView",
       "bar_color": null,
       "description_width": ""
      }
     },
     "d41038d6bfe74123b340e4b14468113c": {
      "model_module": "@jupyter-widgets/controls",
      "model_module_version": "1.5.0",
      "model_name": "DescriptionStyleModel",
      "state": {
       "_model_module": "@jupyter-widgets/controls",
       "_model_module_version": "1.5.0",
       "_model_name": "DescriptionStyleModel",
       "_view_count": null,
       "_view_module": "@jupyter-widgets/base",
       "_view_module_version": "1.2.0",
       "_view_name": "StyleView",
       "description_width": ""
      }
     },
     "d61bdcf0cf324ad8bb9a7e5a87ded407": {
      "model_module": "@jupyter-widgets/controls",
      "model_module_version": "1.5.0",
      "model_name": "ProgressStyleModel",
      "state": {
       "_model_module": "@jupyter-widgets/controls",
       "_model_module_version": "1.5.0",
       "_model_name": "ProgressStyleModel",
       "_view_count": null,
       "_view_module": "@jupyter-widgets/base",
       "_view_module_version": "1.2.0",
       "_view_name": "StyleView",
       "bar_color": null,
       "description_width": ""
      }
     },
     "d6986c5a8cdc4ca083a6e818af1fe82c": {
      "model_module": "@jupyter-widgets/base",
      "model_module_version": "1.2.0",
      "model_name": "LayoutModel",
      "state": {
       "_model_module": "@jupyter-widgets/base",
       "_model_module_version": "1.2.0",
       "_model_name": "LayoutModel",
       "_view_count": null,
       "_view_module": "@jupyter-widgets/base",
       "_view_module_version": "1.2.0",
       "_view_name": "LayoutView",
       "align_content": null,
       "align_items": null,
       "align_self": null,
       "border": null,
       "bottom": null,
       "display": null,
       "flex": null,
       "flex_flow": null,
       "grid_area": null,
       "grid_auto_columns": null,
       "grid_auto_flow": null,
       "grid_auto_rows": null,
       "grid_column": null,
       "grid_gap": null,
       "grid_row": null,
       "grid_template_areas": null,
       "grid_template_columns": null,
       "grid_template_rows": null,
       "height": null,
       "justify_content": null,
       "justify_items": null,
       "left": null,
       "margin": null,
       "max_height": null,
       "max_width": null,
       "min_height": null,
       "min_width": null,
       "object_fit": null,
       "object_position": null,
       "order": null,
       "overflow": null,
       "overflow_x": null,
       "overflow_y": null,
       "padding": null,
       "right": null,
       "top": null,
       "visibility": null,
       "width": null
      }
     },
     "d82e723f1bd74cc2a8bf494cf30ae7f2": {
      "model_module": "@jupyter-widgets/controls",
      "model_module_version": "1.5.0",
      "model_name": "HTMLModel",
      "state": {
       "_dom_classes": [],
       "_model_module": "@jupyter-widgets/controls",
       "_model_module_version": "1.5.0",
       "_model_name": "HTMLModel",
       "_view_count": null,
       "_view_module": "@jupyter-widgets/controls",
       "_view_module_version": "1.5.0",
       "_view_name": "HTMLView",
       "description": "",
       "description_tooltip": null,
       "layout": "IPY_MODEL_06a7af4dd90e4deba5969b7f8f4281b7",
       "placeholder": "​",
       "style": "IPY_MODEL_1c7d62bee1c2452fa105d12a9f013b54",
       "value": "Downloading (…)lve/main/config.json: 100%"
      }
     },
     "e8e0d10b77aa48ca9321006f549b3b8f": {
      "model_module": "@jupyter-widgets/base",
      "model_module_version": "1.2.0",
      "model_name": "LayoutModel",
      "state": {
       "_model_module": "@jupyter-widgets/base",
       "_model_module_version": "1.2.0",
       "_model_name": "LayoutModel",
       "_view_count": null,
       "_view_module": "@jupyter-widgets/base",
       "_view_module_version": "1.2.0",
       "_view_name": "LayoutView",
       "align_content": null,
       "align_items": null,
       "align_self": null,
       "border": null,
       "bottom": null,
       "display": null,
       "flex": null,
       "flex_flow": null,
       "grid_area": null,
       "grid_auto_columns": null,
       "grid_auto_flow": null,
       "grid_auto_rows": null,
       "grid_column": null,
       "grid_gap": null,
       "grid_row": null,
       "grid_template_areas": null,
       "grid_template_columns": null,
       "grid_template_rows": null,
       "height": null,
       "justify_content": null,
       "justify_items": null,
       "left": null,
       "margin": null,
       "max_height": null,
       "max_width": null,
       "min_height": null,
       "min_width": null,
       "object_fit": null,
       "object_position": null,
       "order": null,
       "overflow": null,
       "overflow_x": null,
       "overflow_y": null,
       "padding": null,
       "right": null,
       "top": null,
       "visibility": null,
       "width": null
      }
     }
    },
    "version_major": 2,
    "version_minor": 0
   }
  }
 },
 "nbformat": 4,
 "nbformat_minor": 5
}
