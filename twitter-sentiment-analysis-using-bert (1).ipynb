{
 "cells": [
  {
   "cell_type": "code",
   "execution_count": 1,
   "id": "edda70a4",
   "metadata": {
    "execution": {
     "iopub.execute_input": "2023-07-07T04:12:49.544447Z",
     "iopub.status.busy": "2023-07-07T04:12:49.543955Z",
     "iopub.status.idle": "2023-07-07T04:13:02.061940Z",
     "shell.execute_reply": "2023-07-07T04:13:02.060723Z"
    },
    "papermill": {
     "duration": 12.5353,
     "end_time": "2023-07-07T04:13:02.064560",
     "exception": false,
     "start_time": "2023-07-07T04:12:49.529260",
     "status": "completed"
    },
    "tags": []
   },
   "outputs": [
    {
     "name": "stdout",
     "output_type": "stream",
     "text": [
      "Requirement already satisfied: transformers in /opt/conda/lib/python3.10/site-packages (4.30.1)\r\n",
      "Requirement already satisfied: filelock in /opt/conda/lib/python3.10/site-packages (from transformers) (3.12.0)\r\n",
      "Requirement already satisfied: huggingface-hub<1.0,>=0.14.1 in /opt/conda/lib/python3.10/site-packages (from transformers) (0.15.1)\r\n",
      "Requirement already satisfied: numpy>=1.17 in /opt/conda/lib/python3.10/site-packages (from transformers) (1.23.5)\r\n",
      "Requirement already satisfied: packaging>=20.0 in /opt/conda/lib/python3.10/site-packages (from transformers) (21.3)\r\n",
      "Requirement already satisfied: pyyaml>=5.1 in /opt/conda/lib/python3.10/site-packages (from transformers) (5.4.1)\r\n",
      "Requirement already satisfied: regex!=2019.12.17 in /opt/conda/lib/python3.10/site-packages (from transformers) (2023.5.5)\r\n",
      "Requirement already satisfied: requests in /opt/conda/lib/python3.10/site-packages (from transformers) (2.28.2)\r\n",
      "Requirement already satisfied: tokenizers!=0.11.3,<0.14,>=0.11.1 in /opt/conda/lib/python3.10/site-packages (from transformers) (0.13.3)\r\n",
      "Requirement already satisfied: safetensors>=0.3.1 in /opt/conda/lib/python3.10/site-packages (from transformers) (0.3.1)\r\n",
      "Requirement already satisfied: tqdm>=4.27 in /opt/conda/lib/python3.10/site-packages (from transformers) (4.64.1)\r\n",
      "Requirement already satisfied: fsspec in /opt/conda/lib/python3.10/site-packages (from huggingface-hub<1.0,>=0.14.1->transformers) (2023.6.0)\r\n",
      "Requirement already satisfied: typing-extensions>=3.7.4.3 in /opt/conda/lib/python3.10/site-packages (from huggingface-hub<1.0,>=0.14.1->transformers) (4.5.0)\r\n",
      "Requirement already satisfied: pyparsing!=3.0.5,>=2.0.2 in /opt/conda/lib/python3.10/site-packages (from packaging>=20.0->transformers) (3.0.9)\r\n",
      "Requirement already satisfied: charset-normalizer<4,>=2 in /opt/conda/lib/python3.10/site-packages (from requests->transformers) (2.1.1)\r\n",
      "Requirement already satisfied: idna<4,>=2.5 in /opt/conda/lib/python3.10/site-packages (from requests->transformers) (3.4)\r\n",
      "Requirement already satisfied: urllib3<1.27,>=1.21.1 in /opt/conda/lib/python3.10/site-packages (from requests->transformers) (1.26.15)\r\n",
      "Requirement already satisfied: certifi>=2017.4.17 in /opt/conda/lib/python3.10/site-packages (from requests->transformers) (2023.5.7)\r\n",
      "\u001b[33mWARNING: Running pip as the 'root' user can result in broken permissions and conflicting behaviour with the system package manager. It is recommended to use a virtual environment instead: https://pip.pypa.io/warnings/venv\u001b[0m\u001b[33m\r\n",
      "\u001b[0m"
     ]
    }
   ],
   "source": [
    "!pip install transformers"
   ]
  },
  {
   "cell_type": "code",
   "execution_count": 2,
   "id": "e5f9c9f5",
   "metadata": {
    "execution": {
     "iopub.execute_input": "2023-07-07T04:13:02.090163Z",
     "iopub.status.busy": "2023-07-07T04:13:02.089169Z",
     "iopub.status.idle": "2023-07-07T04:13:16.203983Z",
     "shell.execute_reply": "2023-07-07T04:13:16.202966Z"
    },
    "papermill": {
     "duration": 14.130091,
     "end_time": "2023-07-07T04:13:16.206521",
     "exception": false,
     "start_time": "2023-07-07T04:13:02.076430",
     "status": "completed"
    },
    "tags": []
   },
   "outputs": [
    {
     "name": "stderr",
     "output_type": "stream",
     "text": [
      "/opt/conda/lib/python3.10/site-packages/tensorflow_io/python/ops/__init__.py:98: UserWarning: unable to load libtensorflow_io_plugins.so: unable to open file: libtensorflow_io_plugins.so, from paths: ['/opt/conda/lib/python3.10/site-packages/tensorflow_io/python/ops/libtensorflow_io_plugins.so']\n",
      "caused by: ['/opt/conda/lib/python3.10/site-packages/tensorflow_io/python/ops/libtensorflow_io_plugins.so: undefined symbol: _ZN3tsl6StatusC1EN10tensorflow5error4CodeESt17basic_string_viewIcSt11char_traitsIcEENS_14SourceLocationE']\n",
      "  warnings.warn(f\"unable to load libtensorflow_io_plugins.so: {e}\")\n",
      "/opt/conda/lib/python3.10/site-packages/tensorflow_io/python/ops/__init__.py:104: UserWarning: file system plugins are not loaded: unable to open file: libtensorflow_io.so, from paths: ['/opt/conda/lib/python3.10/site-packages/tensorflow_io/python/ops/libtensorflow_io.so']\n",
      "caused by: ['/opt/conda/lib/python3.10/site-packages/tensorflow_io/python/ops/libtensorflow_io.so: undefined symbol: _ZTVN10tensorflow13GcsFileSystemE']\n",
      "  warnings.warn(f\"file system plugins are not loaded: {e}\")\n"
     ]
    }
   ],
   "source": [
    "import torch\n",
    "from torch.utils.data import TensorDataset, DataLoader, RandomSampler, SequentialSampler\n",
    "from transformers import BertTokenizer, BertForSequenceClassification\n",
    "from sklearn.model_selection import train_test_split\n",
    "\n",
    "import pandas as pd\n",
    "import numpy as np\n",
    "\n",
    "from tabulate import tabulate\n",
    "from tqdm import trange\n",
    "import random"
   ]
  },
  {
   "cell_type": "code",
   "execution_count": 3,
   "id": "ede7826c",
   "metadata": {
    "execution": {
     "iopub.execute_input": "2023-07-07T04:13:16.231007Z",
     "iopub.status.busy": "2023-07-07T04:13:16.230679Z",
     "iopub.status.idle": "2023-07-07T04:13:16.311174Z",
     "shell.execute_reply": "2023-07-07T04:13:16.310250Z"
    },
    "papermill": {
     "duration": 0.095337,
     "end_time": "2023-07-07T04:13:16.313418",
     "exception": false,
     "start_time": "2023-07-07T04:13:16.218081",
     "status": "completed"
    },
    "tags": []
   },
   "outputs": [
    {
     "name": "stdout",
     "output_type": "stream",
     "text": [
      "cuda\n"
     ]
    }
   ],
   "source": [
    "device = ('cuda' if torch.cuda.is_available() else 'cpu')\n",
    "print(device)"
   ]
  },
  {
   "cell_type": "markdown",
   "id": "b188d3e9",
   "metadata": {
    "papermill": {
     "duration": 0.012153,
     "end_time": "2023-07-07T04:13:16.337795",
     "exception": false,
     "start_time": "2023-07-07T04:13:16.325642",
     "status": "completed"
    },
    "tags": []
   },
   "source": [
    "Load Data"
   ]
  },
  {
   "cell_type": "code",
   "execution_count": 4,
   "id": "1fbd9e96",
   "metadata": {
    "execution": {
     "iopub.execute_input": "2023-07-07T04:13:16.363376Z",
     "iopub.status.busy": "2023-07-07T04:13:16.362858Z",
     "iopub.status.idle": "2023-07-07T04:13:16.653810Z",
     "shell.execute_reply": "2023-07-07T04:13:16.652823Z"
    },
    "papermill": {
     "duration": 0.306703,
     "end_time": "2023-07-07T04:13:16.656288",
     "exception": false,
     "start_time": "2023-07-07T04:13:16.349585",
     "status": "completed"
    },
    "tags": []
   },
   "outputs": [
    {
     "data": {
      "text/html": [
       "<div>\n",
       "<style scoped>\n",
       "    .dataframe tbody tr th:only-of-type {\n",
       "        vertical-align: middle;\n",
       "    }\n",
       "\n",
       "    .dataframe tbody tr th {\n",
       "        vertical-align: top;\n",
       "    }\n",
       "\n",
       "    .dataframe thead th {\n",
       "        text-align: right;\n",
       "    }\n",
       "</style>\n",
       "<table border=\"1\" class=\"dataframe\">\n",
       "  <thead>\n",
       "    <tr style=\"text-align: right;\">\n",
       "      <th></th>\n",
       "      <th>id</th>\n",
       "      <th>subject</th>\n",
       "      <th>target</th>\n",
       "      <th>text</th>\n",
       "    </tr>\n",
       "  </thead>\n",
       "  <tbody>\n",
       "    <tr>\n",
       "      <th>21211</th>\n",
       "      <td>4032</td>\n",
       "      <td>CS-GO</td>\n",
       "      <td>Irrelevant</td>\n",
       "      <td>Tonight at 19: 00 our CS: GO Team Anger Manage...</td>\n",
       "    </tr>\n",
       "    <tr>\n",
       "      <th>33541</th>\n",
       "      <td>6562</td>\n",
       "      <td>Fortnite</td>\n",
       "      <td>Negative</td>\n",
       "      <td>@ FortniteGame fortnite take the lightsabers i...</td>\n",
       "    </tr>\n",
       "    <tr>\n",
       "      <th>62550</th>\n",
       "      <td>5123</td>\n",
       "      <td>GrandTheftAuto(GTA)</td>\n",
       "      <td>Negative</td>\n",
       "      <td>Only roll play yo we're tired where the fuck i...</td>\n",
       "    </tr>\n",
       "    <tr>\n",
       "      <th>45401</th>\n",
       "      <td>11794</td>\n",
       "      <td>Verizon</td>\n",
       "      <td>Irrelevant</td>\n",
       "      <td>Police might help cops acquire military weapon...</td>\n",
       "    </tr>\n",
       "    <tr>\n",
       "      <th>9696</th>\n",
       "      <td>12871</td>\n",
       "      <td>Xbox(Xseries)</td>\n",
       "      <td>Positive</td>\n",
       "      <td>Ahh, the calm before the  . . Talked to a few ...</td>\n",
       "    </tr>\n",
       "  </tbody>\n",
       "</table>\n",
       "</div>"
      ],
      "text/plain": [
       "          id              subject      target  \\\n",
       "21211   4032                CS-GO  Irrelevant   \n",
       "33541   6562             Fortnite    Negative   \n",
       "62550   5123  GrandTheftAuto(GTA)    Negative   \n",
       "45401  11794              Verizon  Irrelevant   \n",
       "9696   12871        Xbox(Xseries)    Positive   \n",
       "\n",
       "                                                    text  \n",
       "21211  Tonight at 19: 00 our CS: GO Team Anger Manage...  \n",
       "33541  @ FortniteGame fortnite take the lightsabers i...  \n",
       "62550  Only roll play yo we're tired where the fuck i...  \n",
       "45401  Police might help cops acquire military weapon...  \n",
       "9696   Ahh, the calm before the  . . Talked to a few ...  "
      ]
     },
     "execution_count": 4,
     "metadata": {},
     "output_type": "execute_result"
    }
   ],
   "source": [
    "# # Importing the dataset\n",
    "data_columns=['id','subject','target','text']\n",
    "df_train = pd.read_csv('/kaggle/input/twitter-entity-sentiment-analysis/twitter_training.csv', names = data_columns )\n",
    "\n",
    "df_train.sample(5)\n"
   ]
  },
  {
   "cell_type": "code",
   "execution_count": 5,
   "id": "a200eafa",
   "metadata": {
    "execution": {
     "iopub.execute_input": "2023-07-07T04:13:16.693827Z",
     "iopub.status.busy": "2023-07-07T04:13:16.693266Z",
     "iopub.status.idle": "2023-07-07T04:13:16.733009Z",
     "shell.execute_reply": "2023-07-07T04:13:16.731770Z"
    },
    "papermill": {
     "duration": 0.064982,
     "end_time": "2023-07-07T04:13:16.735903",
     "exception": false,
     "start_time": "2023-07-07T04:13:16.670921",
     "status": "completed"
    },
    "tags": []
   },
   "outputs": [
    {
     "data": {
      "text/html": [
       "<div>\n",
       "<style scoped>\n",
       "    .dataframe tbody tr th:only-of-type {\n",
       "        vertical-align: middle;\n",
       "    }\n",
       "\n",
       "    .dataframe tbody tr th {\n",
       "        vertical-align: top;\n",
       "    }\n",
       "\n",
       "    .dataframe thead th {\n",
       "        text-align: right;\n",
       "    }\n",
       "</style>\n",
       "<table border=\"1\" class=\"dataframe\">\n",
       "  <thead>\n",
       "    <tr style=\"text-align: right;\">\n",
       "      <th></th>\n",
       "      <th>id</th>\n",
       "      <th>subject</th>\n",
       "      <th>target</th>\n",
       "      <th>text</th>\n",
       "    </tr>\n",
       "  </thead>\n",
       "  <tbody>\n",
       "    <tr>\n",
       "      <th>142</th>\n",
       "      <td>5473</td>\n",
       "      <td>Hearthstone</td>\n",
       "      <td>Neutral</td>\n",
       "      <td>YOUR PATHETIC Freeze Cannot Stop MY MINIONS | ...</td>\n",
       "    </tr>\n",
       "    <tr>\n",
       "      <th>807</th>\n",
       "      <td>6361</td>\n",
       "      <td>FIFA</td>\n",
       "      <td>Neutral</td>\n",
       "      <td>Man FIFA 19 was my game despite how shit it wa...</td>\n",
       "    </tr>\n",
       "    <tr>\n",
       "      <th>526</th>\n",
       "      <td>11244</td>\n",
       "      <td>TomClancysRainbowSix</td>\n",
       "      <td>Neutral</td>\n",
       "      <td>Absolutely love my amazing sister who has made...</td>\n",
       "    </tr>\n",
       "    <tr>\n",
       "      <th>52</th>\n",
       "      <td>6022</td>\n",
       "      <td>FIFA</td>\n",
       "      <td>Negative</td>\n",
       "      <td>More FIFA? Leslie Steiger must be joking! See ...</td>\n",
       "    </tr>\n",
       "    <tr>\n",
       "      <th>177</th>\n",
       "      <td>4343</td>\n",
       "      <td>CS-GO</td>\n",
       "      <td>Neutral</td>\n",
       "      <td>cs go ranked! ENG/CRO #fresh twitch.tv/vugidrugi</td>\n",
       "    </tr>\n",
       "  </tbody>\n",
       "</table>\n",
       "</div>"
      ],
      "text/plain": [
       "        id               subject    target  \\\n",
       "142   5473           Hearthstone   Neutral   \n",
       "807   6361                  FIFA   Neutral   \n",
       "526  11244  TomClancysRainbowSix   Neutral   \n",
       "52    6022                  FIFA  Negative   \n",
       "177   4343                 CS-GO   Neutral   \n",
       "\n",
       "                                                  text  \n",
       "142  YOUR PATHETIC Freeze Cannot Stop MY MINIONS | ...  \n",
       "807  Man FIFA 19 was my game despite how shit it wa...  \n",
       "526  Absolutely love my amazing sister who has made...  \n",
       "52   More FIFA? Leslie Steiger must be joking! See ...  \n",
       "177   cs go ranked! ENG/CRO #fresh twitch.tv/vugidrugi  "
      ]
     },
     "execution_count": 5,
     "metadata": {},
     "output_type": "execute_result"
    }
   ],
   "source": [
    "df_valid = pd.read_csv('/kaggle/input/twitter-entity-sentiment-analysis/twitter_validation.csv', names = data_columns )\n",
    "df_valid.sample(5)"
   ]
  },
  {
   "cell_type": "markdown",
   "id": "53f5dff2",
   "metadata": {
    "papermill": {
     "duration": 0.026024,
     "end_time": "2023-07-07T04:13:16.786291",
     "exception": false,
     "start_time": "2023-07-07T04:13:16.760267",
     "status": "completed"
    },
    "tags": []
   },
   "source": [
    "About Data"
   ]
  },
  {
   "cell_type": "code",
   "execution_count": 6,
   "id": "fe4cb849",
   "metadata": {
    "execution": {
     "iopub.execute_input": "2023-07-07T04:13:16.823093Z",
     "iopub.status.busy": "2023-07-07T04:13:16.822525Z",
     "iopub.status.idle": "2023-07-07T04:13:16.829964Z",
     "shell.execute_reply": "2023-07-07T04:13:16.829229Z"
    },
    "papermill": {
     "duration": 0.030497,
     "end_time": "2023-07-07T04:13:16.834146",
     "exception": false,
     "start_time": "2023-07-07T04:13:16.803649",
     "status": "completed"
    },
    "tags": []
   },
   "outputs": [
    {
     "name": "stdout",
     "output_type": "stream",
     "text": [
      "Length of train data: 74682\n",
      "Length of test data: 1000\n"
     ]
    }
   ],
   "source": [
    "print(\"Length of train data:\",len(df_train))\n",
    "print(\"Length of test data:\",len(df_valid))\n"
   ]
  },
  {
   "cell_type": "code",
   "execution_count": 7,
   "id": "a4c12ca3",
   "metadata": {
    "execution": {
     "iopub.execute_input": "2023-07-07T04:13:16.870652Z",
     "iopub.status.busy": "2023-07-07T04:13:16.870086Z",
     "iopub.status.idle": "2023-07-07T04:13:16.876309Z",
     "shell.execute_reply": "2023-07-07T04:13:16.875327Z"
    },
    "papermill": {
     "duration": 0.033501,
     "end_time": "2023-07-07T04:13:16.884846",
     "exception": false,
     "start_time": "2023-07-07T04:13:16.851345",
     "status": "completed"
    },
    "tags": []
   },
   "outputs": [
    {
     "name": "stdout",
     "output_type": "stream",
     "text": [
      "Shape of train data: (74682, 4)\n",
      "Shape of test data: (1000, 4)\n"
     ]
    }
   ],
   "source": [
    "print(\"Shape of train data:\",df_train.shape)\n",
    "print(\"Shape of test data:\",df_valid.shape)"
   ]
  },
  {
   "cell_type": "code",
   "execution_count": 8,
   "id": "b90d979d",
   "metadata": {
    "execution": {
     "iopub.execute_input": "2023-07-07T04:13:16.921772Z",
     "iopub.status.busy": "2023-07-07T04:13:16.921305Z",
     "iopub.status.idle": "2023-07-07T04:13:17.038128Z",
     "shell.execute_reply": "2023-07-07T04:13:17.037234Z"
    },
    "papermill": {
     "duration": 0.138606,
     "end_time": "2023-07-07T04:13:17.041237",
     "exception": false,
     "start_time": "2023-07-07T04:13:16.902631",
     "status": "completed"
    },
    "tags": []
   },
   "outputs": [
    {
     "name": "stdout",
     "output_type": "stream",
     "text": [
      "<class 'pandas.core.frame.DataFrame'>\n",
      "RangeIndex: 74682 entries, 0 to 74681\n",
      "Data columns (total 4 columns):\n",
      " #   Column   Non-Null Count  Dtype \n",
      "---  ------   --------------  ----- \n",
      " 0   id       74682 non-null  int64 \n",
      " 1   subject  74682 non-null  object\n",
      " 2   target   74682 non-null  object\n",
      " 3   text     73996 non-null  object\n",
      "dtypes: int64(1), object(3)\n",
      "memory usage: 2.3+ MB\n"
     ]
    }
   ],
   "source": [
    "df_train.info()"
   ]
  },
  {
   "cell_type": "code",
   "execution_count": 9,
   "id": "e9d9302e",
   "metadata": {
    "execution": {
     "iopub.execute_input": "2023-07-07T04:13:17.078684Z",
     "iopub.status.busy": "2023-07-07T04:13:17.078159Z",
     "iopub.status.idle": "2023-07-07T04:13:17.096269Z",
     "shell.execute_reply": "2023-07-07T04:13:17.095318Z"
    },
    "papermill": {
     "duration": 0.039161,
     "end_time": "2023-07-07T04:13:17.098929",
     "exception": false,
     "start_time": "2023-07-07T04:13:17.059768",
     "status": "completed"
    },
    "tags": []
   },
   "outputs": [
    {
     "name": "stdout",
     "output_type": "stream",
     "text": [
      "<class 'pandas.core.frame.DataFrame'>\n",
      "RangeIndex: 1000 entries, 0 to 999\n",
      "Data columns (total 4 columns):\n",
      " #   Column   Non-Null Count  Dtype \n",
      "---  ------   --------------  ----- \n",
      " 0   id       1000 non-null   int64 \n",
      " 1   subject  1000 non-null   object\n",
      " 2   target   1000 non-null   object\n",
      " 3   text     1000 non-null   object\n",
      "dtypes: int64(1), object(3)\n",
      "memory usage: 31.4+ KB\n"
     ]
    }
   ],
   "source": [
    "df_valid.info()"
   ]
  },
  {
   "cell_type": "code",
   "execution_count": 10,
   "id": "dacad526",
   "metadata": {
    "execution": {
     "iopub.execute_input": "2023-07-07T04:13:17.135593Z",
     "iopub.status.busy": "2023-07-07T04:13:17.135101Z",
     "iopub.status.idle": "2023-07-07T04:13:17.237090Z",
     "shell.execute_reply": "2023-07-07T04:13:17.236245Z"
    },
    "papermill": {
     "duration": 0.122855,
     "end_time": "2023-07-07T04:13:17.239636",
     "exception": false,
     "start_time": "2023-07-07T04:13:17.116781",
     "status": "completed"
    },
    "tags": []
   },
   "outputs": [
    {
     "data": {
      "text/plain": [
       "686"
      ]
     },
     "execution_count": 10,
     "metadata": {},
     "output_type": "execute_result"
    }
   ],
   "source": [
    "# Check for null values\n",
    "\n",
    "np.sum(df_train.isnull().any(axis=1))"
   ]
  },
  {
   "cell_type": "code",
   "execution_count": 11,
   "id": "8820ed52",
   "metadata": {
    "execution": {
     "iopub.execute_input": "2023-07-07T04:13:17.275832Z",
     "iopub.status.busy": "2023-07-07T04:13:17.275358Z",
     "iopub.status.idle": "2023-07-07T04:13:17.383520Z",
     "shell.execute_reply": "2023-07-07T04:13:17.382371Z"
    },
    "papermill": {
     "duration": 0.129281,
     "end_time": "2023-07-07T04:13:17.386575",
     "exception": false,
     "start_time": "2023-07-07T04:13:17.257294",
     "status": "completed"
    },
    "tags": []
   },
   "outputs": [
    {
     "name": "stdout",
     "output_type": "stream",
     "text": [
      "(73996, 4)\n"
     ]
    }
   ],
   "source": [
    "df_train = df_train.dropna()\n",
    "print(df_train.shape)"
   ]
  },
  {
   "cell_type": "code",
   "execution_count": 12,
   "id": "0f5a4004",
   "metadata": {
    "execution": {
     "iopub.execute_input": "2023-07-07T04:13:17.424594Z",
     "iopub.status.busy": "2023-07-07T04:13:17.424078Z",
     "iopub.status.idle": "2023-07-07T04:13:17.531132Z",
     "shell.execute_reply": "2023-07-07T04:13:17.530222Z"
    },
    "papermill": {
     "duration": 0.128959,
     "end_time": "2023-07-07T04:13:17.533797",
     "exception": false,
     "start_time": "2023-07-07T04:13:17.404838",
     "status": "completed"
    },
    "tags": []
   },
   "outputs": [
    {
     "name": "stdout",
     "output_type": "stream",
     "text": [
      "<class 'pandas.core.frame.DataFrame'>\n",
      "Int64Index: 73996 entries, 0 to 74681\n",
      "Data columns (total 4 columns):\n",
      " #   Column   Non-Null Count  Dtype \n",
      "---  ------   --------------  ----- \n",
      " 0   id       73996 non-null  int64 \n",
      " 1   subject  73996 non-null  object\n",
      " 2   target   73996 non-null  object\n",
      " 3   text     73996 non-null  object\n",
      "dtypes: int64(1), object(3)\n",
      "memory usage: 2.8+ MB\n"
     ]
    }
   ],
   "source": [
    "df_train.info()"
   ]
  },
  {
   "cell_type": "code",
   "execution_count": 13,
   "id": "256cfc85",
   "metadata": {
    "execution": {
     "iopub.execute_input": "2023-07-07T04:13:17.572728Z",
     "iopub.status.busy": "2023-07-07T04:13:17.572226Z",
     "iopub.status.idle": "2023-07-07T04:13:17.585356Z",
     "shell.execute_reply": "2023-07-07T04:13:17.584444Z"
    },
    "papermill": {
     "duration": 0.03547,
     "end_time": "2023-07-07T04:13:17.588229",
     "exception": false,
     "start_time": "2023-07-07T04:13:17.552759",
     "status": "completed"
    },
    "tags": []
   },
   "outputs": [
    {
     "data": {
      "text/plain": [
       "0"
      ]
     },
     "execution_count": 13,
     "metadata": {},
     "output_type": "execute_result"
    }
   ],
   "source": [
    "np.sum(df_valid.isnull().any(axis=1))"
   ]
  },
  {
   "cell_type": "code",
   "execution_count": 14,
   "id": "50270a38",
   "metadata": {
    "execution": {
     "iopub.execute_input": "2023-07-07T04:13:17.627863Z",
     "iopub.status.busy": "2023-07-07T04:13:17.627381Z",
     "iopub.status.idle": "2023-07-07T04:13:17.645917Z",
     "shell.execute_reply": "2023-07-07T04:13:17.645083Z"
    },
    "papermill": {
     "duration": 0.040666,
     "end_time": "2023-07-07T04:13:17.648458",
     "exception": false,
     "start_time": "2023-07-07T04:13:17.607792",
     "status": "completed"
    },
    "tags": []
   },
   "outputs": [
    {
     "data": {
      "text/plain": [
       "array(['Positive', 'Neutral', 'Negative', 'Irrelevant'], dtype=object)"
      ]
     },
     "execution_count": 14,
     "metadata": {},
     "output_type": "execute_result"
    }
   ],
   "source": [
    "df_train['target'].unique()"
   ]
  },
  {
   "cell_type": "code",
   "execution_count": 15,
   "id": "48c83310",
   "metadata": {
    "execution": {
     "iopub.execute_input": "2023-07-07T04:13:17.686602Z",
     "iopub.status.busy": "2023-07-07T04:13:17.686092Z",
     "iopub.status.idle": "2023-07-07T04:13:17.692945Z",
     "shell.execute_reply": "2023-07-07T04:13:17.692161Z"
    },
    "papermill": {
     "duration": 0.031545,
     "end_time": "2023-07-07T04:13:17.698299",
     "exception": false,
     "start_time": "2023-07-07T04:13:17.666754",
     "status": "completed"
    },
    "tags": []
   },
   "outputs": [
    {
     "data": {
      "text/plain": [
       "array(['Irrelevant', 'Neutral', 'Negative', 'Positive'], dtype=object)"
      ]
     },
     "execution_count": 15,
     "metadata": {},
     "output_type": "execute_result"
    }
   ],
   "source": [
    "df_valid['target'].unique()"
   ]
  },
  {
   "cell_type": "code",
   "execution_count": 16,
   "id": "ee798de9",
   "metadata": {
    "execution": {
     "iopub.execute_input": "2023-07-07T04:13:17.737094Z",
     "iopub.status.busy": "2023-07-07T04:13:17.736565Z",
     "iopub.status.idle": "2023-07-07T04:13:18.306005Z",
     "shell.execute_reply": "2023-07-07T04:13:18.305086Z"
    },
    "papermill": {
     "duration": 0.591487,
     "end_time": "2023-07-07T04:13:18.308030",
     "exception": false,
     "start_time": "2023-07-07T04:13:17.716543",
     "status": "completed"
    },
    "tags": []
   },
   "outputs": [
    {
     "data": {
      "image/png": "[encoded data removed]",
      "text/plain": [
       "<Figure size 640x480 with 1 Axes>"
      ]
     },
     "metadata": {},
     "output_type": "display_data"
    }
   ],
   "source": [
    "#Plot the Data \n",
    "ax = df_train.groupby('target').count().plot(kind='bar', title='Distribution of data',legend=True)\n",
    "# Storing data in lists.\n",
    "text, sentiment = list(df_train['text']), list(df_train['target'])"
   ]
  },
  {
   "cell_type": "code",
   "execution_count": 17,
   "id": "aa9bd15e",
   "metadata": {
    "execution": {
     "iopub.execute_input": "2023-07-07T04:13:18.335881Z",
     "iopub.status.busy": "2023-07-07T04:13:18.335572Z",
     "iopub.status.idle": "2023-07-07T04:13:18.838211Z",
     "shell.execute_reply": "2023-07-07T04:13:18.837167Z"
    },
    "papermill": {
     "duration": 0.51915,
     "end_time": "2023-07-07T04:13:18.840684",
     "exception": false,
     "start_time": "2023-07-07T04:13:18.321534",
     "status": "completed"
    },
    "tags": []
   },
   "outputs": [
    {
     "data": {
      "text/plain": [
       "<Axes: xlabel='target', ylabel='count'>"
      ]
     },
     "execution_count": 17,
     "metadata": {},
     "output_type": "execute_result"
    },
    {
     "data": {
      "image/png": "[encoded data removed]",
      "text/plain": [
       "<Figure size 640x480 with 1 Axes>"
      ]
     },
     "metadata": {},
     "output_type": "display_data"
    }
   ],
   "source": [
    "import seaborn as sns\n",
    "sns.countplot(x='target', data=df_train)"
   ]
  },
  {
   "cell_type": "code",
   "execution_count": 18,
   "id": "9f4283c8",
   "metadata": {
    "execution": {
     "iopub.execute_input": "2023-07-07T04:13:18.871338Z",
     "iopub.status.busy": "2023-07-07T04:13:18.870517Z",
     "iopub.status.idle": "2023-07-07T04:13:19.224012Z",
     "shell.execute_reply": "2023-07-07T04:13:19.223077Z"
    },
    "papermill": {
     "duration": 0.372141,
     "end_time": "2023-07-07T04:13:19.227036",
     "exception": false,
     "start_time": "2023-07-07T04:13:18.854895",
     "status": "completed"
    },
    "tags": []
   },
   "outputs": [
    {
     "data": {
      "image/png": "[encoded data removed]",
      "text/plain": [
       "<Figure size 640x480 with 1 Axes>"
      ]
     },
     "metadata": {},
     "output_type": "display_data"
    }
   ],
   "source": [
    "ax = df_valid.groupby('target').count().plot(kind='bar', title='Distribution of data',legend=True)"
   ]
  },
  {
   "cell_type": "code",
   "execution_count": 19,
   "id": "79c8877f",
   "metadata": {
    "execution": {
     "iopub.execute_input": "2023-07-07T04:13:19.257881Z",
     "iopub.status.busy": "2023-07-07T04:13:19.257099Z",
     "iopub.status.idle": "2023-07-07T04:13:19.499196Z",
     "shell.execute_reply": "2023-07-07T04:13:19.498305Z"
    },
    "papermill": {
     "duration": 0.259788,
     "end_time": "2023-07-07T04:13:19.501784",
     "exception": false,
     "start_time": "2023-07-07T04:13:19.241996",
     "status": "completed"
    },
    "tags": []
   },
   "outputs": [
    {
     "data": {
      "text/plain": [
       "<Axes: xlabel='target', ylabel='count'>"
      ]
     },
     "execution_count": 19,
     "metadata": {},
     "output_type": "execute_result"
    },
    {
     "data": {
      "image/png": "[encoded data removed]",
      "text/plain": [
       "<Figure size 640x480 with 1 Axes>"
      ]
     },
     "metadata": {},
     "output_type": "display_data"
    }
   ],
   "source": [
    "sns.countplot(x='target', data=df_valid)"
   ]
  },
  {
   "cell_type": "markdown",
   "id": "cefdd92a",
   "metadata": {
    "papermill": {
     "duration": 0.01476,
     "end_time": "2023-07-07T04:13:19.531380",
     "exception": false,
     "start_time": "2023-07-07T04:13:19.516620",
     "status": "completed"
    },
    "tags": []
   },
   "source": [
    "Encoding the Labels"
   ]
  },
  {
   "cell_type": "code",
   "execution_count": 20,
   "id": "273692a9",
   "metadata": {
    "execution": {
     "iopub.execute_input": "2023-07-07T04:13:19.561951Z",
     "iopub.status.busy": "2023-07-07T04:13:19.561611Z",
     "iopub.status.idle": "2023-07-07T04:13:19.575625Z",
     "shell.execute_reply": "2023-07-07T04:13:19.574514Z"
    },
    "papermill": {
     "duration": 0.031956,
     "end_time": "2023-07-07T04:13:19.577988",
     "exception": false,
     "start_time": "2023-07-07T04:13:19.546032",
     "status": "completed"
    },
    "tags": []
   },
   "outputs": [
    {
     "data": {
      "text/plain": [
       "{'Positive': 0, 'Neutral': 1, 'Negative': 2, 'Irrelevant': 3}"
      ]
     },
     "execution_count": 20,
     "metadata": {},
     "output_type": "execute_result"
    }
   ],
   "source": [
    "possible_labels = df_train.target.unique()\n",
    "\n",
    "label_dict = {}\n",
    "for index, possible_label in enumerate(possible_labels):\n",
    "    label_dict[possible_label] = index\n",
    "label_dict"
   ]
  },
  {
   "cell_type": "code",
   "execution_count": 21,
   "id": "0c40b131",
   "metadata": {
    "execution": {
     "iopub.execute_input": "2023-07-07T04:13:19.611749Z",
     "iopub.status.busy": "2023-07-07T04:13:19.611440Z",
     "iopub.status.idle": "2023-07-07T04:13:19.675736Z",
     "shell.execute_reply": "2023-07-07T04:13:19.674722Z"
    },
    "papermill": {
     "duration": 0.084482,
     "end_time": "2023-07-07T04:13:19.678471",
     "exception": false,
     "start_time": "2023-07-07T04:13:19.593989",
     "status": "completed"
    },
    "tags": []
   },
   "outputs": [],
   "source": [
    "df_train['target'] = df_train.target.replace(label_dict)"
   ]
  },
  {
   "cell_type": "code",
   "execution_count": 22,
   "id": "e0f6aaa6",
   "metadata": {
    "execution": {
     "iopub.execute_input": "2023-07-07T04:13:19.710091Z",
     "iopub.status.busy": "2023-07-07T04:13:19.709772Z",
     "iopub.status.idle": "2023-07-07T04:13:19.724215Z",
     "shell.execute_reply": "2023-07-07T04:13:19.723137Z"
    },
    "papermill": {
     "duration": 0.033107,
     "end_time": "2023-07-07T04:13:19.726787",
     "exception": false,
     "start_time": "2023-07-07T04:13:19.693680",
     "status": "completed"
    },
    "tags": []
   },
   "outputs": [
    {
     "data": {
      "text/html": [
       "<div>\n",
       "<style scoped>\n",
       "    .dataframe tbody tr th:only-of-type {\n",
       "        vertical-align: middle;\n",
       "    }\n",
       "\n",
       "    .dataframe tbody tr th {\n",
       "        vertical-align: top;\n",
       "    }\n",
       "\n",
       "    .dataframe thead th {\n",
       "        text-align: right;\n",
       "    }\n",
       "</style>\n",
       "<table border=\"1\" class=\"dataframe\">\n",
       "  <thead>\n",
       "    <tr style=\"text-align: right;\">\n",
       "      <th></th>\n",
       "      <th>id</th>\n",
       "      <th>subject</th>\n",
       "      <th>target</th>\n",
       "      <th>text</th>\n",
       "    </tr>\n",
       "  </thead>\n",
       "  <tbody>\n",
       "    <tr>\n",
       "      <th>45512</th>\n",
       "      <td>11813</td>\n",
       "      <td>Verizon</td>\n",
       "      <td>0</td>\n",
       "      <td>The Verizon network is now in full swing</td>\n",
       "    </tr>\n",
       "    <tr>\n",
       "      <th>55749</th>\n",
       "      <td>2370</td>\n",
       "      <td>CallOfDuty</td>\n",
       "      <td>2</td>\n",
       "      <td>C4 stinks    . store.playstation.com/</td>\n",
       "    </tr>\n",
       "    <tr>\n",
       "      <th>42783</th>\n",
       "      <td>10139</td>\n",
       "      <td>PlayerUnknownsBattlegrounds(PUBG)</td>\n",
       "      <td>2</td>\n",
       "      <td>Indian government ban PUBG. Pro PUBG player st...</td>\n",
       "    </tr>\n",
       "    <tr>\n",
       "      <th>32675</th>\n",
       "      <td>6404</td>\n",
       "      <td>Fortnite</td>\n",
       "      <td>3</td>\n",
       "      <td>@whoisaddison I threw a fortnite montage at you:)</td>\n",
       "    </tr>\n",
       "    <tr>\n",
       "      <th>25761</th>\n",
       "      <td>822</td>\n",
       "      <td>AssassinsCreed</td>\n",
       "      <td>0</td>\n",
       "      <td>The best RhandlerR RhandlerR pic.twitter.com/P...</td>\n",
       "    </tr>\n",
       "    <tr>\n",
       "      <th>10878</th>\n",
       "      <td>13071</td>\n",
       "      <td>Xbox(Xseries)</td>\n",
       "      <td>1</td>\n",
       "      <td>It’s hard to overcome how damaging the ‘halo i...</td>\n",
       "    </tr>\n",
       "    <tr>\n",
       "      <th>69906</th>\n",
       "      <td>3978</td>\n",
       "      <td>Cyberpunk2077</td>\n",
       "      <td>2</td>\n",
       "      <td>I'm exhausted by Cyberpunk 2077 and it's not e...</td>\n",
       "    </tr>\n",
       "    <tr>\n",
       "      <th>8827</th>\n",
       "      <td>9514</td>\n",
       "      <td>Overwatch</td>\n",
       "      <td>2</td>\n",
       "      <td>OH. I always hated to play trackers when I'm o...</td>\n",
       "    </tr>\n",
       "    <tr>\n",
       "      <th>18019</th>\n",
       "      <td>9889</td>\n",
       "      <td>PlayStation5(PS5)</td>\n",
       "      <td>2</td>\n",
       "      <td>This is somehow the worst packaging for a cons...</td>\n",
       "    </tr>\n",
       "    <tr>\n",
       "      <th>44998</th>\n",
       "      <td>11727</td>\n",
       "      <td>Verizon</td>\n",
       "      <td>1</td>\n",
       "      <td>Best Unlimited Business Data Service Plans : C...</td>\n",
       "    </tr>\n",
       "  </tbody>\n",
       "</table>\n",
       "</div>"
      ],
      "text/plain": [
       "          id                            subject  target  \\\n",
       "45512  11813                            Verizon       0   \n",
       "55749   2370                         CallOfDuty       2   \n",
       "42783  10139  PlayerUnknownsBattlegrounds(PUBG)       2   \n",
       "32675   6404                           Fortnite       3   \n",
       "25761    822                     AssassinsCreed       0   \n",
       "10878  13071                      Xbox(Xseries)       1   \n",
       "69906   3978                      Cyberpunk2077       2   \n",
       "8827    9514                          Overwatch       2   \n",
       "18019   9889                  PlayStation5(PS5)       2   \n",
       "44998  11727                            Verizon       1   \n",
       "\n",
       "                                                    text  \n",
       "45512           The Verizon network is now in full swing  \n",
       "55749              C4 stinks    . store.playstation.com/  \n",
       "42783  Indian government ban PUBG. Pro PUBG player st...  \n",
       "32675  @whoisaddison I threw a fortnite montage at you:)  \n",
       "25761  The best RhandlerR RhandlerR pic.twitter.com/P...  \n",
       "10878  It’s hard to overcome how damaging the ‘halo i...  \n",
       "69906  I'm exhausted by Cyberpunk 2077 and it's not e...  \n",
       "8827   OH. I always hated to play trackers when I'm o...  \n",
       "18019  This is somehow the worst packaging for a cons...  \n",
       "44998  Best Unlimited Business Data Service Plans : C...  "
      ]
     },
     "execution_count": 22,
     "metadata": {},
     "output_type": "execute_result"
    }
   ],
   "source": [
    "df_train.sample(10)"
   ]
  },
  {
   "cell_type": "code",
   "execution_count": 23,
   "id": "c7155460",
   "metadata": {
    "execution": {
     "iopub.execute_input": "2023-07-07T04:13:19.758996Z",
     "iopub.status.busy": "2023-07-07T04:13:19.758716Z",
     "iopub.status.idle": "2023-07-07T04:13:20.311400Z",
     "shell.execute_reply": "2023-07-07T04:13:20.310373Z"
    },
    "papermill": {
     "duration": 0.570926,
     "end_time": "2023-07-07T04:13:20.313822",
     "exception": false,
     "start_time": "2023-07-07T04:13:19.742896",
     "status": "completed"
    },
    "tags": []
   },
   "outputs": [
    {
     "data": {
      "application/vnd.jupyter.widget-view+json": {
       "model_id": "ba743839440c4cac87c0d794913bddc7",
       "version_major": 2,
       "version_minor": 0
      },
      "text/plain": [
       "Downloading (…)solve/main/vocab.txt:   0%|          | 0.00/232k [00:00<?, ?B/s]"
      ]
     },
     "metadata": {},
     "output_type": "display_data"
    },
    {
     "data": {
      "application/vnd.jupyter.widget-view+json": {
       "model_id": "9ce7fa9e21b54eea8a8e80288dfc8712",
       "version_major": 2,
       "version_minor": 0
      },
      "text/plain": [
       "Downloading (…)okenizer_config.json:   0%|          | 0.00/28.0 [00:00<?, ?B/s]"
      ]
     },
     "metadata": {},
     "output_type": "display_data"
    },
    {
     "data": {
      "application/vnd.jupyter.widget-view+json": {
       "model_id": "2dc72c51f4cf46409c9cdb18bdc04a9c",
       "version_major": 2,
       "version_minor": 0
      },
      "text/plain": [
       "Downloading (…)lve/main/config.json:   0%|          | 0.00/570 [00:00<?, ?B/s]"
      ]
     },
     "metadata": {},
     "output_type": "display_data"
    }
   ],
   "source": [
    "tokenizer = BertTokenizer.from_pretrained(\n",
    "    'bert-base-uncased',\n",
    "    do_lower_case = True\n",
    "    )"
   ]
  },
  {
   "cell_type": "code",
   "execution_count": 24,
   "id": "dae13c84",
   "metadata": {
    "execution": {
     "iopub.execute_input": "2023-07-07T04:13:20.349368Z",
     "iopub.status.busy": "2023-07-07T04:13:20.348519Z",
     "iopub.status.idle": "2023-07-07T04:14:44.837165Z",
     "shell.execute_reply": "2023-07-07T04:14:44.836227Z"
    },
    "papermill": {
     "duration": 84.508523,
     "end_time": "2023-07-07T04:14:44.839846",
     "exception": false,
     "start_time": "2023-07-07T04:13:20.331323",
     "status": "completed"
    },
    "tags": []
   },
   "outputs": [
    {
     "name": "stderr",
     "output_type": "stream",
     "text": [
      "Truncation was not explicitly activated but `max_length` is provided a specific value, please use `truncation=True` to explicitly truncate examples to max length. Defaulting to 'longest_first' truncation strategy. If you encode pairs of sequences (GLUE-style) with the tokenizer you can select this strategy more precisely by providing a specific strategy to `truncation`.\n",
      "/opt/conda/lib/python3.10/site-packages/transformers/tokenization_utils_base.py:2377: FutureWarning: The `pad_to_max_length` argument is deprecated and will be removed in a future version, use `padding=True` or `padding='longest'` to pad to the longest sequence in the batch, or use `padding='max_length'` to pad to a max length. In this case, you can give a specific length with `max_length` (e.g. `max_length=45`) or leave max_length to None to pad to the maximal input size of the model (e.g. 512 for Bert).\n",
      "  warnings.warn(\n"
     ]
    }
   ],
   "source": [
    "encoded_data_train = tokenizer.batch_encode_plus(\n",
    "    df_train.text.values, \n",
    "    add_special_tokens=True, \n",
    "    return_attention_mask=True, \n",
    "    pad_to_max_length=True, \n",
    "    max_length=256, \n",
    "    return_tensors='pt'\n",
    ")\n",
    "\n"
   ]
  },
  {
   "cell_type": "code",
   "execution_count": 25,
   "id": "33c7e4bf",
   "metadata": {
    "execution": {
     "iopub.execute_input": "2023-07-07T04:14:44.889688Z",
     "iopub.status.busy": "2023-07-07T04:14:44.888840Z",
     "iopub.status.idle": "2023-07-07T04:14:44.910328Z",
     "shell.execute_reply": "2023-07-07T04:14:44.907637Z"
    },
    "papermill": {
     "duration": 0.059831,
     "end_time": "2023-07-07T04:14:44.915850",
     "exception": false,
     "start_time": "2023-07-07T04:14:44.856019",
     "status": "completed"
    },
    "tags": []
   },
   "outputs": [],
   "source": [
    "df_valid['target'] = df_valid.target.replace(label_dict)"
   ]
  },
  {
   "cell_type": "code",
   "execution_count": 26,
   "id": "4c8f1b59",
   "metadata": {
    "execution": {
     "iopub.execute_input": "2023-07-07T04:14:44.969110Z",
     "iopub.status.busy": "2023-07-07T04:14:44.968684Z",
     "iopub.status.idle": "2023-07-07T04:14:44.983121Z",
     "shell.execute_reply": "2023-07-07T04:14:44.982159Z"
    },
    "papermill": {
     "duration": 0.042982,
     "end_time": "2023-07-07T04:14:44.985525",
     "exception": false,
     "start_time": "2023-07-07T04:14:44.942543",
     "status": "completed"
    },
    "tags": []
   },
   "outputs": [
    {
     "data": {
      "text/html": [
       "<div>\n",
       "<style scoped>\n",
       "    .dataframe tbody tr th:only-of-type {\n",
       "        vertical-align: middle;\n",
       "    }\n",
       "\n",
       "    .dataframe tbody tr th {\n",
       "        vertical-align: top;\n",
       "    }\n",
       "\n",
       "    .dataframe thead th {\n",
       "        text-align: right;\n",
       "    }\n",
       "</style>\n",
       "<table border=\"1\" class=\"dataframe\">\n",
       "  <thead>\n",
       "    <tr style=\"text-align: right;\">\n",
       "      <th></th>\n",
       "      <th>id</th>\n",
       "      <th>subject</th>\n",
       "      <th>target</th>\n",
       "      <th>text</th>\n",
       "    </tr>\n",
       "  </thead>\n",
       "  <tbody>\n",
       "    <tr>\n",
       "      <th>24</th>\n",
       "      <td>526</td>\n",
       "      <td>ApexLegends</td>\n",
       "      <td>1</td>\n",
       "      <td>Umm @PlayApex  when I died it said Bug This pi...</td>\n",
       "    </tr>\n",
       "    <tr>\n",
       "      <th>76</th>\n",
       "      <td>9857</td>\n",
       "      <td>PlayStation5(PS5)</td>\n",
       "      <td>0</td>\n",
       "      <td>oooooh shit i think my motherboard is already ...</td>\n",
       "    </tr>\n",
       "    <tr>\n",
       "      <th>779</th>\n",
       "      <td>3898</td>\n",
       "      <td>Cyberpunk2077</td>\n",
       "      <td>0</td>\n",
       "      <td>Yaaaas! \\n\\nI want to see Keanu animated in an...</td>\n",
       "    </tr>\n",
       "    <tr>\n",
       "      <th>874</th>\n",
       "      <td>9533</td>\n",
       "      <td>Overwatch</td>\n",
       "      <td>2</td>\n",
       "      <td>holy balls this is unreal</td>\n",
       "    </tr>\n",
       "    <tr>\n",
       "      <th>113</th>\n",
       "      <td>3488</td>\n",
       "      <td>Facebook</td>\n",
       "      <td>1</td>\n",
       "      <td>Congratulations to all nominees, including our...</td>\n",
       "    </tr>\n",
       "    <tr>\n",
       "      <th>691</th>\n",
       "      <td>11590</td>\n",
       "      <td>TomClancysRainbowSix</td>\n",
       "      <td>1</td>\n",
       "      <td>@Rainbow6Game actived the ranked</td>\n",
       "    </tr>\n",
       "    <tr>\n",
       "      <th>180</th>\n",
       "      <td>3617</td>\n",
       "      <td>Cyberpunk2077</td>\n",
       "      <td>0</td>\n",
       "      <td>Playing through the Witcher 3 again and the No...</td>\n",
       "    </tr>\n",
       "    <tr>\n",
       "      <th>369</th>\n",
       "      <td>10722</td>\n",
       "      <td>RedDeadRedemption(RDR)</td>\n",
       "      <td>0</td>\n",
       "      <td>Thanks @RockstarGames , you're rock stars!  #R...</td>\n",
       "    </tr>\n",
       "    <tr>\n",
       "      <th>385</th>\n",
       "      <td>6694</td>\n",
       "      <td>Fortnite</td>\n",
       "      <td>2</td>\n",
       "      <td>NOT FREE TO USE !!!! Recent work #Fortnite pic...</td>\n",
       "    </tr>\n",
       "    <tr>\n",
       "      <th>504</th>\n",
       "      <td>49</td>\n",
       "      <td>Amazon</td>\n",
       "      <td>1</td>\n",
       "      <td>I played this interesting quiz on Amazon - Try...</td>\n",
       "    </tr>\n",
       "  </tbody>\n",
       "</table>\n",
       "</div>"
      ],
      "text/plain": [
       "        id                 subject  target  \\\n",
       "24     526             ApexLegends       1   \n",
       "76    9857       PlayStation5(PS5)       0   \n",
       "779   3898           Cyberpunk2077       0   \n",
       "874   9533               Overwatch       2   \n",
       "113   3488                Facebook       1   \n",
       "691  11590    TomClancysRainbowSix       1   \n",
       "180   3617           Cyberpunk2077       0   \n",
       "369  10722  RedDeadRedemption(RDR)       0   \n",
       "385   6694                Fortnite       2   \n",
       "504     49                  Amazon       1   \n",
       "\n",
       "                                                  text  \n",
       "24   Umm @PlayApex  when I died it said Bug This pi...  \n",
       "76   oooooh shit i think my motherboard is already ...  \n",
       "779  Yaaaas! \\n\\nI want to see Keanu animated in an...  \n",
       "874                          holy balls this is unreal  \n",
       "113  Congratulations to all nominees, including our...  \n",
       "691                   @Rainbow6Game actived the ranked  \n",
       "180  Playing through the Witcher 3 again and the No...  \n",
       "369  Thanks @RockstarGames , you're rock stars!  #R...  \n",
       "385  NOT FREE TO USE !!!! Recent work #Fortnite pic...  \n",
       "504  I played this interesting quiz on Amazon - Try...  "
      ]
     },
     "execution_count": 26,
     "metadata": {},
     "output_type": "execute_result"
    }
   ],
   "source": [
    "df_valid.sample(10)"
   ]
  },
  {
   "cell_type": "code",
   "execution_count": 27,
   "id": "be1d179a",
   "metadata": {
    "execution": {
     "iopub.execute_input": "2023-07-07T04:14:45.021362Z",
     "iopub.status.busy": "2023-07-07T04:14:45.021024Z",
     "iopub.status.idle": "2023-07-07T04:14:46.360833Z",
     "shell.execute_reply": "2023-07-07T04:14:46.359794Z"
    },
    "papermill": {
     "duration": 1.360035,
     "end_time": "2023-07-07T04:14:46.363458",
     "exception": false,
     "start_time": "2023-07-07T04:14:45.003423",
     "status": "completed"
    },
    "tags": []
   },
   "outputs": [
    {
     "name": "stderr",
     "output_type": "stream",
     "text": [
      "/opt/conda/lib/python3.10/site-packages/transformers/tokenization_utils_base.py:2377: FutureWarning: The `pad_to_max_length` argument is deprecated and will be removed in a future version, use `padding=True` or `padding='longest'` to pad to the longest sequence in the batch, or use `padding='max_length'` to pad to a max length. In this case, you can give a specific length with `max_length` (e.g. `max_length=45`) or leave max_length to None to pad to the maximal input size of the model (e.g. 512 for Bert).\n",
      "  warnings.warn(\n"
     ]
    }
   ],
   "source": [
    "encoded_data_val = tokenizer.batch_encode_plus(\n",
    "    df_valid.text.values, \n",
    "    add_special_tokens=True, \n",
    "    return_attention_mask=True, \n",
    "    pad_to_max_length=True, \n",
    "    max_length=256, \n",
    "    return_tensors='pt'\n",
    ")"
   ]
  },
  {
   "cell_type": "code",
   "execution_count": 28,
   "id": "3dfae97e",
   "metadata": {
    "execution": {
     "iopub.execute_input": "2023-07-07T04:14:46.400285Z",
     "iopub.status.busy": "2023-07-07T04:14:46.399210Z",
     "iopub.status.idle": "2023-07-07T04:14:51.631627Z",
     "shell.execute_reply": "2023-07-07T04:14:51.630524Z"
    },
    "papermill": {
     "duration": 5.253642,
     "end_time": "2023-07-07T04:14:51.634576",
     "exception": false,
     "start_time": "2023-07-07T04:14:46.380934",
     "status": "completed"
    },
    "tags": []
   },
   "outputs": [],
   "source": [
    "input_ids_train = encoded_data_train['input_ids'].to(device)\n",
    "attention_masks_train = encoded_data_train['attention_mask'].to(device)\n",
    "labels_train = torch.tensor(df_train.target.values).to(device)\n",
    "\n",
    "input_ids_val = encoded_data_val['input_ids'].to(device)\n",
    "attention_masks_val = encoded_data_val['attention_mask'].to(device)\n",
    "labels_val = torch.tensor(df_valid.target.values).to(device)\n",
    "\n",
    "dataset_train = TensorDataset(input_ids_train, attention_masks_train, labels_train)\n",
    "dataset_val = TensorDataset(input_ids_val, attention_masks_val, labels_val)"
   ]
  },
  {
   "cell_type": "code",
   "execution_count": 29,
   "id": "ed3c5842",
   "metadata": {
    "execution": {
     "iopub.execute_input": "2023-07-07T04:14:51.692266Z",
     "iopub.status.busy": "2023-07-07T04:14:51.691669Z",
     "iopub.status.idle": "2023-07-07T04:14:51.696554Z",
     "shell.execute_reply": "2023-07-07T04:14:51.695623Z"
    },
    "papermill": {
     "duration": 0.041531,
     "end_time": "2023-07-07T04:14:51.700864",
     "exception": false,
     "start_time": "2023-07-07T04:14:51.659333",
     "status": "completed"
    },
    "tags": []
   },
   "outputs": [],
   "source": [
    "# dataset_train = dataset_train.to(device)\n",
    "# dataset_val = dataset_val.to(device)"
   ]
  },
  {
   "cell_type": "code",
   "execution_count": 30,
   "id": "8e1e8363",
   "metadata": {
    "execution": {
     "iopub.execute_input": "2023-07-07T04:14:51.768903Z",
     "iopub.status.busy": "2023-07-07T04:14:51.768472Z",
     "iopub.status.idle": "2023-07-07T04:14:55.407153Z",
     "shell.execute_reply": "2023-07-07T04:14:55.406213Z"
    },
    "papermill": {
     "duration": 3.678864,
     "end_time": "2023-07-07T04:14:55.409417",
     "exception": false,
     "start_time": "2023-07-07T04:14:51.730553",
     "status": "completed"
    },
    "tags": []
   },
   "outputs": [
    {
     "data": {
      "application/vnd.jupyter.widget-view+json": {
       "model_id": "3e334b8e9b574112b39fbb061169e680",
       "version_major": 2,
       "version_minor": 0
      },
      "text/plain": [
       "Downloading model.safetensors:   0%|          | 0.00/440M [00:00<?, ?B/s]"
      ]
     },
     "metadata": {},
     "output_type": "display_data"
    },
    {
     "name": "stderr",
     "output_type": "stream",
     "text": [
      "Some weights of the model checkpoint at bert-base-uncased were not used when initializing BertForSequenceClassification: ['cls.predictions.transform.LayerNorm.bias', 'cls.predictions.bias', 'cls.seq_relationship.weight', 'cls.predictions.transform.dense.weight', 'cls.predictions.transform.LayerNorm.weight', 'cls.seq_relationship.bias', 'cls.predictions.transform.dense.bias']\n",
      "- This IS expected if you are initializing BertForSequenceClassification from the checkpoint of a model trained on another task or with another architecture (e.g. initializing a BertForSequenceClassification model from a BertForPreTraining model).\n",
      "- This IS NOT expected if you are initializing BertForSequenceClassification from the checkpoint of a model that you expect to be exactly identical (initializing a BertForSequenceClassification model from a BertForSequenceClassification model).\n",
      "Some weights of BertForSequenceClassification were not initialized from the model checkpoint at bert-base-uncased and are newly initialized: ['classifier.weight', 'classifier.bias']\n",
      "You should probably TRAIN this model on a down-stream task to be able to use it for predictions and inference.\n"
     ]
    }
   ],
   "source": [
    "model = BertForSequenceClassification.from_pretrained(\"bert-base-uncased\",\n",
    "                                                      num_labels=len(label_dict),\n",
    "                                                      output_attentions=False,\n",
    "                                                      output_hidden_states=False)"
   ]
  },
  {
   "cell_type": "code",
   "execution_count": 31,
   "id": "5a6ccfa4",
   "metadata": {
    "execution": {
     "iopub.execute_input": "2023-07-07T04:14:55.445146Z",
     "iopub.status.busy": "2023-07-07T04:14:55.444810Z",
     "iopub.status.idle": "2023-07-07T04:14:55.571543Z",
     "shell.execute_reply": "2023-07-07T04:14:55.570506Z"
    },
    "papermill": {
     "duration": 0.147723,
     "end_time": "2023-07-07T04:14:55.574291",
     "exception": false,
     "start_time": "2023-07-07T04:14:55.426568",
     "status": "completed"
    },
    "tags": []
   },
   "outputs": [],
   "source": [
    "model=model.to(device)"
   ]
  },
  {
   "cell_type": "code",
   "execution_count": 32,
   "id": "606a3a65",
   "metadata": {
    "execution": {
     "iopub.execute_input": "2023-07-07T04:14:55.613098Z",
     "iopub.status.busy": "2023-07-07T04:14:55.612756Z",
     "iopub.status.idle": "2023-07-07T04:14:55.618702Z",
     "shell.execute_reply": "2023-07-07T04:14:55.617637Z"
    },
    "papermill": {
     "duration": 0.028229,
     "end_time": "2023-07-07T04:14:55.621442",
     "exception": false,
     "start_time": "2023-07-07T04:14:55.593213",
     "status": "completed"
    },
    "tags": []
   },
   "outputs": [],
   "source": [
    "from torch.utils.data import DataLoader, RandomSampler, SequentialSampler\n",
    "\n",
    "batch_size = 3\n",
    "\n",
    "dataloader_train = DataLoader(dataset_train, \n",
    "                              sampler=RandomSampler(dataset_train), \n",
    "                              batch_size=batch_size)\n",
    "\n",
    "dataloader_validation = DataLoader(dataset_val, \n",
    "                                   sampler=SequentialSampler(dataset_val), \n",
    "                                   batch_size=batch_size)"
   ]
  },
  {
   "cell_type": "code",
   "execution_count": 33,
   "id": "fff94c2c",
   "metadata": {
    "execution": {
     "iopub.execute_input": "2023-07-07T04:14:55.655994Z",
     "iopub.status.busy": "2023-07-07T04:14:55.655692Z",
     "iopub.status.idle": "2023-07-07T04:14:55.671410Z",
     "shell.execute_reply": "2023-07-07T04:14:55.670373Z"
    },
    "papermill": {
     "duration": 0.036132,
     "end_time": "2023-07-07T04:14:55.673865",
     "exception": false,
     "start_time": "2023-07-07T04:14:55.637733",
     "status": "completed"
    },
    "tags": []
   },
   "outputs": [
    {
     "name": "stderr",
     "output_type": "stream",
     "text": [
      "/opt/conda/lib/python3.10/site-packages/transformers/optimization.py:411: FutureWarning: This implementation of AdamW is deprecated and will be removed in a future version. Use the PyTorch implementation torch.optim.AdamW instead, or set `no_deprecation_warning=True` to disable this warning\n",
      "  warnings.warn(\n"
     ]
    }
   ],
   "source": [
    "from transformers import AdamW, get_linear_schedule_with_warmup\n",
    "\n",
    "optimizer = AdamW(model.parameters(),\n",
    "                  lr=1e-5, \n",
    "                  eps=1e-8)\n",
    "                  \n",
    "epochs = 5\n",
    "\n",
    "scheduler = get_linear_schedule_with_warmup(optimizer, \n",
    "                                            num_warmup_steps=0,\n",
    "                                            num_training_steps=len(dataloader_train)*epochs)"
   ]
  },
  {
   "cell_type": "code",
   "execution_count": 34,
   "id": "0b37d090",
   "metadata": {
    "execution": {
     "iopub.execute_input": "2023-07-07T04:14:55.707571Z",
     "iopub.status.busy": "2023-07-07T04:14:55.707274Z",
     "iopub.status.idle": "2023-07-07T04:14:55.714580Z",
     "shell.execute_reply": "2023-07-07T04:14:55.713578Z"
    },
    "papermill": {
     "duration": 0.026698,
     "end_time": "2023-07-07T04:14:55.716743",
     "exception": false,
     "start_time": "2023-07-07T04:14:55.690045",
     "status": "completed"
    },
    "tags": []
   },
   "outputs": [],
   "source": [
    "from sklearn.metrics import f1_score\n",
    "\n",
    "def f1_score_func(preds, labels):\n",
    "    preds_flat = np.argmax(preds, axis=1).flatten()\n",
    "    labels_flat = labels.flatten()\n",
    "    return f1_score(labels_flat, preds_flat, average='weighted')\n",
    "\n",
    "def accuracy_per_class(preds, labels):\n",
    "    label_dict_inverse = {v: k for k, v in label_dict.items()}\n",
    "    \n",
    "    preds_flat = np.argmax(preds, axis=1).flatten()\n",
    "    labels_flat = labels.flatten()\n",
    "\n",
    "    for label in np.unique(labels_flat):\n",
    "        y_preds = preds_flat[labels_flat==label]\n",
    "        y_true = labels_flat[labels_flat==label]\n",
    "        print(f'Class: {label_dict_inverse[label]}')\n",
    "        print(f'Accuracy: {len(y_preds[y_preds==label])}/{len(y_true)}\\n')"
   ]
  },
  {
   "cell_type": "code",
   "execution_count": 35,
   "id": "f8129cb8",
   "metadata": {
    "execution": {
     "iopub.execute_input": "2023-07-07T04:14:55.751098Z",
     "iopub.status.busy": "2023-07-07T04:14:55.750829Z",
     "iopub.status.idle": "2023-07-07T04:14:55.755940Z",
     "shell.execute_reply": "2023-07-07T04:14:55.755056Z"
    },
    "papermill": {
     "duration": 0.024889,
     "end_time": "2023-07-07T04:14:55.757967",
     "exception": false,
     "start_time": "2023-07-07T04:14:55.733078",
     "status": "completed"
    },
    "tags": []
   },
   "outputs": [],
   "source": [
    "from tqdm import tqdm"
   ]
  },
  {
   "cell_type": "code",
   "execution_count": 36,
   "id": "4b8c8e16",
   "metadata": {
    "execution": {
     "iopub.execute_input": "2023-07-07T04:14:55.792441Z",
     "iopub.status.busy": "2023-07-07T04:14:55.792100Z",
     "iopub.status.idle": "2023-07-07T04:14:55.797766Z",
     "shell.execute_reply": "2023-07-07T04:14:55.796891Z"
    },
    "papermill": {
     "duration": 0.025168,
     "end_time": "2023-07-07T04:14:55.799699",
     "exception": false,
     "start_time": "2023-07-07T04:14:55.774531",
     "status": "completed"
    },
    "tags": []
   },
   "outputs": [
    {
     "name": "stdout",
     "output_type": "stream",
     "text": [
      "cuda\n"
     ]
    }
   ],
   "source": [
    "device = ('cuda' if torch.cuda.is_available() else 'cpu')\n",
    "print(device)"
   ]
  },
  {
   "cell_type": "code",
   "execution_count": 37,
   "id": "fc43ce8c",
   "metadata": {
    "execution": {
     "iopub.execute_input": "2023-07-07T04:14:55.833537Z",
     "iopub.status.busy": "2023-07-07T04:14:55.833256Z",
     "iopub.status.idle": "2023-07-07T07:48:45.063421Z",
     "shell.execute_reply": "2023-07-07T07:48:45.062473Z"
    },
    "papermill": {
     "duration": 12829.258383,
     "end_time": "2023-07-07T07:48:45.074298",
     "exception": false,
     "start_time": "2023-07-07T04:14:55.815915",
     "status": "completed"
    },
    "tags": []
   },
   "outputs": [
    {
     "name": "stderr",
     "output_type": "stream",
     "text": [
      "Epoch 1:   0%|          | 0/24666 [00:00<?, ?it/s]\n",
      "                                                                                   \r\n",
      "\u001b[A\n",
      "  0%|          | 0/5 [44:11<?, ?it/s]\u001b[A\n",
      "\u001b[A\n",
      "  0%|          | 0/5 [44:11<?, ?it/s]\u001b[A"
     ]
    },
    {
     "name": "stdout",
     "output_type": "stream",
     "text": [
      "\n",
      "Epoch 1\n",
      "Training loss: 0.8553158609882675\n"
     ]
    },
    {
     "name": "stderr",
     "output_type": "stream",
     "text": [
      "\n",
      "\u001b[A\n",
      "  0%|          | 0/5 [44:20<?, ?it/s]\u001b[A\n",
      "\u001b[A\n",
      "  0%|          | 0/5 [44:20<?, ?it/s]\u001b[A\n",
      " 20%|██        | 1/5 [44:20<2:57:21, 2660.40s/it]\u001b[A"
     ]
    },
    {
     "name": "stdout",
     "output_type": "stream",
     "text": [
      "Validation loss: 0.30367384073575454\n",
      "F1 Score (Weighted): 0.9267329505202098\n"
     ]
    },
    {
     "name": "stderr",
     "output_type": "stream",
     "text": [
      "\n",
      "\u001b[A\n",
      " 20%|██        | 1/5 [1:26:35<2:57:21, 2660.40s/it]\u001b[A\n",
      "\u001b[A\n",
      " 20%|██        | 1/5 [1:26:35<2:57:21, 2660.40s/it]\u001b[A"
     ]
    },
    {
     "name": "stdout",
     "output_type": "stream",
     "text": [
      "\n",
      "Epoch 2\n",
      "Training loss: 0.4260161759989525\n"
     ]
    },
    {
     "name": "stderr",
     "output_type": "stream",
     "text": [
      "\n",
      "\u001b[A\n",
      " 20%|██        | 1/5 [1:26:44<2:57:21, 2660.40s/it]\u001b[A\n",
      "\u001b[A\n",
      " 20%|██        | 1/5 [1:26:44<2:57:21, 2660.40s/it]\u001b[A\n",
      " 40%|████      | 2/5 [1:26:44<2:09:36, 2592.14s/it]\u001b[A"
     ]
    },
    {
     "name": "stdout",
     "output_type": "stream",
     "text": [
      "Validation loss: 0.20583290465252438\n",
      "F1 Score (Weighted): 0.9650154763576316\n"
     ]
    },
    {
     "name": "stderr",
     "output_type": "stream",
     "text": [
      "\n",
      "\u001b[A\n",
      " 40%|████      | 2/5 [2:08:58<2:09:36, 2592.14s/it]\u001b[A\n",
      "\u001b[A\n",
      " 40%|████      | 2/5 [2:08:58<2:09:36, 2592.14s/it]\u001b[A"
     ]
    },
    {
     "name": "stdout",
     "output_type": "stream",
     "text": [
      "\n",
      "Epoch 3\n",
      "Training loss: 0.21406554961417087\n"
     ]
    },
    {
     "name": "stderr",
     "output_type": "stream",
     "text": [
      "\n",
      "\u001b[A\n",
      " 40%|████      | 2/5 [2:09:07<2:09:36, 2592.14s/it]\u001b[A\n",
      "\u001b[A\n",
      " 40%|████      | 2/5 [2:09:07<2:09:36, 2592.14s/it]\u001b[A\n",
      " 60%|██████    | 3/5 [2:09:07<1:25:39, 2569.66s/it]\u001b[A"
     ]
    },
    {
     "name": "stdout",
     "output_type": "stream",
     "text": [
      "Validation loss: 0.19704675793323048\n",
      "F1 Score (Weighted): 0.9669963914149523\n"
     ]
    },
    {
     "name": "stderr",
     "output_type": "stream",
     "text": [
      "\n",
      "\u001b[A\n",
      " 60%|██████    | 3/5 [2:51:15<1:25:39, 2569.66s/it]\u001b[A\n",
      "\u001b[A\n",
      " 60%|██████    | 3/5 [2:51:15<1:25:39, 2569.66s/it]\u001b[A"
     ]
    },
    {
     "name": "stdout",
     "output_type": "stream",
     "text": [
      "\n",
      "Epoch 4\n",
      "Training loss: 0.11737345941192934\n"
     ]
    },
    {
     "name": "stderr",
     "output_type": "stream",
     "text": [
      "\n",
      "\u001b[A\n",
      " 60%|██████    | 3/5 [2:51:25<1:25:39, 2569.66s/it]\u001b[A\n",
      "\u001b[A\n",
      " 60%|██████    | 3/5 [2:51:25<1:25:39, 2569.66s/it]\u001b[A\n",
      " 80%|████████  | 4/5 [2:51:25<42:36, 2556.95s/it]  \u001b[A"
     ]
    },
    {
     "name": "stdout",
     "output_type": "stream",
     "text": [
      "Validation loss: 0.2596924337006761\n",
      "F1 Score (Weighted): 0.9639746539856556\n"
     ]
    },
    {
     "name": "stderr",
     "output_type": "stream",
     "text": [
      "\n",
      "\u001b[A\n",
      " 80%|████████  | 4/5 [3:33:40<42:36, 2556.95s/it]\u001b[A\n",
      "\u001b[A\n",
      " 80%|████████  | 4/5 [3:33:40<42:36, 2556.95s/it]\u001b[A"
     ]
    },
    {
     "name": "stdout",
     "output_type": "stream",
     "text": [
      "\n",
      "Epoch 5\n",
      "Training loss: 0.07859361965943538\n"
     ]
    },
    {
     "name": "stderr",
     "output_type": "stream",
     "text": [
      "\n",
      "\u001b[A\n",
      " 80%|████████  | 4/5 [3:33:49<42:36, 2556.95s/it]\u001b[A\n",
      "\u001b[A\n",
      " 80%|████████  | 4/5 [3:33:49<42:36, 2556.95s/it]\u001b[A\n",
      "100%|██████████| 5/5 [3:33:49<00:00, 2565.84s/it]"
     ]
    },
    {
     "name": "stdout",
     "output_type": "stream",
     "text": [
      "Validation loss: 0.24557897699988332\n",
      "F1 Score (Weighted): 0.9700060717375796\n"
     ]
    },
    {
     "name": "stderr",
     "output_type": "stream",
     "text": [
      "\n"
     ]
    }
   ],
   "source": [
    "import random\n",
    "\n",
    "seed_val = 17\n",
    "random.seed(seed_val)\n",
    "np.random.seed(seed_val)\n",
    "torch.manual_seed(seed_val)\n",
    "torch.cuda.manual_seed_all(seed_val)\n",
    "\n",
    "def evaluate(dataloader_val):\n",
    "\n",
    "    model.eval()\n",
    "    \n",
    "    loss_val_total = 0\n",
    "    predictions, true_vals = [], []\n",
    "    \n",
    "    for batch in dataloader_val:\n",
    "        \n",
    "        batch = tuple(b.to(device) for b in batch)\n",
    "        \n",
    "        inputs = {'input_ids':      batch[0],\n",
    "                  'attention_mask': batch[1],\n",
    "                  'labels':         batch[2],\n",
    "                 }\n",
    "\n",
    "        with torch.no_grad():        \n",
    "            outputs = model(**inputs)\n",
    "            \n",
    "        loss = outputs[0]\n",
    "        logits = outputs[1]\n",
    "        loss_val_total += loss.item()\n",
    "\n",
    "        logits = logits.detach().cpu().numpy()\n",
    "        label_ids = inputs['labels'].cpu().numpy()\n",
    "        predictions.append(logits)\n",
    "        true_vals.append(label_ids)\n",
    "    \n",
    "    loss_val_avg = loss_val_total/len(dataloader_val) \n",
    "    \n",
    "    predictions = np.concatenate(predictions, axis=0)\n",
    "    true_vals = np.concatenate(true_vals, axis=0)\n",
    "            \n",
    "    return loss_val_avg, predictions, true_vals\n",
    "\n",
    "epoch = 1\n",
    "progress_bar = tqdm(dataloader_train, desc='Epoch {:1d}'.format(epoch), leave=False, disable=False)\n",
    "for epoch in tqdm(range(1, epochs+1)):\n",
    "    \n",
    "    model.train()\n",
    "    \n",
    "    loss_train_total = 0\n",
    "\n",
    "    \n",
    "    \n",
    "    for batch in progress_bar:\n",
    "\n",
    "        model.zero_grad()\n",
    "        \n",
    "        batch = tuple(b.to(device) for b in batch)\n",
    "        \n",
    "        inputs = {'input_ids':      batch[0],\n",
    "                  'attention_mask': batch[1],\n",
    "                  'labels':         batch[2],\n",
    "                 }       \n",
    "\n",
    "        outputs = model(**inputs)\n",
    "        \n",
    "        loss = outputs[0]\n",
    "        loss_train_total += loss.item()\n",
    "        loss.backward()\n",
    "\n",
    "        torch.nn.utils.clip_grad_norm_(model.parameters(), 1.0)\n",
    "\n",
    "        optimizer.step()\n",
    "        scheduler.step()\n",
    "        \n",
    "        progress_bar.set_postfix({'training_loss': '{:.3f}'.format(loss.item()/len(batch))})\n",
    "        # progress_bar.update() \n",
    "        \n",
    "    torch.save(model.state_dict(), f'/kaggle/working/finetuned_BERT_epoch_{epoch}.model')\n",
    "        \n",
    "    tqdm.write(f'\\nEpoch {epoch}')\n",
    "    \n",
    "    loss_train_avg = loss_train_total/len(dataloader_train)            \n",
    "    tqdm.write(f'Training loss: {loss_train_avg}')\n",
    "    \n",
    "    val_loss, predictions, true_vals = evaluate(dataloader_validation)\n",
    "    val_f1 = f1_score_func(predictions, true_vals)\n",
    "    tqdm.write(f'Validation loss: {val_loss}')\n",
    "    tqdm.write(f'F1 Score (Weighted): {val_f1}')"
   ]
  },
  {
   "cell_type": "code",
   "execution_count": 38,
   "id": "e0147d78",
   "metadata": {
    "execution": {
     "iopub.execute_input": "2023-07-07T07:48:54.233495Z",
     "iopub.status.busy": "2023-07-07T07:48:54.232890Z",
     "iopub.status.idle": "2023-07-07T07:49:05.258271Z",
     "shell.execute_reply": "2023-07-07T07:49:05.256147Z"
    },
    "papermill": {
     "duration": 15.442613,
     "end_time": "2023-07-07T07:49:05.260669",
     "exception": false,
     "start_time": "2023-07-07T07:48:49.818056",
     "status": "completed"
    },
    "tags": []
   },
   "outputs": [
    {
     "name": "stderr",
     "output_type": "stream",
     "text": [
      "Some weights of the model checkpoint at bert-base-uncased were not used when initializing BertForSequenceClassification: ['cls.predictions.transform.LayerNorm.bias', 'cls.predictions.bias', 'cls.seq_relationship.weight', 'cls.predictions.transform.dense.weight', 'cls.predictions.transform.LayerNorm.weight', 'cls.seq_relationship.bias', 'cls.predictions.transform.dense.bias']\n",
      "- This IS expected if you are initializing BertForSequenceClassification from the checkpoint of a model trained on another task or with another architecture (e.g. initializing a BertForSequenceClassification model from a BertForPreTraining model).\n",
      "- This IS NOT expected if you are initializing BertForSequenceClassification from the checkpoint of a model that you expect to be exactly identical (initializing a BertForSequenceClassification model from a BertForSequenceClassification model).\n",
      "Some weights of BertForSequenceClassification were not initialized from the model checkpoint at bert-base-uncased and are newly initialized: ['classifier.weight', 'classifier.bias']\n",
      "You should probably TRAIN this model on a down-stream task to be able to use it for predictions and inference.\n"
     ]
    },
    {
     "name": "stdout",
     "output_type": "stream",
     "text": [
      "Class: Positive\n",
      "Accuracy: 270/277\n",
      "\n",
      "Class: Neutral\n",
      "Accuracy: 276/285\n",
      "\n",
      "Class: Negative\n",
      "Accuracy: 256/266\n",
      "\n",
      "Class: Irrelevant\n",
      "Accuracy: 163/172\n",
      "\n"
     ]
    }
   ],
   "source": [
    "model = BertForSequenceClassification.from_pretrained(\"bert-base-uncased\",\n",
    "                                                      num_labels=len(label_dict),\n",
    "                                                      output_attentions=False,\n",
    "                                                      output_hidden_states=False)\n",
    "\n",
    "model.to(device)\n",
    "\n",
    "model.load_state_dict(torch.load('/kaggle/working/finetuned_BERT_epoch_2.model', map_location=torch.device('cpu')))\n",
    "\n",
    "_, predictions, true_vals = evaluate(dataloader_validation)\n",
    "accuracy_per_class(predictions, true_vals)"
   ]
  },
  {
   "cell_type": "code",
   "execution_count": null,
   "id": "17ccb3c4",
   "metadata": {
    "papermill": {
     "duration": 4.41489,
     "end_time": "2023-07-07T07:49:14.045359",
     "exception": false,
     "start_time": "2023-07-07T07:49:09.630469",
     "status": "completed"
    },
    "tags": []
   },
   "outputs": [],
   "source": []
  },
  {
   "cell_type": "code",
   "execution_count": null,
   "id": "6d7f137d",
   "metadata": {
    "papermill": {
     "duration": 4.379249,
     "end_time": "2023-07-07T07:49:22.859722",
     "exception": false,
     "start_time": "2023-07-07T07:49:18.480473",
     "status": "completed"
    },
    "tags": []
   },
   "outputs": [],
   "source": []
  },
  {
   "cell_type": "code",
   "execution_count": null,
   "id": "8723d262",
   "metadata": {
    "papermill": {
     "duration": 4.798672,
     "end_time": "2023-07-07T07:49:32.107101",
     "exception": false,
     "start_time": "2023-07-07T07:49:27.308429",
     "status": "completed"
    },
    "tags": []
   },
   "outputs": [],
   "source": []
  },
  {
   "cell_type": "code",
   "execution_count": null,
   "id": "7ff1b1db",
   "metadata": {
    "papermill": {
     "duration": 4.352987,
     "end_time": "2023-07-07T07:49:40.888546",
     "exception": false,
     "start_time": "2023-07-07T07:49:36.535559",
     "status": "completed"
    },
    "tags": []
   },
   "outputs": [],
   "source": []
  }
 ],
 "metadata": {
  "kernelspec": {
   "display_name": "Python 3",
   "language": "python",
   "name": "python3"
  },
  "language_info": {
   "codemirror_mode": {
    "name": "ipython",
    "version": 3
   },
   "file_extension": ".py",
   "mimetype": "text/x-python",
   "name": "python",
   "nbconvert_exporter": "python",
   "pygments_lexer": "ipython3",
   "version": "3.10.10"
  },
  "papermill": {
   "default_parameters": {},
   "duration": 13031.171119,
   "end_time": "2023-07-07T07:49:48.989167",
   "environment_variables": {},
   "exception": null,
   "input_path": "__notebook__.ipynb",
   "output_path": "__notebook__.ipynb",
   "parameters": {},
   "start_time": "2023-07-07T04:12:37.818048",
   "version": "2.4.0"
  },
  "widgets": {
   "application/vnd.jupyter.widget-state+json": {
    "state": {
     "03effca7501a45cc91505fb2902ad153": {
      "model_module": "@jupyter-widgets/controls",
      "model_module_version": "1.5.0",
      "model_name": "DescriptionStyleModel",
      "state": {
       "_model_module": "@jupyter-widgets/controls",
       "_model_module_version": "1.5.0",
       "_model_name": "DescriptionStyleModel",
       "_view_count": null,
       "_view_module": "@jupyter-widgets/base",
       "_view_module_version": "1.2.0",
       "_view_name": "StyleView",
       "description_width": ""
      }
     },
     "0f4242b7a4ec4f6d9ec8846ab78f239d": {
      "model_module": "@jupyter-widgets/base",
      "model_module_version": "1.2.0",
      "model_name": "LayoutModel",
      "state": {
       "_model_module": "@jupyter-widgets/base",
       "_model_module_version": "1.2.0",
       "_model_name": "LayoutModel",
       "_view_count": null,
       "_view_module": "@jupyter-widgets/base",
       "_view_module_version": "1.2.0",
       "_view_name": "LayoutView",
       "align_content": null,
       "align_items": null,
       "align_self": null,
       "border": null,
       "bottom": null,
       "display": null,
       "flex": null,
       "flex_flow": null,
       "grid_area": null,
       "grid_auto_columns": null,
       "grid_auto_flow": null,
       "grid_auto_rows": null,
       "grid_column": null,
       "grid_gap": null,
       "grid_row": null,
       "grid_template_areas": null,
       "grid_template_columns": null,
       "grid_template_rows": null,
       "height": null,
       "justify_content": null,
       "justify_items": null,
       "left": null,
       "margin": null,
       "max_height": null,
       "max_width": null,
       "min_height": null,
       "min_width": null,
       "object_fit": null,
       "object_position": null,
       "order": null,
       "overflow": null,
       "overflow_x": null,
       "overflow_y": null,
       "padding": null,
       "right": null,
       "top": null,
       "visibility": null,
       "width": null
      }
     },
     "117dd01529fa43fb9975b1201c228dd0": {
      "model_module": "@jupyter-widgets/controls",
      "model_module_version": "1.5.0",
      "model_name": "HTMLModel",
      "state": {
       "_dom_classes": [],
       "_model_module": "@jupyter-widgets/controls",
       "_model_module_version": "1.5.0",
       "_model_name": "HTMLModel",
       "_view_count": null,
       "_view_module": "@jupyter-widgets/controls",
       "_view_module_version": "1.5.0",
       "_view_name": "HTMLView",
       "description": "",
       "description_tooltip": null,
       "layout": "IPY_MODEL_39d8b13051a34a3d87acb906bbf314b1",
       "placeholder": "​",
       "style": "IPY_MODEL_f0e7e1189c0746c2aa73356026e47130",
       "value": "Downloading model.safetensors: 100%"
      }
     },
     "12bf5f704a954f6e8d7df0d4ad3a7012": {
      "model_module": "@jupyter-widgets/base",
      "model_module_version": "1.2.0",
      "model_name": "LayoutModel",
      "state": {
       "_model_module": "@jupyter-widgets/base",
       "_model_module_version": "1.2.0",
       "_model_name": "LayoutModel",
       "_view_count": null,
       "_view_module": "@jupyter-widgets/base",
       "_view_module_version": "1.2.0",
       "_view_name": "LayoutView",
       "align_content": null,
       "align_items": null,
       "align_self": null,
       "border": null,
       "bottom": null,
       "display": null,
       "flex": null,
       "flex_flow": null,
       "grid_area": null,
       "grid_auto_columns": null,
       "grid_auto_flow": null,
       "grid_auto_rows": null,
       "grid_column": null,
       "grid_gap": null,
       "grid_row": null,
       "grid_template_areas": null,
       "grid_template_columns": null,
       "grid_template_rows": null,
       "height": null,
       "justify_content": null,
       "justify_items": null,
       "left": null,
       "margin": null,
       "max_height": null,
       "max_width": null,
       "min_height": null,
       "min_width": null,
       "object_fit": null,
       "object_position": null,
       "order": null,
       "overflow": null,
       "overflow_x": null,
       "overflow_y": null,
       "padding": null,
       "right": null,
       "top": null,
       "visibility": null,
       "width": null
      }
     },
     "1d5489ae9c02434bb6516b77dcaf11f7": {
      "model_module": "@jupyter-widgets/base",
      "model_module_version": "1.2.0",
      "model_name": "LayoutModel",
      "state": {
       "_model_module": "@jupyter-widgets/base",
       "_model_module_version": "1.2.0",
       "_model_name": "LayoutModel",
       "_view_count": null,
       "_view_module": "@jupyter-widgets/base",
       "_view_module_version": "1.2.0",
       "_view_name": "LayoutView",
       "align_content": null,
       "align_items": null,
       "align_self": null,
       "border": null,
       "bottom": null,
       "display": null,
       "flex": null,
       "flex_flow": null,
       "grid_area": null,
       "grid_auto_columns": null,
       "grid_auto_flow": null,
       "grid_auto_rows": null,
       "grid_column": null,
       "grid_gap": null,
       "grid_row": null,
       "grid_template_areas": null,
       "grid_template_columns": null,
       "grid_template_rows": null,
       "height": null,
       "justify_content": null,
       "justify_items": null,
       "left": null,
       "margin": null,
       "max_height": null,
       "max_width": null,
       "min_height": null,
       "min_width": null,
       "object_fit": null,
       "object_position": null,
       "order": null,
       "overflow": null,
       "overflow_x": null,
       "overflow_y": null,
       "padding": null,
       "right": null,
       "top": null,
       "visibility": null,
       "width": null
      }
     },
     "20cb3aefdb074ea2b0f7aa0b235cc757": {
      "model_module": "@jupyter-widgets/controls",
      "model_module_version": "1.5.0",
      "model_name": "HTMLModel",
      "state": {
       "_dom_classes": [],
       "_model_module": "@jupyter-widgets/controls",
       "_model_module_version": "1.5.0",
       "_model_name": "HTMLModel",
       "_view_count": null,
       "_view_module": "@jupyter-widgets/controls",
       "_view_module_version": "1.5.0",
       "_view_name": "HTMLView",
       "description": "",
       "description_tooltip": null,
       "layout": "IPY_MODEL_e88c48fa8bd841c4a194a4cc7b042c00",
       "placeholder": "​",
       "style": "IPY_MODEL_31b0ee3471c94ea8a764d67d69324d31",
       "value": " 28.0/28.0 [00:00&lt;00:00, 1.99kB/s]"
      }
     },
     "2902903850db436dbe8c902fec5d7f0b": {
      "model_module": "@jupyter-widgets/controls",
      "model_module_version": "1.5.0",
      "model_name": "ProgressStyleModel",
      "state": {
       "_model_module": "@jupyter-widgets/controls",
       "_model_module_version": "1.5.0",
       "_model_name": "ProgressStyleModel",
       "_view_count": null,
       "_view_module": "@jupyter-widgets/base",
       "_view_module_version": "1.2.0",
       "_view_name": "StyleView",
       "bar_color": null,
       "description_width": ""
      }
     },
     "2dc72c51f4cf46409c9cdb18bdc04a9c": {
      "model_module": "@jupyter-widgets/controls",
      "model_module_version": "1.5.0",
      "model_name": "HBoxModel",
      "state": {
       "_dom_classes": [],
       "_model_module": "@jupyter-widgets/controls",
       "_model_module_version": "1.5.0",
       "_model_name": "HBoxModel",
       "_view_count": null,
       "_view_module": "@jupyter-widgets/controls",
       "_view_module_version": "1.5.0",
       "_view_name": "HBoxView",
       "box_style": "",
       "children": [
        "IPY_MODEL_557125f0940541d48e1532e8404ea6b2",
        "IPY_MODEL_61ace45566334c248a8ebd654685f249",
        "IPY_MODEL_4da2dae863354873bfdd175f95225644"
       ],
       "layout": "IPY_MODEL_5a8d735c19834a7eb7e4c02e5408ce86"
      }
     },
     "300bd9b6aa8a4bfabb1bbdeb639f2b68": {
      "model_module": "@jupyter-widgets/base",
      "model_module_version": "1.2.0",
      "model_name": "LayoutModel",
      "state": {
       "_model_module": "@jupyter-widgets/base",
       "_model_module_version": "1.2.0",
       "_model_name": "LayoutModel",
       "_view_count": null,
       "_view_module": "@jupyter-widgets/base",
       "_view_module_version": "1.2.0",
       "_view_name": "LayoutView",
       "align_content": null,
       "align_items": null,
       "align_self": null,
       "border": null,
       "bottom": null,
       "display": null,
       "flex": null,
       "flex_flow": null,
       "grid_area": null,
       "grid_auto_columns": null,
       "grid_auto_flow": null,
       "grid_auto_rows": null,
       "grid_column": null,
       "grid_gap": null,
       "grid_row": null,
       "grid_template_areas": null,
       "grid_template_columns": null,
       "grid_template_rows": null,
       "height": null,
       "justify_content": null,
       "justify_items": null,
       "left": null,
       "margin": null,
       "max_height": null,
       "max_width": null,
       "min_height": null,
       "min_width": null,
       "object_fit": null,
       "object_position": null,
       "order": null,
       "overflow": null,
       "overflow_x": null,
       "overflow_y": null,
       "padding": null,
       "right": null,
       "top": null,
       "visibility": null,
       "width": null
      }
     },
     "313280763e5e4f3b991c869206653986": {
      "model_module": "@jupyter-widgets/controls",
      "model_module_version": "1.5.0",
      "model_name": "FloatProgressModel",
      "state": {
       "_dom_classes": [],
       "_model_module": "@jupyter-widgets/controls",
       "_model_module_version": "1.5.0",
       "_model_name": "FloatProgressModel",
       "_view_count": null,
       "_view_module": "@jupyter-widgets/controls",
       "_view_module_version": "1.5.0",
       "_view_name": "ProgressView",
       "bar_style": "success",
       "description": "",
       "description_tooltip": null,
       "layout": "IPY_MODEL_a571f660126645ed9579b33d74ebc659",
       "max": 440449768.0,
       "min": 0.0,
       "orientation": "horizontal",
       "style": "IPY_MODEL_7971d1c3eda94d819ce356d6a5a52e0c",
       "value": 440449768.0
      }
     },
     "31b0ee3471c94ea8a764d67d69324d31": {
      "model_module": "@jupyter-widgets/controls",
      "model_module_version": "1.5.0",
      "model_name": "DescriptionStyleModel",
      "state": {
       "_model_module": "@jupyter-widgets/controls",
       "_model_module_version": "1.5.0",
       "_model_name": "DescriptionStyleModel",
       "_view_count": null,
       "_view_module": "@jupyter-widgets/base",
       "_view_module_version": "1.2.0",
       "_view_name": "StyleView",
       "description_width": ""
      }
     },
     "34751b21906743e6b154a2e5397174c9": {
      "model_module": "@jupyter-widgets/controls",
      "model_module_version": "1.5.0",
      "model_name": "DescriptionStyleModel",
      "state": {
       "_model_module": "@jupyter-widgets/controls",
       "_model_module_version": "1.5.0",
       "_model_name": "DescriptionStyleModel",
       "_view_count": null,
       "_view_module": "@jupyter-widgets/base",
       "_view_module_version": "1.2.0",
       "_view_name": "StyleView",
       "description_width": ""
      }
     },
     "39d8b13051a34a3d87acb906bbf314b1": {
      "model_module": "@jupyter-widgets/base",
      "model_module_version": "1.2.0",
      "model_name": "LayoutModel",
      "state": {
       "_model_module": "@jupyter-widgets/base",
       "_model_module_version": "1.2.0",
       "_model_name": "LayoutModel",
       "_view_count": null,
       "_view_module": "@jupyter-widgets/base",
       "_view_module_version": "1.2.0",
       "_view_name": "LayoutView",
       "align_content": null,
       "align_items": null,
       "align_self": null,
       "border": null,
       "bottom": null,
       "display": null,
       "flex": null,
       "flex_flow": null,
       "grid_area": null,
       "grid_auto_columns": null,
       "grid_auto_flow": null,
       "grid_auto_rows": null,
       "grid_column": null,
       "grid_gap": null,
       "grid_row": null,
       "grid_template_areas": null,
       "grid_template_columns": null,
       "grid_template_rows": null,
       "height": null,
       "justify_content": null,
       "justify_items": null,
       "left": null,
       "margin": null,
       "max_height": null,
       "max_width": null,
       "min_height": null,
       "min_width": null,
       "object_fit": null,
       "object_position": null,
       "order": null,
       "overflow": null,
       "overflow_x": null,
       "overflow_y": null,
       "padding": null,
       "right": null,
       "top": null,
       "visibility": null,
       "width": null
      }
     },
     "3e334b8e9b574112b39fbb061169e680": {
      "model_module": "@jupyter-widgets/controls",
      "model_module_version": "1.5.0",
      "model_name": "HBoxModel",
      "state": {
       "_dom_classes": [],
       "_model_module": "@jupyter-widgets/controls",
       "_model_module_version": "1.5.0",
       "_model_name": "HBoxModel",
       "_view_count": null,
       "_view_module": "@jupyter-widgets/controls",
       "_view_module_version": "1.5.0",
       "_view_name": "HBoxView",
       "box_style": "",
       "children": [
        "IPY_MODEL_117dd01529fa43fb9975b1201c228dd0",
        "IPY_MODEL_313280763e5e4f3b991c869206653986",
        "IPY_MODEL_ca6b9a61b0ec4e3d8d0b8cf5a39a5587"
       ],
       "layout": "IPY_MODEL_1d5489ae9c02434bb6516b77dcaf11f7"
      }
     },
     "46a8d20dc76643289c130454c9f1da28": {
      "model_module": "@jupyter-widgets/controls",
      "model_module_version": "1.5.0",
      "model_name": "HTMLModel",
      "state": {
       "_dom_classes": [],
       "_model_module": "@jupyter-widgets/controls",
       "_model_module_version": "1.5.0",
       "_model_name": "HTMLModel",
       "_view_count": null,
       "_view_module": "@jupyter-widgets/controls",
       "_view_module_version": "1.5.0",
       "_view_name": "HTMLView",
       "description": "",
       "description_tooltip": null,
       "layout": "IPY_MODEL_ed598a4e55a04e76833885fcc882dad5",
       "placeholder": "​",
       "style": "IPY_MODEL_34751b21906743e6b154a2e5397174c9",
       "value": "Downloading (…)solve/main/vocab.txt: 100%"
      }
     },
     "4da2dae863354873bfdd175f95225644": {
      "model_module": "@jupyter-widgets/controls",
      "model_module_version": "1.5.0",
      "model_name": "HTMLModel",
      "state": {
       "_dom_classes": [],
       "_model_module": "@jupyter-widgets/controls",
       "_model_module_version": "1.5.0",
       "_model_name": "HTMLModel",
       "_view_count": null,
       "_view_module": "@jupyter-widgets/controls",
       "_view_module_version": "1.5.0",
       "_view_name": "HTMLView",
       "description": "",
       "description_tooltip": null,
       "layout": "IPY_MODEL_c220ab2ed26b491d9ac67d5f21a52e59",
       "placeholder": "​",
       "style": "IPY_MODEL_90c01168c07741909977b3a833c07fcd",
       "value": " 570/570 [00:00&lt;00:00, 36.7kB/s]"
      }
     },
     "557125f0940541d48e1532e8404ea6b2": {
      "model_module": "@jupyter-widgets/controls",
      "model_module_version": "1.5.0",
      "model_name": "HTMLModel",
      "state": {
       "_dom_classes": [],
       "_model_module": "@jupyter-widgets/controls",
       "_model_module_version": "1.5.0",
       "_model_name": "HTMLModel",
       "_view_count": null,
       "_view_module": "@jupyter-widgets/controls",
       "_view_module_version": "1.5.0",
       "_view_name": "HTMLView",
       "description": "",
       "description_tooltip": null,
       "layout": "IPY_MODEL_ce749f7fea7e4c2384a46ca5844aa637",
       "placeholder": "​",
       "style": "IPY_MODEL_d68a18c492ab488db77ec2fcb651b75d",
       "value": "Downloading (…)lve/main/config.json: 100%"
      }
     },
     "5624612b6dd249698bbb33f8120e55a5": {
      "model_module": "@jupyter-widgets/base",
      "model_module_version": "1.2.0",
      "model_name": "LayoutModel",
      "state": {
       "_model_module": "@jupyter-widgets/base",
       "_model_module_version": "1.2.0",
       "_model_name": "LayoutModel",
       "_view_count": null,
       "_view_module": "@jupyter-widgets/base",
       "_view_module_version": "1.2.0",
       "_view_name": "LayoutView",
       "align_content": null,
       "align_items": null,
       "align_self": null,
       "border": null,
       "bottom": null,
       "display": null,
       "flex": null,
       "flex_flow": null,
       "grid_area": null,
       "grid_auto_columns": null,
       "grid_auto_flow": null,
       "grid_auto_rows": null,
       "grid_column": null,
       "grid_gap": null,
       "grid_row": null,
       "grid_template_areas": null,
       "grid_template_columns": null,
       "grid_template_rows": null,
       "height": null,
       "justify_content": null,
       "justify_items": null,
       "left": null,
       "margin": null,
       "max_height": null,
       "max_width": null,
       "min_height": null,
       "min_width": null,
       "object_fit": null,
       "object_position": null,
       "order": null,
       "overflow": null,
       "overflow_x": null,
       "overflow_y": null,
       "padding": null,
       "right": null,
       "top": null,
       "visibility": null,
       "width": null
      }
     },
     "5a8d735c19834a7eb7e4c02e5408ce86": {
      "model_module": "@jupyter-widgets/base",
      "model_module_version": "1.2.0",
      "model_name": "LayoutModel",
      "state": {
       "_model_module": "@jupyter-widgets/base",
       "_model_module_version": "1.2.0",
       "_model_name": "LayoutModel",
       "_view_count": null,
       "_view_module": "@jupyter-widgets/base",
       "_view_module_version": "1.2.0",
       "_view_name": "LayoutView",
       "align_content": null,
       "align_items": null,
       "align_self": null,
       "border": null,
       "bottom": null,
       "display": null,
       "flex": null,
       "flex_flow": null,
       "grid_area": null,
       "grid_auto_columns": null,
       "grid_auto_flow": null,
       "grid_auto_rows": null,
       "grid_column": null,
       "grid_gap": null,
       "grid_row": null,
       "grid_template_areas": null,
       "grid_template_columns": null,
       "grid_template_rows": null,
       "height": null,
       "justify_content": null,
       "justify_items": null,
       "left": null,
       "margin": null,
       "max_height": null,
       "max_width": null,
       "min_height": null,
       "min_width": null,
       "object_fit": null,
       "object_position": null,
       "order": null,
       "overflow": null,
       "overflow_x": null,
       "overflow_y": null,
       "padding": null,
       "right": null,
       "top": null,
       "visibility": null,
       "width": null
      }
     },
     "610a8df3f3504357bfc32545a25b5d4d": {
      "model_module": "@jupyter-widgets/controls",
      "model_module_version": "1.5.0",
      "model_name": "FloatProgressModel",
      "state": {
       "_dom_classes": [],
       "_model_module": "@jupyter-widgets/controls",
       "_model_module_version": "1.5.0",
       "_model_name": "FloatProgressModel",
       "_view_count": null,
       "_view_module": "@jupyter-widgets/controls",
       "_view_module_version": "1.5.0",
       "_view_name": "ProgressView",
       "bar_style": "success",
       "description": "",
       "description_tooltip": null,
       "layout": "IPY_MODEL_bbb90da682e64fa190ba1b45f403bcb2",
       "max": 231508.0,
       "min": 0.0,
       "orientation": "horizontal",
       "style": "IPY_MODEL_2902903850db436dbe8c902fec5d7f0b",
       "value": 231508.0
      }
     },
     "61ace45566334c248a8ebd654685f249": {
      "model_module": "@jupyter-widgets/controls",
      "model_module_version": "1.5.0",
      "model_name": "FloatProgressModel",
      "state": {
       "_dom_classes": [],
       "_model_module": "@jupyter-widgets/controls",
       "_model_module_version": "1.5.0",
       "_model_name": "FloatProgressModel",
       "_view_count": null,
       "_view_module": "@jupyter-widgets/controls",
       "_view_module_version": "1.5.0",
       "_view_name": "ProgressView",
       "bar_style": "success",
       "description": "",
       "description_tooltip": null,
       "layout": "IPY_MODEL_a5a71e2345614ae299fe6d77e159ec8c",
       "max": 570.0,
       "min": 0.0,
       "orientation": "horizontal",
       "style": "IPY_MODEL_9edc5f7cb79a4b0ba0e3131c37e6c03b",
       "value": 570.0
      }
     },
     "7036476e1b6c483f803ab5dfef960a3c": {
      "model_module": "@jupyter-widgets/controls",
      "model_module_version": "1.5.0",
      "model_name": "DescriptionStyleModel",
      "state": {
       "_model_module": "@jupyter-widgets/controls",
       "_model_module_version": "1.5.0",
       "_model_name": "DescriptionStyleModel",
       "_view_count": null,
       "_view_module": "@jupyter-widgets/base",
       "_view_module_version": "1.2.0",
       "_view_name": "StyleView",
       "description_width": ""
      }
     },
     "70743cbe14c746a3adf2c6062377e9e0": {
      "model_module": "@jupyter-widgets/controls",
      "model_module_version": "1.5.0",
      "model_name": "DescriptionStyleModel",
      "state": {
       "_model_module": "@jupyter-widgets/controls",
       "_model_module_version": "1.5.0",
       "_model_name": "DescriptionStyleModel",
       "_view_count": null,
       "_view_module": "@jupyter-widgets/base",
       "_view_module_version": "1.2.0",
       "_view_name": "StyleView",
       "description_width": ""
      }
     },
     "7971d1c3eda94d819ce356d6a5a52e0c": {
      "model_module": "@jupyter-widgets/controls",
      "model_module_version": "1.5.0",
      "model_name": "ProgressStyleModel",
      "state": {
       "_model_module": "@jupyter-widgets/controls",
       "_model_module_version": "1.5.0",
       "_model_name": "ProgressStyleModel",
       "_view_count": null,
       "_view_module": "@jupyter-widgets/base",
       "_view_module_version": "1.2.0",
       "_view_name": "StyleView",
       "bar_color": null,
       "description_width": ""
      }
     },
     "7bf0a2d25bd547928cc7bc2d746c4e05": {
      "model_module": "@jupyter-widgets/controls",
      "model_module_version": "1.5.0",
      "model_name": "HTMLModel",
      "state": {
       "_dom_classes": [],
       "_model_module": "@jupyter-widgets/controls",
       "_model_module_version": "1.5.0",
       "_model_name": "HTMLModel",
       "_view_count": null,
       "_view_module": "@jupyter-widgets/controls",
       "_view_module_version": "1.5.0",
       "_view_name": "HTMLView",
       "description": "",
       "description_tooltip": null,
       "layout": "IPY_MODEL_0f4242b7a4ec4f6d9ec8846ab78f239d",
       "placeholder": "​",
       "style": "IPY_MODEL_03effca7501a45cc91505fb2902ad153",
       "value": " 232k/232k [00:00&lt;00:00, 5.16MB/s]"
      }
     },
     "88b88d601e8f409c9989d9ac2d321383": {
      "model_module": "@jupyter-widgets/controls",
      "model_module_version": "1.5.0",
      "model_name": "HTMLModel",
      "state": {
       "_dom_classes": [],
       "_model_module": "@jupyter-widgets/controls",
       "_model_module_version": "1.5.0",
       "_model_name": "HTMLModel",
       "_view_count": null,
       "_view_module": "@jupyter-widgets/controls",
       "_view_module_version": "1.5.0",
       "_view_name": "HTMLView",
       "description": "",
       "description_tooltip": null,
       "layout": "IPY_MODEL_ad85f89dec5249c3a73378f97050bc81",
       "placeholder": "​",
       "style": "IPY_MODEL_7036476e1b6c483f803ab5dfef960a3c",
       "value": "Downloading (…)okenizer_config.json: 100%"
      }
     },
     "90c01168c07741909977b3a833c07fcd": {
      "model_module": "@jupyter-widgets/controls",
      "model_module_version": "1.5.0",
      "model_name": "DescriptionStyleModel",
      "state": {
       "_model_module": "@jupyter-widgets/controls",
       "_model_module_version": "1.5.0",
       "_model_name": "DescriptionStyleModel",
       "_view_count": null,
       "_view_module": "@jupyter-widgets/base",
       "_view_module_version": "1.2.0",
       "_view_name": "StyleView",
       "description_width": ""
      }
     },
     "9ce7fa9e21b54eea8a8e80288dfc8712": {
      "model_module": "@jupyter-widgets/controls",
      "model_module_version": "1.5.0",
      "model_name": "HBoxModel",
      "state": {
       "_dom_classes": [],
       "_model_module": "@jupyter-widgets/controls",
       "_model_module_version": "1.5.0",
       "_model_name": "HBoxModel",
       "_view_count": null,
       "_view_module": "@jupyter-widgets/controls",
       "_view_module_version": "1.5.0",
       "_view_name": "HBoxView",
       "box_style": "",
       "children": [
        "IPY_MODEL_88b88d601e8f409c9989d9ac2d321383",
        "IPY_MODEL_befa4c05d7d948c5a14cdb1553628f6a",
        "IPY_MODEL_20cb3aefdb074ea2b0f7aa0b235cc757"
       ],
       "layout": "IPY_MODEL_c10a8a4467234585acd87b6837975e94"
      }
     },
     "9edc5f7cb79a4b0ba0e3131c37e6c03b": {
      "model_module": "@jupyter-widgets/controls",
      "model_module_version": "1.5.0",
      "model_name": "ProgressStyleModel",
      "state": {
       "_model_module": "@jupyter-widgets/controls",
       "_model_module_version": "1.5.0",
       "_model_name": "ProgressStyleModel",
       "_view_count": null,
       "_view_module": "@jupyter-widgets/base",
       "_view_module_version": "1.2.0",
       "_view_name": "StyleView",
       "bar_color": null,
       "description_width": ""
      }
     },
     "a571f660126645ed9579b33d74ebc659": {
      "model_module": "@jupyter-widgets/base",
      "model_module_version": "1.2.0",
      "model_name": "LayoutModel",
      "state": {
       "_model_module": "@jupyter-widgets/base",
       "_model_module_version": "1.2.0",
       "_model_name": "LayoutModel",
       "_view_count": null,
       "_view_module": "@jupyter-widgets/base",
       "_view_module_version": "1.2.0",
       "_view_name": "LayoutView",
       "align_content": null,
       "align_items": null,
       "align_self": null,
       "border": null,
       "bottom": null,
       "display": null,
       "flex": null,
       "flex_flow": null,
       "grid_area": null,
       "grid_auto_columns": null,
       "grid_auto_flow": null,
       "grid_auto_rows": null,
       "grid_column": null,
       "grid_gap": null,
       "grid_row": null,
       "grid_template_areas": null,
       "grid_template_columns": null,
       "grid_template_rows": null,
       "height": null,
       "justify_content": null,
       "justify_items": null,
       "left": null,
       "margin": null,
       "max_height": null,
       "max_width": null,
       "min_height": null,
       "min_width": null,
       "object_fit": null,
       "object_position": null,
       "order": null,
       "overflow": null,
       "overflow_x": null,
       "overflow_y": null,
       "padding": null,
       "right": null,
       "top": null,
       "visibility": null,
       "width": null
      }
     },
     "a5a71e2345614ae299fe6d77e159ec8c": {
      "model_module": "@jupyter-widgets/base",
      "model_module_version": "1.2.0",
      "model_name": "LayoutModel",
      "state": {
       "_model_module": "@jupyter-widgets/base",
       "_model_module_version": "1.2.0",
       "_model_name": "LayoutModel",
       "_view_count": null,
       "_view_module": "@jupyter-widgets/base",
       "_view_module_version": "1.2.0",
       "_view_name": "LayoutView",
       "align_content": null,
       "align_items": null,
       "align_self": null,
       "border": null,
       "bottom": null,
       "display": null,
       "flex": null,
       "flex_flow": null,
       "grid_area": null,
       "grid_auto_columns": null,
       "grid_auto_flow": null,
       "grid_auto_rows": null,
       "grid_column": null,
       "grid_gap": null,
       "grid_row": null,
       "grid_template_areas": null,
       "grid_template_columns": null,
       "grid_template_rows": null,
       "height": null,
       "justify_content": null,
       "justify_items": null,
       "left": null,
       "margin": null,
       "max_height": null,
       "max_width": null,
       "min_height": null,
       "min_width": null,
       "object_fit": null,
       "object_position": null,
       "order": null,
       "overflow": null,
       "overflow_x": null,
       "overflow_y": null,
       "padding": null,
       "right": null,
       "top": null,
       "visibility": null,
       "width": null
      }
     },
     "ad85f89dec5249c3a73378f97050bc81": {
      "model_module": "@jupyter-widgets/base",
      "model_module_version": "1.2.0",
      "model_name": "LayoutModel",
      "state": {
       "_model_module": "@jupyter-widgets/base",
       "_model_module_version": "1.2.0",
       "_model_name": "LayoutModel",
       "_view_count": null,
       "_view_module": "@jupyter-widgets/base",
       "_view_module_version": "1.2.0",
       "_view_name": "LayoutView",
       "align_content": null,
       "align_items": null,
       "align_self": null,
       "border": null,
       "bottom": null,
       "display": null,
       "flex": null,
       "flex_flow": null,
       "grid_area": null,
       "grid_auto_columns": null,
       "grid_auto_flow": null,
       "grid_auto_rows": null,
       "grid_column": null,
       "grid_gap": null,
       "grid_row": null,
       "grid_template_areas": null,
       "grid_template_columns": null,
       "grid_template_rows": null,
       "height": null,
       "justify_content": null,
       "justify_items": null,
       "left": null,
       "margin": null,
       "max_height": null,
       "max_width": null,
       "min_height": null,
       "min_width": null,
       "object_fit": null,
       "object_position": null,
       "order": null,
       "overflow": null,
       "overflow_x": null,
       "overflow_y": null,
       "padding": null,
       "right": null,
       "top": null,
       "visibility": null,
       "width": null
      }
     },
     "ba743839440c4cac87c0d794913bddc7": {
      "model_module": "@jupyter-widgets/controls",
      "model_module_version": "1.5.0",
      "model_name": "HBoxModel",
      "state": {
       "_dom_classes": [],
       "_model_module": "@jupyter-widgets/controls",
       "_model_module_version": "1.5.0",
       "_model_name": "HBoxModel",
       "_view_count": null,
       "_view_module": "@jupyter-widgets/controls",
       "_view_module_version": "1.5.0",
       "_view_name": "HBoxView",
       "box_style": "",
       "children": [
        "IPY_MODEL_46a8d20dc76643289c130454c9f1da28",
        "IPY_MODEL_610a8df3f3504357bfc32545a25b5d4d",
        "IPY_MODEL_7bf0a2d25bd547928cc7bc2d746c4e05"
       ],
       "layout": "IPY_MODEL_300bd9b6aa8a4bfabb1bbdeb639f2b68"
      }
     },
     "bbb90da682e64fa190ba1b45f403bcb2": {
      "model_module": "@jupyter-widgets/base",
      "model_module_version": "1.2.0",
      "model_name": "LayoutModel",
      "state": {
       "_model_module": "@jupyter-widgets/base",
       "_model_module_version": "1.2.0",
       "_model_name": "LayoutModel",
       "_view_count": null,
       "_view_module": "@jupyter-widgets/base",
       "_view_module_version": "1.2.0",
       "_view_name": "LayoutView",
       "align_content": null,
       "align_items": null,
       "align_self": null,
       "border": null,
       "bottom": null,
       "display": null,
       "flex": null,
       "flex_flow": null,
       "grid_area": null,
       "grid_auto_columns": null,
       "grid_auto_flow": null,
       "grid_auto_rows": null,
       "grid_column": null,
       "grid_gap": null,
       "grid_row": null,
       "grid_template_areas": null,
       "grid_template_columns": null,
       "grid_template_rows": null,
       "height": null,
       "justify_content": null,
       "justify_items": null,
       "left": null,
       "margin": null,
       "max_height": null,
       "max_width": null,
       "min_height": null,
       "min_width": null,
       "object_fit": null,
       "object_position": null,
       "order": null,
       "overflow": null,
       "overflow_x": null,
       "overflow_y": null,
       "padding": null,
       "right": null,
       "top": null,
       "visibility": null,
       "width": null
      }
     },
     "befa4c05d7d948c5a14cdb1553628f6a": {
      "model_module": "@jupyter-widgets/controls",
      "model_module_version": "1.5.0",
      "model_name": "FloatProgressModel",
      "state": {
       "_dom_classes": [],
       "_model_module": "@jupyter-widgets/controls",
       "_model_module_version": "1.5.0",
       "_model_name": "FloatProgressModel",
       "_view_count": null,
       "_view_module": "@jupyter-widgets/controls",
       "_view_module_version": "1.5.0",
       "_view_name": "ProgressView",
       "bar_style": "success",
       "description": "",
       "description_tooltip": null,
       "layout": "IPY_MODEL_5624612b6dd249698bbb33f8120e55a5",
       "max": 28.0,
       "min": 0.0,
       "orientation": "horizontal",
       "style": "IPY_MODEL_cbe2e2fec420452db18bd135c6c18cd9",
       "value": 28.0
      }
     },
     "c10a8a4467234585acd87b6837975e94": {
      "model_module": "@jupyter-widgets/base",
      "model_module_version": "1.2.0",
      "model_name": "LayoutModel",
      "state": {
       "_model_module": "@jupyter-widgets/base",
       "_model_module_version": "1.2.0",
       "_model_name": "LayoutModel",
       "_view_count": null,
       "_view_module": "@jupyter-widgets/base",
       "_view_module_version": "1.2.0",
       "_view_name": "LayoutView",
       "align_content": null,
       "align_items": null,
       "align_self": null,
       "border": null,
       "bottom": null,
       "display": null,
       "flex": null,
       "flex_flow": null,
       "grid_area": null,
       "grid_auto_columns": null,
       "grid_auto_flow": null,
       "grid_auto_rows": null,
       "grid_column": null,
       "grid_gap": null,
       "grid_row": null,
       "grid_template_areas": null,
       "grid_template_columns": null,
       "grid_template_rows": null,
       "height": null,
       "justify_content": null,
       "justify_items": null,
       "left": null,
       "margin": null,
       "max_height": null,
       "max_width": null,
       "min_height": null,
       "min_width": null,
       "object_fit": null,
       "object_position": null,
       "order": null,
       "overflow": null,
       "overflow_x": null,
       "overflow_y": null,
       "padding": null,
       "right": null,
       "top": null,
       "visibility": null,
       "width": null
      }
     },
     "c220ab2ed26b491d9ac67d5f21a52e59": {
      "model_module": "@jupyter-widgets/base",
      "model_module_version": "1.2.0",
      "model_name": "LayoutModel",
      "state": {
       "_model_module": "@jupyter-widgets/base",
       "_model_module_version": "1.2.0",
       "_model_name": "LayoutModel",
       "_view_count": null,
       "_view_module": "@jupyter-widgets/base",
       "_view_module_version": "1.2.0",
       "_view_name": "LayoutView",
       "align_content": null,
       "align_items": null,
       "align_self": null,
       "border": null,
       "bottom": null,
       "display": null,
       "flex": null,
       "flex_flow": null,
       "grid_area": null,
       "grid_auto_columns": null,
       "grid_auto_flow": null,
       "grid_auto_rows": null,
       "grid_column": null,
       "grid_gap": null,
       "grid_row": null,
       "grid_template_areas": null,
       "grid_template_columns": null,
       "grid_template_rows": null,
       "height": null,
       "justify_content": null,
       "justify_items": null,
       "left": null,
       "margin": null,
       "max_height": null,
       "max_width": null,
       "min_height": null,
       "min_width": null,
       "object_fit": null,
       "object_position": null,
       "order": null,
       "overflow": null,
       "overflow_x": null,
       "overflow_y": null,
       "padding": null,
       "right": null,
       "top": null,
       "visibility": null,
       "width": null
      }
     },
     "ca6b9a61b0ec4e3d8d0b8cf5a39a5587": {
      "model_module": "@jupyter-widgets/controls",
      "model_module_version": "1.5.0",
      "model_name": "HTMLModel",
      "state": {
       "_dom_classes": [],
       "_model_module": "@jupyter-widgets/controls",
       "_model_module_version": "1.5.0",
       "_model_name": "HTMLModel",
       "_view_count": null,
       "_view_module": "@jupyter-widgets/controls",
       "_view_module_version": "1.5.0",
       "_view_name": "HTMLView",
       "description": "",
       "description_tooltip": null,
       "layout": "IPY_MODEL_12bf5f704a954f6e8d7df0d4ad3a7012",
       "placeholder": "​",
       "style": "IPY_MODEL_70743cbe14c746a3adf2c6062377e9e0",
       "value": " 440M/440M [00:02&lt;00:00, 228MB/s]"
      }
     },
     "cbe2e2fec420452db18bd135c6c18cd9": {
      "model_module": "@jupyter-widgets/controls",
      "model_module_version": "1.5.0",
      "model_name": "ProgressStyleModel",
      "state": {
       "_model_module": "@jupyter-widgets/controls",
       "_model_module_version": "1.5.0",
       "_model_name": "ProgressStyleModel",
       "_view_count": null,
       "_view_module": "@jupyter-widgets/base",
       "_view_module_version": "1.2.0",
       "_view_name": "StyleView",
       "bar_color": null,
       "description_width": ""
      }
     },
     "ce749f7fea7e4c2384a46ca5844aa637": {
      "model_module": "@jupyter-widgets/base",
      "model_module_version": "1.2.0",
      "model_name": "LayoutModel",
      "state": {
       "_model_module": "@jupyter-widgets/base",
       "_model_module_version": "1.2.0",
       "_model_name": "LayoutModel",
       "_view_count": null,
       "_view_module": "@jupyter-widgets/base",
       "_view_module_version": "1.2.0",
       "_view_name": "LayoutView",
       "align_content": null,
       "align_items": null,
       "align_self": null,
       "border": null,
       "bottom": null,
       "display": null,
       "flex": null,
       "flex_flow": null,
       "grid_area": null,
       "grid_auto_columns": null,
       "grid_auto_flow": null,
       "grid_auto_rows": null,
       "grid_column": null,
       "grid_gap": null,
       "grid_row": null,
       "grid_template_areas": null,
       "grid_template_columns": null,
       "grid_template_rows": null,
       "height": null,
       "justify_content": null,
       "justify_items": null,
       "left": null,
       "margin": null,
       "max_height": null,
       "max_width": null,
       "min_height": null,
       "min_width": null,
       "object_fit": null,
       "object_position": null,
       "order": null,
       "overflow": null,
       "overflow_x": null,
       "overflow_y": null,
       "padding": null,
       "right": null,
       "top": null,
       "visibility": null,
       "width": null
      }
     },
     "d68a18c492ab488db77ec2fcb651b75d": {
      "model_module": "@jupyter-widgets/controls",
      "model_module_version": "1.5.0",
      "model_name": "DescriptionStyleModel",
      "state": {
       "_model_module": "@jupyter-widgets/controls",
       "_model_module_version": "1.5.0",
       "_model_name": "DescriptionStyleModel",
       "_view_count": null,
       "_view_module": "@jupyter-widgets/base",
       "_view_module_version": "1.2.0",
       "_view_name": "StyleView",
       "description_width": ""
      }
     },
     "e88c48fa8bd841c4a194a4cc7b042c00": {
      "model_module": "@jupyter-widgets/base",
      "model_module_version": "1.2.0",
      "model_name": "LayoutModel",
      "state": {
       "_model_module": "@jupyter-widgets/base",
       "_model_module_version": "1.2.0",
       "_model_name": "LayoutModel",
       "_view_count": null,
       "_view_module": "@jupyter-widgets/base",
       "_view_module_version": "1.2.0",
       "_view_name": "LayoutView",
       "align_content": null,
       "align_items": null,
       "align_self": null,
       "border": null,
       "bottom": null,
       "display": null,
       "flex": null,
       "flex_flow": null,
       "grid_area": null,
       "grid_auto_columns": null,
       "grid_auto_flow": null,
       "grid_auto_rows": null,
       "grid_column": null,
       "grid_gap": null,
       "grid_row": null,
       "grid_template_areas": null,
       "grid_template_columns": null,
       "grid_template_rows": null,
       "height": null,
       "justify_content": null,
       "justify_items": null,
       "left": null,
       "margin": null,
       "max_height": null,
       "max_width": null,
       "min_height": null,
       "min_width": null,
       "object_fit": null,
       "object_position": null,
       "order": null,
       "overflow": null,
       "overflow_x": null,
       "overflow_y": null,
       "padding": null,
       "right": null,
       "top": null,
       "visibility": null,
       "width": null
      }
     },
     "ed598a4e55a04e76833885fcc882dad5": {
      "model_module": "@jupyter-widgets/base",
      "model_module_version": "1.2.0",
      "model_name": "LayoutModel",
      "state": {
       "_model_module": "@jupyter-widgets/base",
       "_model_module_version": "1.2.0",
       "_model_name": "LayoutModel",
       "_view_count": null,
       "_view_module": "@jupyter-widgets/base",
       "_view_module_version": "1.2.0",
       "_view_name": "LayoutView",
       "align_content": null,
       "align_items": null,
       "align_self": null,
       "border": null,
       "bottom": null,
       "display": null,
       "flex": null,
       "flex_flow": null,
       "grid_area": null,
       "grid_auto_columns": null,
       "grid_auto_flow": null,
       "grid_auto_rows": null,
       "grid_column": null,
       "grid_gap": null,
       "grid_row": null,
       "grid_template_areas": null,
       "grid_template_columns": null,
       "grid_template_rows": null,
       "height": null,
       "justify_content": null,
       "justify_items": null,
       "left": null,
       "margin": null,
       "max_height": null,
       "max_width": null,
       "min_height": null,
       "min_width": null,
       "object_fit": null,
       "object_position": null,
       "order": null,
       "overflow": null,
       "overflow_x": null,
       "overflow_y": null,
       "padding": null,
       "right": null,
       "top": null,
       "visibility": null,
       "width": null
      }
     },
     "f0e7e1189c0746c2aa73356026e47130": {
      "model_module": "@jupyter-widgets/controls",
      "model_module_version": "1.5.0",
      "model_name": "DescriptionStyleModel",
      "state": {
       "_model_module": "@jupyter-widgets/controls",
       "_model_module_version": "1.5.0",
       "_model_name": "DescriptionStyleModel",
       "_view_count": null,
       "_view_module": "@jupyter-widgets/base",
       "_view_module_version": "1.2.0",
       "_view_name": "StyleView",
       "description_width": ""
      }
     }
    },
    "version_major": 2,
    "version_minor": 0
   }
  }
 },
 "nbformat": 4,
 "nbformat_minor": 5
}
